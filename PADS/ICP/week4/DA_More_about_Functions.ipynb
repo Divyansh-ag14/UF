{
  "cells": [
    {
      "cell_type": "markdown",
      "source": [
        "<font color='blue'> First of all, please “Copy to Drive” to get your own copy for editing. </font>\n",
        "\n",
        "<font color='red'> Run all the cells. For places with \"Complete the codes below\", please replace the \"XXX\" placeholder with your own codes.</font>"
      ],
      "metadata": {
        "id": "kijHHah896lg"
      },
      "id": "kijHHah896lg"
    },
    {
      "cell_type": "markdown",
      "source": [
        "# More about Functions\n",
        "\n",
        "...last time we talked about...\n",
        "* Function basics\n",
        "* **Lambda functions**: to define simple one-line functions. These functions are usually anonymous (not named) and are often used for small tasks."
      ],
      "metadata": {
        "id": "YhEF0Chsmj8c"
      },
      "id": "YhEF0Chsmj8c"
    },
    {
      "cell_type": "code",
      "source": [
        "# Example: Sort [(1, 2), (2, 0), (4, 1)] based on the 2nd item in the tuple.\n",
        "\n",
        "sorted([(1, 2), (2, 0), (4, 1)], key=lambda x: x[1]) #based on the 2nd item in the tuple"
      ],
      "metadata": {
        "id": "ChiggDSn9wFN",
        "colab": {
          "base_uri": "https://localhost:8080/"
        },
        "outputId": "a7247c1c-e337-462a-fb95-646fd099ad9d"
      },
      "id": "ChiggDSn9wFN",
      "execution_count": 1,
      "outputs": [
        {
          "output_type": "execute_result",
          "data": {
            "text/plain": [
              "[(2, 0), (4, 1), (1, 2)]"
            ]
          },
          "metadata": {},
          "execution_count": 1
        }
      ]
    },
    {
      "cell_type": "markdown",
      "source": [
        "**Not that basic**:\n",
        "* Higher Order Functions\n",
        "* **Variable Number of Parameters**\n",
        "* **Generators**\n",
        "* Decorators\n",
        "* Recursive Functions\n",
        "* ..."
      ],
      "metadata": {
        "id": "qR99NqFs_20-"
      },
      "id": "qR99NqFs_20-"
    },
    {
      "cell_type": "markdown",
      "source": [
        "## Higher Order Functions\n",
        "\n",
        "A higher-order function is a function that can **take another function as an argument** ."
      ],
      "metadata": {
        "id": "Dwm7t0li1yGi"
      },
      "id": "Dwm7t0li1yGi"
    },
    {
      "cell_type": "code",
      "source": [
        "# Define a higher-order function that applies a given function to each element in a list\n",
        "def apply_to_list(func, values):\n",
        "    return [func(x) for x in values]\n",
        "\n",
        "# Define some basic functions to pass as arguments\n",
        "def square(x):\n",
        "    return x ** 2\n",
        "\n",
        "def double(x):\n",
        "    return x * 2\n",
        "\n",
        "# Example usage of the higher-order function\n",
        "numbers = [1, 2, 3, 4, 5]\n",
        "\n",
        "squared_numbers = apply_to_list(square, numbers)\n",
        "doubled_numbers = apply_to_list(double, numbers)\n",
        "\n",
        "print(f\"Squared: {squared_numbers}\")  # Output: Squared: [1, 4, 9, 16, 25]\n",
        "print(f\"Doubled: {doubled_numbers}\")  # Output: Doubled: [2, 4, 6, 8, 10]\n"
      ],
      "metadata": {
        "id": "BfSF4zAU12bL",
        "colab": {
          "base_uri": "https://localhost:8080/"
        },
        "outputId": "b0dca728-da7d-402b-88ad-4d4a1eba767b"
      },
      "id": "BfSF4zAU12bL",
      "execution_count": 2,
      "outputs": [
        {
          "output_type": "stream",
          "name": "stdout",
          "text": [
            "Squared: [1, 4, 9, 16, 25]\n",
            "Doubled: [2, 4, 6, 8, 10]\n"
          ]
        }
      ]
    },
    {
      "cell_type": "markdown",
      "source": [
        "<font color='red'>Complete the codes in the cell below.  </font>"
      ],
      "metadata": {
        "id": "0F9cQ3Bt4G3M"
      },
      "id": "0F9cQ3Bt4G3M"
    },
    {
      "cell_type": "code",
      "source": [
        "def app_to_list(some_list, func):\n",
        "        return [func(x) for x in some_list]\n",
        "\n",
        "def double(x):\n",
        "       return x*2\n",
        "\n",
        "numlist = [2, 4, 6]\n",
        "\n",
        "# complete the code to get the output: [4,8,12]\n",
        "print(app_to_list(numlist, double)) # [4,8,12]"
      ],
      "metadata": {
        "id": "AmhCykNT3v99",
        "colab": {
          "base_uri": "https://localhost:8080/"
        },
        "outputId": "1e3e02e8-0b0a-4c19-8e20-e09a8d511784"
      },
      "id": "AmhCykNT3v99",
      "execution_count": 3,
      "outputs": [
        {
          "output_type": "stream",
          "name": "stdout",
          "text": [
            "[4, 8, 12]\n"
          ]
        }
      ]
    },
    {
      "cell_type": "markdown",
      "source": [
        "## Variable Number of Arguments\n",
        "<font color='blue'> When the **number of arguments** that will be passed into a function is **unknow**, `*args` and `**kwargs` can be used to denote variable number of positional and keyword arguments.\n",
        "* `*args` is used to denote an arbitrary number of positional arguments.\n",
        "* `**kwargs` allows you to pass a variable number of keyword arguments. `**kwargs` is a dictionary."
      ],
      "metadata": {
        "id": "WokJLtOpA4mS"
      },
      "id": "WokJLtOpA4mS"
    },
    {
      "cell_type": "markdown",
      "source": [
        "Example: https://pandas.pydata.org/docs/reference/api/pandas.DataFrame.plot.html"
      ],
      "metadata": {
        "id": "fcRmlftdKnyT"
      },
      "id": "fcRmlftdKnyT"
    },
    {
      "cell_type": "code",
      "source": [
        "def print_order(*args, **kwargs):\n",
        "    # When the number of arguments is unknow, *args can be used for positional\n",
        "    print(\"Items ordered:\")\n",
        "    for item in args:\n",
        "        print(f\"- {item}\")\n",
        "\n",
        "    # Handling keyword arguments (**kwargs)\n",
        "    print(\"\\nAdditional details:\")\n",
        "    for key, value in kwargs.items():\n",
        "        print(f\"{key}: {value}\")\n",
        "\n",
        "# Example usage\n",
        "print_order(\"Pizza\", \"Pasta\", \"Salad\", name=\"John\", table=5, takeout=False)"
      ],
      "metadata": {
        "id": "vs-dkS4KwlJy",
        "colab": {
          "base_uri": "https://localhost:8080/"
        },
        "outputId": "6d9c93b0-0ef7-4fe2-89ce-8e20ed810619"
      },
      "id": "vs-dkS4KwlJy",
      "execution_count": 4,
      "outputs": [
        {
          "output_type": "stream",
          "name": "stdout",
          "text": [
            "Items ordered:\n",
            "- Pizza\n",
            "- Pasta\n",
            "- Salad\n",
            "\n",
            "Additional details:\n",
            "name: John\n",
            "table: 5\n",
            "takeout: False\n"
          ]
        }
      ]
    },
    {
      "cell_type": "markdown",
      "source": [
        "<font color='red'>Complete the codes in the cell below.  </font>"
      ],
      "metadata": {
        "id": "SA9uz3mL5FQo"
      },
      "id": "SA9uz3mL5FQo"
    },
    {
      "cell_type": "code",
      "source": [
        "def team(*args, **kwargs):\n",
        "    print(\"Members: \", end=\"\")\n",
        "    for arg in args:\n",
        "        print(arg, end=\" \")\n",
        "    print()\n",
        "    for key, value in kwargs.items():\n",
        "        print(f'{key}:{value}')\n",
        "    print()\n",
        "\n",
        "team(\"Sally\", \"Tom\", \"Adam\", Project='TicTacToe', Status=\"incomplete\")\n",
        "\n",
        "# expected output:\n",
        "# Members: Sally Tom Adam\n",
        "# Project:TicTacToe\n",
        "# Status:incomplete"
      ],
      "metadata": {
        "colab": {
          "base_uri": "https://localhost:8080/"
        },
        "id": "R0SxddxM5QM_",
        "outputId": "6df0392a-6d7b-44c3-837e-f834825a4591"
      },
      "id": "R0SxddxM5QM_",
      "execution_count": 5,
      "outputs": [
        {
          "output_type": "stream",
          "name": "stdout",
          "text": [
            "Members: Sally Tom Adam \n",
            "Project:TicTacToe\n",
            "Status:incomplete\n",
            "\n"
          ]
        }
      ]
    },
    {
      "cell_type": "code",
      "source": [
        "import pandas as pd\n",
        "\n",
        "# Function to calculate summary statistics for multiple columns\n",
        "def summary_statistics(df, *args, **kwargs):\n",
        "    stats = {}\n",
        "\n",
        "    # Calculate summary stats for each column in *args\n",
        "    for column in args:\n",
        "        stats[column] = {\n",
        "            'mean': df[column].mean(),\n",
        "            'median': df[column].median(),\n",
        "            'std': df[column].std(),\n",
        "            **kwargs  # Adding any extra statistics passed via **kwargs\n",
        "        }\n",
        "\n",
        "    return pd.DataFrame(stats)\n",
        "\n",
        "# Example DataFrame\n",
        "data = {\n",
        "    'age': [25, 32, 47, 51, 62],\n",
        "    'income': [50000, 64000, 80000, 72000, 85000],\n",
        "    'expenses': [1500, 2000, 2200, 2100, 1900]\n",
        "}\n",
        "\n",
        "df = pd.DataFrame(data)\n",
        "\n",
        "# Example usage\n",
        "# Passing 'age' and 'income' columns with an additional 'min' statistic through **kwargs\n",
        "extra_stats = {'min': lambda x: df[x].min()}\n",
        "summary = summary_statistics(df, 'age', 'income', **extra_stats)\n",
        "\n",
        "print(summary)\n"
      ],
      "metadata": {
        "id": "Xfw59s44xlsj",
        "colab": {
          "base_uri": "https://localhost:8080/"
        },
        "outputId": "7e276cef-ca23-438a-bfc7-e89af2b72a37"
      },
      "id": "Xfw59s44xlsj",
      "execution_count": 6,
      "outputs": [
        {
          "output_type": "stream",
          "name": "stdout",
          "text": [
            "                                          age  \\\n",
            "mean                                     43.4   \n",
            "median                                   47.0   \n",
            "std                                 14.876155   \n",
            "min     <function <lambda> at 0x7f555aff4b80>   \n",
            "\n",
            "                                       income  \n",
            "mean                                  70200.0  \n",
            "median                                72000.0  \n",
            "std                              13827.508814  \n",
            "min     <function <lambda> at 0x7f555aff4b80>  \n"
          ]
        }
      ]
    },
    {
      "cell_type": "markdown",
      "source": [
        "As shown in the example above, the function calculates the mean, median, and standard deviation for the age and income columns, and then dynamically adds the min statistic using **kwargs.\n",
        "* `*args`: Allows you to pass any number of columns from the DataFrame for which you want to calculate statistics.\n",
        "* `**kwargs`: This can be used to dynamically add any additional summary statistics, such as min, max, or custom functions.\n"
      ],
      "metadata": {
        "id": "1_mV4T7Hxpbu"
      },
      "id": "1_mV4T7Hxpbu"
    },
    {
      "cell_type": "markdown",
      "source": [
        "<font color='blue'> In Python, you can also use `*` to force arguments after `*` to be passed as keyword-only arguments. This means that after `*`, you must specify the argument name when calling the function.\n",
        "\n",
        "Example: https://scikit-learn.org/stable/modules/generated/sklearn.model_selection.GridSearchCV.html"
      ],
      "metadata": {
        "id": "pExrRcBTLHmD"
      },
      "id": "pExrRcBTLHmD"
    },
    {
      "cell_type": "code",
      "source": [
        "def my_function(a, b, *, c):\n",
        "    print(a, b, c)\n",
        "\n",
        "# Example usage:\n",
        "my_function(1, 2, c=3)  # Output: 1 2 3"
      ],
      "metadata": {
        "id": "8TXU1vQYLKm-",
        "colab": {
          "base_uri": "https://localhost:8080/"
        },
        "outputId": "8371fc9b-2845-4838-9378-772c1eefdf80"
      },
      "id": "8TXU1vQYLKm-",
      "execution_count": 7,
      "outputs": [
        {
          "output_type": "stream",
          "name": "stdout",
          "text": [
            "1 2 3\n"
          ]
        }
      ]
    },
    {
      "cell_type": "markdown",
      "source": [
        "`*(in function calls)`: Unpacks a sequence into positional arguments."
      ],
      "metadata": {
        "id": "0tXcFUqtMXfp"
      },
      "id": "0tXcFUqtMXfp"
    },
    {
      "cell_type": "code",
      "source": [
        "def add(x, y, z):\n",
        "    return x + y + z\n",
        "\n",
        "numbers = [1, 2, 3]\n",
        "print(add(*numbers))  # unpack a list\n",
        "\n",
        "# Output: 6"
      ],
      "metadata": {
        "id": "tp0gDBqgMUqb",
        "colab": {
          "base_uri": "https://localhost:8080/"
        },
        "outputId": "f9d6c806-23ec-4a89-9862-f941d9c84e50"
      },
      "id": "tp0gDBqgMUqb",
      "execution_count": 8,
      "outputs": [
        {
          "output_type": "stream",
          "name": "stdout",
          "text": [
            "6\n"
          ]
        }
      ]
    },
    {
      "cell_type": "markdown",
      "source": [
        "* <font color='red'> `*args`: Collects an arbitrary number of positional arguments into a tuple.\n",
        "* <font color='red'> `*`: Can be used to enforce keyword-only arguments.\n",
        "* <font color='red'> `*(in function calls)`: Unpacks a sequence into positional arguments.\n",
        "* <font color='red'> `**kwargs`: Collects an arbitrary number of keyword arguments into a dictionary."
      ],
      "metadata": {
        "id": "-MwYyocpLmmZ"
      },
      "id": "-MwYyocpLmmZ"
    },
    {
      "cell_type": "markdown",
      "source": [
        "## Generators\n",
        "Many objects in Python support **iteration**, such as over objects in a list or lines in a file. This is accomplished by means of the iterator protocol, a generic way to make objects iterable."
      ],
      "metadata": {
        "id": "KQ-J8HHCmyd9"
      },
      "id": "KQ-J8HHCmyd9"
    },
    {
      "cell_type": "code",
      "source": [
        "some_dict = {\"a\": 1, \"b\": 2, \"c\": 3}\n",
        "for key in some_dict:\n",
        "    print(key)"
      ],
      "metadata": {
        "id": "u6sP28xYm7Xc",
        "colab": {
          "base_uri": "https://localhost:8080/"
        },
        "outputId": "d907b35b-108e-4822-d2f5-0059b3fc3f9e"
      },
      "id": "u6sP28xYm7Xc",
      "execution_count": 9,
      "outputs": [
        {
          "output_type": "stream",
          "name": "stdout",
          "text": [
            "a\n",
            "b\n",
            "c\n"
          ]
        }
      ]
    },
    {
      "cell_type": "markdown",
      "source": [
        "When you write `for key in some_dict`, the Python interpreter first attempts to create an iterator out of `some_dict`:"
      ],
      "metadata": {
        "id": "lKvoWEhKm93s"
      },
      "id": "lKvoWEhKm93s"
    },
    {
      "cell_type": "code",
      "source": [
        "dict_iterator = iter(some_dict)\n",
        "dict_iterator"
      ],
      "metadata": {
        "id": "qHRl6mbzm-ds",
        "colab": {
          "base_uri": "https://localhost:8080/"
        },
        "outputId": "29da55a3-7a97-4822-e7e6-50ca41c5143f"
      },
      "id": "qHRl6mbzm-ds",
      "execution_count": 10,
      "outputs": [
        {
          "output_type": "execute_result",
          "data": {
            "text/plain": [
              "<dict_keyiterator at 0x7f555a65d350>"
            ]
          },
          "metadata": {},
          "execution_count": 10
        }
      ]
    },
    {
      "cell_type": "markdown",
      "source": [
        "An iterator is any object that will yield objects to the Python interpreter when used in a context like a for loop. This includes built-in methods such as **`min()`**, **`max()`**, and **`sum()`**, and type constructors like **`list()`** and **`tuple()`**:"
      ],
      "metadata": {
        "id": "M6eMqJQBnIzc"
      },
      "id": "M6eMqJQBnIzc"
    },
    {
      "cell_type": "code",
      "source": [
        "list(dict_iterator)"
      ],
      "metadata": {
        "id": "TWQ5V2T6nJSt",
        "colab": {
          "base_uri": "https://localhost:8080/"
        },
        "outputId": "51aacbbb-4f7c-4140-a6e2-c327d4801800"
      },
      "id": "TWQ5V2T6nJSt",
      "execution_count": 11,
      "outputs": [
        {
          "output_type": "execute_result",
          "data": {
            "text/plain": [
              "['a', 'b', 'c']"
            ]
          },
          "metadata": {},
          "execution_count": 11
        }
      ]
    },
    {
      "cell_type": "markdown",
      "source": [
        "**DEFINITION:**\n",
        "\n",
        "A **generator** is a convenient way, similar to writing a normal function, to construct a new iterable object. Whereas normal functions execute and return a single result at a time, generators can return a sequence of multiple values by pausing and resuming execution each time the generator is used.\n",
        "\n",
        "<font color='blue'>To create a generator, use the **`yield`** keyword instead of **`return`** in a function:"
      ],
      "metadata": {
        "id": "w5XBgUDaGRBn"
      },
      "id": "w5XBgUDaGRBn"
    },
    {
      "cell_type": "code",
      "source": [
        "def squares(n=10):\n",
        "    print(f\"Generating squares from 1 to {n ** 2}\")\n",
        "    for i in range(1, n + 1):\n",
        "        yield i ** 2"
      ],
      "metadata": {
        "id": "BZwKWbARGtvY"
      },
      "id": "BZwKWbARGtvY",
      "execution_count": 12,
      "outputs": []
    },
    {
      "cell_type": "code",
      "source": [
        "# When you actually call the generator, no code is immediately executed\n",
        "gen = squares()\n",
        "gen"
      ],
      "metadata": {
        "id": "tDukPi7NGucJ",
        "colab": {
          "base_uri": "https://localhost:8080/"
        },
        "outputId": "4fbee317-6309-4647-c9ab-482cc3f4cf1a"
      },
      "id": "tDukPi7NGucJ",
      "execution_count": 13,
      "outputs": [
        {
          "output_type": "execute_result",
          "data": {
            "text/plain": [
              "<generator object squares at 0x7f552852d620>"
            ]
          },
          "metadata": {},
          "execution_count": 13
        }
      ]
    },
    {
      "cell_type": "code",
      "source": [
        "#It is not until you request elements from the generator that it begins executing its code:\n",
        "for x in gen:\n",
        "    print(x, end=\" \")"
      ],
      "metadata": {
        "id": "viMsgPduGwUn",
        "colab": {
          "base_uri": "https://localhost:8080/"
        },
        "outputId": "8d6e3712-3cd0-430f-e565-b463fe6ffe7c"
      },
      "id": "viMsgPduGwUn",
      "execution_count": 14,
      "outputs": [
        {
          "output_type": "stream",
          "name": "stdout",
          "text": [
            "Generating squares from 1 to 100\n",
            "1 4 9 16 25 36 49 64 81 100 "
          ]
        }
      ]
    },
    {
      "cell_type": "code",
      "source": [
        "gen2 = squares(12)\n",
        "for x in gen2:\n",
        "  print(x, end=\"|\")"
      ],
      "metadata": {
        "id": "LxNx8yPdGyTH",
        "colab": {
          "base_uri": "https://localhost:8080/"
        },
        "outputId": "ae77182f-922e-4a0c-cf70-4f088e0d3da6"
      },
      "id": "LxNx8yPdGyTH",
      "execution_count": 15,
      "outputs": [
        {
          "output_type": "stream",
          "name": "stdout",
          "text": [
            "Generating squares from 1 to 144\n",
            "1|4|9|16|25|36|49|64|81|100|121|144|"
          ]
        }
      ]
    },
    {
      "cell_type": "markdown",
      "source": [
        "<font color='red'>Complete the codes in the cell below. Please replace the \"XXX\" placeholder with your own codes. </font>"
      ],
      "metadata": {
        "id": "JA5OF4HnH1Rf"
      },
      "id": "JA5OF4HnH1Rf"
    },
    {
      "cell_type": "code",
      "source": [
        "def cubes(n=10):\n",
        "    print(f\"Generating cubes from 1 to {n}\")\n",
        "    for i in range(1, n + 1):\n",
        "        yield i**3\n",
        "\n",
        "gen3 = cubes(4)\n",
        "for item in gen3:\n",
        "  print(item, end=\"|\")\n",
        "\n",
        "# Generating cubes from 1 to 1000\n",
        "# 1|8|27|64|125|216|343|512|729|1000|"
      ],
      "metadata": {
        "id": "FpI8OIkY-2Do",
        "colab": {
          "base_uri": "https://localhost:8080/"
        },
        "outputId": "2374f894-038a-4f96-dad3-99f8daa43a98"
      },
      "id": "FpI8OIkY-2Do",
      "execution_count": 17,
      "outputs": [
        {
          "output_type": "stream",
          "name": "stdout",
          "text": [
            "Generating cubes from 1 to 4\n",
            "1|8|27|64|"
          ]
        }
      ]
    },
    {
      "cell_type": "markdown",
      "source": [
        "### Generator expressions\n",
        "Another way to make a generator is by using a generator expression. This is a generator analogue to list, dictionary, and set comprehensions."
      ],
      "metadata": {
        "id": "X7214TQzHc1X"
      },
      "id": "X7214TQzHc1X"
    },
    {
      "cell_type": "code",
      "source": [
        "gen = (x ** 2 for x in range(100))\n",
        "gen"
      ],
      "metadata": {
        "id": "ogotZ-u1HiS6",
        "colab": {
          "base_uri": "https://localhost:8080/"
        },
        "outputId": "43af368c-4c36-452f-c918-b905982785c0"
      },
      "id": "ogotZ-u1HiS6",
      "execution_count": 18,
      "outputs": [
        {
          "output_type": "execute_result",
          "data": {
            "text/plain": [
              "<generator object <genexpr> at 0x7f5527af5d20>"
            ]
          },
          "metadata": {},
          "execution_count": 18
        }
      ]
    },
    {
      "cell_type": "markdown",
      "source": [
        "Generator expressions can be used instead of list comprehensions as function arguments in some cases:"
      ],
      "metadata": {
        "id": "aTRDGGaGHjDH"
      },
      "id": "aTRDGGaGHjDH"
    },
    {
      "cell_type": "code",
      "source": [
        "sum(x ** 2 for x in range(100)) # Generates squares of numbers without creating a list in memory, then sum()."
      ],
      "metadata": {
        "id": "mr2yXcAyHlXB",
        "colab": {
          "base_uri": "https://localhost:8080/"
        },
        "outputId": "42fe6285-a1aa-4bbf-e3aa-0f29c7e8a309"
      },
      "id": "mr2yXcAyHlXB",
      "execution_count": 19,
      "outputs": [
        {
          "output_type": "execute_result",
          "data": {
            "text/plain": [
              "328350"
            ]
          },
          "metadata": {},
          "execution_count": 19
        }
      ]
    },
    {
      "cell_type": "code",
      "source": [
        "dict((i, i ** 2) for i in range(5))"
      ],
      "metadata": {
        "id": "EyKGfwbpHti4",
        "colab": {
          "base_uri": "https://localhost:8080/"
        },
        "outputId": "4f58c81f-ecca-41f6-ba2f-3f1c93c14874"
      },
      "id": "EyKGfwbpHti4",
      "execution_count": 20,
      "outputs": [
        {
          "output_type": "execute_result",
          "data": {
            "text/plain": [
              "{0: 0, 1: 1, 2: 4, 3: 9, 4: 16}"
            ]
          },
          "metadata": {},
          "execution_count": 20
        }
      ]
    },
    {
      "cell_type": "markdown",
      "source": [
        "Depending on the number of elements produced by the comprehension expression, the generator version can sometimes be meaningfully faster."
      ],
      "metadata": {
        "id": "zX4UMQ6XHxC_"
      },
      "id": "zX4UMQ6XHxC_"
    },
    {
      "cell_type": "code",
      "source": [
        "# A function that adds one to every number\n",
        "def process_iterator(numbers):\n",
        "    lst = []\n",
        "    for number in numbers:\n",
        "        lst.append(number+1)\n",
        "\n",
        "    return lst\n",
        "\n",
        "# Use a generator expression (that generates cubes of numbers up until number 10) as the function argument\n",
        "process_iterator(i**3 for i in range(11)) # [1, 2, 9, 28, 65, 126, 217, 344, 513, 730, 1001]"
      ],
      "metadata": {
        "id": "IR9GTHrbH3Xn",
        "colab": {
          "base_uri": "https://localhost:8080/"
        },
        "outputId": "b55acb2e-37e0-4eb1-f21d-bf31b927f086"
      },
      "id": "IR9GTHrbH3Xn",
      "execution_count": 21,
      "outputs": [
        {
          "output_type": "execute_result",
          "data": {
            "text/plain": [
              "[1, 2, 9, 28, 65, 126, 217, 344, 513, 730, 1001]"
            ]
          },
          "metadata": {},
          "execution_count": 21
        }
      ]
    },
    {
      "cell_type": "markdown",
      "source": [
        "### itertools module (optional)"
      ],
      "metadata": {
        "id": "XDCqCQoAIdeY"
      },
      "id": "XDCqCQoAIdeY"
    },
    {
      "cell_type": "markdown",
      "source": [
        "The standard library **`itertools`** module has a collection of generators for many common data algorithms. For example, **`groupby`** takes any sequence and a function, grouping consecutive elements in the sequence by return value of the function."
      ],
      "metadata": {
        "id": "a0Je8082If9C"
      },
      "id": "a0Je8082If9C"
    },
    {
      "cell_type": "code",
      "source": [
        "import itertools\n",
        "def first_letter(x):\n",
        "    return x[0]\n",
        "\n",
        "names = [\"Alan\", \"Adam\", \"Wes\", \"Will\", \"Albert\", \"Steven\"]\n",
        "\n",
        "for letter, group in itertools.groupby(names, first_letter):\n",
        "    print(letter, list(group)) # group is a generator"
      ],
      "metadata": {
        "id": "PiZZoC8pId9o",
        "colab": {
          "base_uri": "https://localhost:8080/"
        },
        "outputId": "8bf77eac-7a50-4b78-e401-d151528b7490"
      },
      "id": "PiZZoC8pId9o",
      "execution_count": 22,
      "outputs": [
        {
          "output_type": "stream",
          "name": "stdout",
          "text": [
            "A ['Alan', 'Adam']\n",
            "W ['Wes', 'Will']\n",
            "A ['Albert']\n",
            "S ['Steven']\n"
          ]
        }
      ]
    },
    {
      "cell_type": "markdown",
      "source": [
        "**EXPLANATION:**\n",
        "\n",
        "`itertools.groupby(names, first_letter)`: This function takes an iterable (`names` in this case) and groups consecutive identical elements based on the key function (`first_letter`). It returns an iterator where each element is a tuple (**key**, **group**), where **key** is the value of the key function for the group (in this case `letter`), and **group** is an iterator that produces the grouped elements."
      ],
      "metadata": {
        "id": "G-O539NCIjn3"
      },
      "id": "G-O539NCIjn3"
    },
    {
      "cell_type": "markdown",
      "source": [
        "**SOME USEFUL ITERTOOLS FUNCTIONS:**\n",
        "\n",
        "* **`chain(*iterables)`**: Generates a sequence by chaining iterators together. Once elements from the first iterator are                                  exhausted, elements from the next iterator are returned, and so on.\n",
        "\n",
        "\n",
        "* **`combinations(iterable, k)`**: Generates a sequence of all possible k-tuples of elements in the iterable, ignoring order and                                    without replacement\n",
        "\n",
        "\n",
        "* **`permutations(iterable, k)`**: Generates a sequence of all possible k-tuples of elements in the iterable, respecting order.\n",
        "\n",
        "\n",
        "* **`groupby(iterable[, keyfunc])`**: Generates `(key, sub-iterator)` for each unique key.\n",
        "\n",
        "\n",
        "* **`product(*iterables, repeat=1)`**: Generates the Cartesian product of the input iterables as tuples, similar to a nested                                            `for` loop."
      ],
      "metadata": {
        "id": "j2keHvxDIrMT"
      },
      "id": "j2keHvxDIrMT"
    }
  ],
  "metadata": {
    "kernelspec": {
      "display_name": "Python 3 (ipykernel)",
      "language": "python",
      "name": "python3"
    },
    "language_info": {
      "codemirror_mode": {
        "name": "ipython",
        "version": 3
      },
      "file_extension": ".py",
      "mimetype": "text/x-python",
      "name": "python",
      "nbconvert_exporter": "python",
      "pygments_lexer": "ipython3",
      "version": "3.11.5"
    },
    "colab": {
      "provenance": []
    }
  },
  "nbformat": 4,
  "nbformat_minor": 5
}