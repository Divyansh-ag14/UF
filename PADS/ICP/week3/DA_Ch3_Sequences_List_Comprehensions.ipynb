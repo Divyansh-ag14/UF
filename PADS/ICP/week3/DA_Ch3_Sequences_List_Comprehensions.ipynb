{
  "cells": [
    {
      "cell_type": "markdown",
      "source": [
        "<font color='blue'> First of all, please “Copy to Drive” to get your own copy for editing. </font>\n",
        "\n",
        "<font color='red'> Run all the cells. For places with \"Complete the codes below\", please replace the \"XXX\" placeholder with your own codes.</font>"
      ],
      "metadata": {
        "id": "epq7clEBAC68"
      },
      "id": "epq7clEBAC68"
    },
    {
      "cell_type": "markdown",
      "id": "b0c3eca8",
      "metadata": {
        "id": "b0c3eca8"
      },
      "source": [
        "# Ch 3.1 Data Structures and Sequences\n",
        "\n",
        "Python’s data structures are simple but powerful. We start with tuple, list, and dictionary, which are some of the most frequently used sequence types."
      ]
    },
    {
      "cell_type": "markdown",
      "source": [
        "## Built-In Sequence Functions\n",
        "\n",
        "Python has a handful of useful sequence functions that you should familiarize yourself with and use at any opportunity."
      ],
      "metadata": {
        "id": "JmjHYDvGfuMO"
      },
      "id": "JmjHYDvGfuMO"
    },
    {
      "cell_type": "markdown",
      "source": [
        "### <font color='blue'> **enumerate( )** </font>\n",
        "\n",
        "The enumerate function returns a **sequence of (i, value) tuples**"
      ],
      "metadata": {
        "id": "AX23MTBZgKj7"
      },
      "id": "AX23MTBZgKj7"
    },
    {
      "cell_type": "markdown",
      "source": [
        "It is common when iterating over a sequence to want to keep track of the index of the current item. A do-it-yourself approach would look like:\n",
        "\n",
        "\n",
        "```\n",
        "index = 0\n",
        "for value in collection:\n",
        "   # do something with value\n",
        "   index += 1\n",
        "```\n",
        "\n"
      ],
      "metadata": {
        "id": "7lXtTuwsghqL"
      },
      "id": "7lXtTuwsghqL"
    },
    {
      "cell_type": "code",
      "source": [
        "index = 0\n",
        "for value in [3, 4, 'hello', '!!!']:\n",
        "   print(value)\n",
        "   index += 1"
      ],
      "metadata": {
        "id": "EitUu2L6MDHZ",
        "colab": {
          "base_uri": "https://localhost:8080/"
        },
        "outputId": "722b6a57-20e5-49e4-ff30-cccc886c2c8e"
      },
      "id": "EitUu2L6MDHZ",
      "execution_count": 1,
      "outputs": [
        {
          "output_type": "stream",
          "name": "stdout",
          "text": [
            "3\n",
            "4\n",
            "hello\n",
            "!!!\n"
          ]
        }
      ]
    },
    {
      "cell_type": "markdown",
      "source": [
        "Since this is so common, Python has a built-in function, enumerate, which returns a **sequence of (i, value) tuples**:\n",
        "\n",
        "\n",
        "\n",
        "```\n",
        "for index, value in enumerate(collection):\n",
        "   # do something with value\n",
        "```\n",
        "\n"
      ],
      "metadata": {
        "id": "9Mca2FL9gqgv"
      },
      "id": "9Mca2FL9gqgv"
    },
    {
      "cell_type": "code",
      "source": [
        "mylist = [3, 4, 'hello', '!!!']\n",
        "for i, item in enumerate(mylist):\n",
        "    print(f\"{i}. {item}\")"
      ],
      "metadata": {
        "id": "SigSyDJTR1iV",
        "colab": {
          "base_uri": "https://localhost:8080/"
        },
        "outputId": "cadf4826-5d81-49ee-a426-a7aab17ca463"
      },
      "id": "SigSyDJTR1iV",
      "execution_count": 2,
      "outputs": [
        {
          "output_type": "stream",
          "name": "stdout",
          "text": [
            "0. 3\n",
            "1. 4\n",
            "2. hello\n",
            "3. !!!\n"
          ]
        }
      ]
    },
    {
      "cell_type": "code",
      "source": [
        "# a list of lists\n",
        "\n",
        "movie_list1 = [[\"Monty Python and the Holy Grail\", 1975],\n",
        "               [\"On the Waterfront\", 1954],\n",
        "               [\"Cat on a Hot Tin Roof\", 1958]]\n",
        "\n",
        "# using enumerate method\n",
        "for i, movie in enumerate(movie_list1, start=1):\n",
        "    print(f\"{i}. {movie[0]} ({movie[1]})\")\n",
        "print()"
      ],
      "metadata": {
        "id": "CAw-qCRmLcJA",
        "colab": {
          "base_uri": "https://localhost:8080/"
        },
        "outputId": "b7b2ecad-651b-458e-b2c8-1a05be46b529"
      },
      "id": "CAw-qCRmLcJA",
      "execution_count": 3,
      "outputs": [
        {
          "output_type": "stream",
          "name": "stdout",
          "text": [
            "1. Monty Python and the Holy Grail (1975)\n",
            "2. On the Waterfront (1954)\n",
            "3. Cat on a Hot Tin Roof (1958)\n",
            "\n"
          ]
        }
      ]
    },
    {
      "cell_type": "markdown",
      "source": [
        "### <font color='blue'> **sorted( )** </font>\n",
        "\n",
        "The sorted function **returns a new sorted list** from the elements of any sequence:"
      ],
      "metadata": {
        "id": "iVT4LhCigUE1"
      },
      "id": "iVT4LhCigUE1"
    },
    {
      "cell_type": "code",
      "source": [
        "sorted([7, 1, 2, 6, 0, 3, 2])    # [0, 1, 2, 2, 3, 6, 7]"
      ],
      "metadata": {
        "id": "Sdx-2_6EgvgN",
        "colab": {
          "base_uri": "https://localhost:8080/"
        },
        "outputId": "6569a59d-b851-4ad4-ef3a-d2a83dacbcd7"
      },
      "id": "Sdx-2_6EgvgN",
      "execution_count": 4,
      "outputs": [
        {
          "output_type": "execute_result",
          "data": {
            "text/plain": [
              "[0, 1, 2, 2, 3, 6, 7]"
            ]
          },
          "metadata": {},
          "execution_count": 4
        }
      ]
    },
    {
      "cell_type": "code",
      "source": [
        "sorted(\"horse race\")  # [' ', 'a', 'c', 'e', 'e', 'h', 'o', 'r', 'r', 's']"
      ],
      "metadata": {
        "id": "tXxtceyLgz7P",
        "colab": {
          "base_uri": "https://localhost:8080/"
        },
        "outputId": "9d58f8f1-1f90-47ea-febf-3a183fc892a0"
      },
      "id": "tXxtceyLgz7P",
      "execution_count": 5,
      "outputs": [
        {
          "output_type": "execute_result",
          "data": {
            "text/plain": [
              "[' ', 'a', 'c', 'e', 'e', 'h', 'o', 'r', 'r', 's']"
            ]
          },
          "metadata": {},
          "execution_count": 5
        }
      ]
    },
    {
      "cell_type": "markdown",
      "source": [
        "### <font color='blue'> **zip( )** </font>\n",
        "\n",
        "zip “pairs” up the elements of a number of lists, tuples, or other sequences to **create a list of tuples**:"
      ],
      "metadata": {
        "id": "MeJo8eEIgUp-"
      },
      "id": "MeJo8eEIgUp-"
    },
    {
      "cell_type": "code",
      "source": [
        "seq1 = [\"foo\", \"bar\", \"baz\"]\n",
        "seq2 = [\"one\", \"two\", \"three\"]\n",
        "\n",
        "zipped = zip(seq1, seq2)\n",
        "list(zipped)"
      ],
      "metadata": {
        "id": "P4zdwOrphGIZ",
        "colab": {
          "base_uri": "https://localhost:8080/"
        },
        "outputId": "03f02b2e-a584-4d75-f9e8-4dbf6c9c77df"
      },
      "id": "P4zdwOrphGIZ",
      "execution_count": 6,
      "outputs": [
        {
          "output_type": "execute_result",
          "data": {
            "text/plain": [
              "[('foo', 'one'), ('bar', 'two'), ('baz', 'three')]"
            ]
          },
          "metadata": {},
          "execution_count": 6
        }
      ]
    },
    {
      "cell_type": "markdown",
      "source": [
        "zip can take an arbitrary number of sequences, and the number of elements it produces is determined by the shortest sequence:"
      ],
      "metadata": {
        "id": "AZres5hZhPpa"
      },
      "id": "AZres5hZhPpa"
    },
    {
      "cell_type": "code",
      "source": [
        "seq3 = [False, True]\n",
        "\n",
        "list(zip(seq1, seq2, seq3))  #[('foo', 'one', False), ('bar', 'two', True)]"
      ],
      "metadata": {
        "id": "R7GaqoqChOpm",
        "colab": {
          "base_uri": "https://localhost:8080/"
        },
        "outputId": "d676b9a7-786a-4353-8808-2ad367cdc4ae"
      },
      "id": "R7GaqoqChOpm",
      "execution_count": 7,
      "outputs": [
        {
          "output_type": "execute_result",
          "data": {
            "text/plain": [
              "[('foo', 'one', False), ('bar', 'two', True)]"
            ]
          },
          "metadata": {},
          "execution_count": 7
        }
      ]
    },
    {
      "cell_type": "markdown",
      "source": [
        "A common use of zip is simultaneously iterating over multiple sequences, possibly also combined with enumerate:"
      ],
      "metadata": {
        "id": "RCdR-rU7hYN7"
      },
      "id": "RCdR-rU7hYN7"
    },
    {
      "cell_type": "code",
      "source": [
        "for index, (a, b) in enumerate(zip(seq1, seq2)):\n",
        "  print(f\"{index}: {a}, {b}\")"
      ],
      "metadata": {
        "id": "aCC_-V1khZe5",
        "colab": {
          "base_uri": "https://localhost:8080/"
        },
        "outputId": "f0942c25-00e5-4dd5-a670-4a06cff70454"
      },
      "id": "aCC_-V1khZe5",
      "execution_count": 8,
      "outputs": [
        {
          "output_type": "stream",
          "name": "stdout",
          "text": [
            "0: foo, one\n",
            "1: bar, two\n",
            "2: baz, three\n"
          ]
        }
      ]
    },
    {
      "cell_type": "code",
      "source": [
        "# If you have two sequences that you want to pair up element-wise in a dictionary, you might try to do this:\n",
        "mapping = {}\n",
        "key_list = [1, 2, 3]\n",
        "value_list = ['a', 'b', 'c']\n",
        "\n",
        "for key, value in zip(key_list, value_list):\n",
        "    mapping[key] = value\n",
        "\n",
        "mapping"
      ],
      "metadata": {
        "id": "w91EgT2xJG9C",
        "colab": {
          "base_uri": "https://localhost:8080/"
        },
        "outputId": "4d5ce8d4-72a9-4796-8e3c-2376fb287eab"
      },
      "id": "w91EgT2xJG9C",
      "execution_count": 9,
      "outputs": [
        {
          "output_type": "execute_result",
          "data": {
            "text/plain": [
              "{1: 'a', 2: 'b', 3: 'c'}"
            ]
          },
          "metadata": {},
          "execution_count": 9
        }
      ]
    },
    {
      "cell_type": "code",
      "source": [
        "keys = [1, 2, 3]\n",
        "values = ['a', 'b', 'c']\n",
        "\n",
        "# Combine the lists into a list of tuples\n",
        "tuples = zip(keys, values)\n",
        "\n",
        "# Create a dictionary from the list of tuples\n",
        "mapping = dict(tuples)\n",
        "\n",
        "mapping"
      ],
      "metadata": {
        "id": "KR-ri1gNJlQJ",
        "colab": {
          "base_uri": "https://localhost:8080/"
        },
        "outputId": "42799db7-5079-4ae1-d37d-633f61f560bd"
      },
      "id": "KR-ri1gNJlQJ",
      "execution_count": 10,
      "outputs": [
        {
          "output_type": "execute_result",
          "data": {
            "text/plain": [
              "{1: 'a', 2: 'b', 3: 'c'}"
            ]
          },
          "metadata": {},
          "execution_count": 10
        }
      ]
    },
    {
      "cell_type": "markdown",
      "source": [
        "### <font color='blue'> **reversed( )** </font>\n",
        "\n",
        "reversed iterates over the elements of a sequence in reverse order:"
      ],
      "metadata": {
        "id": "hbseB83LgVAN"
      },
      "id": "hbseB83LgVAN"
    },
    {
      "cell_type": "code",
      "source": [
        "list(reversed(range(10)))  # [9, 8, 7, 6, 5, 4, 3, 2, 1, 0]"
      ],
      "metadata": {
        "id": "RRg78G7ehlJY",
        "colab": {
          "base_uri": "https://localhost:8080/"
        },
        "outputId": "e9811a12-8b4a-413a-f10d-28eb0aa2c24d"
      },
      "id": "RRg78G7ehlJY",
      "execution_count": 11,
      "outputs": [
        {
          "output_type": "execute_result",
          "data": {
            "text/plain": [
              "[9, 8, 7, 6, 5, 4, 3, 2, 1, 0]"
            ]
          },
          "metadata": {},
          "execution_count": 11
        }
      ]
    },
    {
      "cell_type": "markdown",
      "id": "bbeac3bf",
      "metadata": {
        "id": "bbeac3bf"
      },
      "source": [
        "## List, Set, and Dictionary Comprehensions"
      ]
    },
    {
      "cell_type": "markdown",
      "id": "c8b34436",
      "metadata": {
        "id": "c8b34436"
      },
      "source": [
        "### List Comprehensions\n",
        "\n",
        "List comprehensions allow you to concisely form a new list by filtering the elements of a collection, transforming the elements passing the filter into one concise expression. Consider the following `for` loop:"
      ]
    },
    {
      "cell_type": "markdown",
      "id": "e02a9d5a",
      "metadata": {
        "id": "e02a9d5a"
      },
      "source": [
        "    result = []\n",
        "    for value in collection:\n",
        "        if condition:\n",
        "            result.append(expr)"
      ]
    },
    {
      "cell_type": "code",
      "execution_count": 12,
      "id": "98d881a3",
      "metadata": {
        "id": "98d881a3",
        "colab": {
          "base_uri": "https://localhost:8080/"
        },
        "outputId": "6e39423f-b6be-46fd-ad47-aa0a57b545d5"
      },
      "outputs": [
        {
          "output_type": "execute_result",
          "data": {
            "text/plain": [
              "['BAT', 'CAR', 'DOVE', 'PYTHON']"
            ]
          },
          "metadata": {},
          "execution_count": 12
        }
      ],
      "source": [
        "strings = [\"a\", \"as\", \"bat\", \"car\", \"dove\", \"python\"]\n",
        "result = []\n",
        "\n",
        "for word in strings:\n",
        "    if len(word) > 2:\n",
        "        result.append(word.upper())\n",
        "\n",
        "result"
      ]
    },
    {
      "cell_type": "markdown",
      "id": "993b18a6",
      "metadata": {
        "id": "993b18a6"
      },
      "source": [
        "Equivalently list comprehensions take the following form:"
      ]
    },
    {
      "cell_type": "markdown",
      "id": "238db7bf",
      "metadata": {
        "id": "238db7bf"
      },
      "source": [
        "    [expr for value in collection if condition]"
      ]
    },
    {
      "cell_type": "code",
      "execution_count": 13,
      "id": "6b5c2d0f",
      "metadata": {
        "id": "6b5c2d0f",
        "colab": {
          "base_uri": "https://localhost:8080/"
        },
        "outputId": "3e470d87-99fb-4d0f-b024-a1e7676521c2"
      },
      "outputs": [
        {
          "output_type": "execute_result",
          "data": {
            "text/plain": [
              "['BAT', 'CAR', 'DOVE', 'PYTHON']"
            ]
          },
          "metadata": {},
          "execution_count": 13
        }
      ],
      "source": [
        "strings = [\"a\", \"as\", \"bat\", \"car\", \"dove\", \"python\"]\n",
        "wordslist = [item.upper() for item in strings if len(item) > 2]\n",
        "wordslist"
      ]
    },
    {
      "cell_type": "markdown",
      "id": "0eb42c1f",
      "metadata": {
        "id": "0eb42c1f"
      },
      "source": [
        "### Dictionary and Set Comprehension\n",
        "\n"
      ]
    },
    {
      "cell_type": "markdown",
      "id": "583853f6",
      "metadata": {
        "id": "583853f6"
      },
      "source": [
        "Set and dictionary comprehensions are a natural extension, producing sets and dictionaries in an idiomatically similar way instead of lists."
      ]
    },
    {
      "cell_type": "markdown",
      "id": "73fe2352",
      "metadata": {
        "id": "73fe2352"
      },
      "source": [
        "    dict_comp = {key-expr: value-expr for value in collection if condition}   \n",
        "    \n",
        "    set_comp = {expr for value in collection if condition}"
      ]
    },
    {
      "cell_type": "markdown",
      "id": "16108e6e",
      "metadata": {
        "id": "16108e6e"
      },
      "source": [
        "Consider the list of strings from before. Suppose we wanted a set containing just the lengths of the strings contained in the collection; we could easily compute this using a set comprehension:"
      ]
    },
    {
      "cell_type": "code",
      "execution_count": 14,
      "id": "b1bd49f5",
      "metadata": {
        "id": "b1bd49f5",
        "colab": {
          "base_uri": "https://localhost:8080/"
        },
        "outputId": "237e37fd-3b06-4faf-c628-f52b92f89dd2"
      },
      "outputs": [
        {
          "output_type": "execute_result",
          "data": {
            "text/plain": [
              "{1, 2, 3, 4, 6}"
            ]
          },
          "metadata": {},
          "execution_count": 14
        }
      ],
      "source": [
        "strings = [\"a\", \"as\", \"bat\", \"car\", \"dove\", \"python\"]\n",
        "\n",
        "unique_lengths = {len(x) for x in strings}\n",
        "unique_lengths"
      ]
    },
    {
      "cell_type": "code",
      "execution_count": 15,
      "id": "69460e7a",
      "metadata": {
        "id": "69460e7a",
        "colab": {
          "base_uri": "https://localhost:8080/"
        },
        "outputId": "1e18c119-9d29-460c-9017-a428c74eebcb"
      },
      "outputs": [
        {
          "output_type": "execute_result",
          "data": {
            "text/plain": [
              "{1, 2, 3, 4, 6}"
            ]
          },
          "metadata": {},
          "execution_count": 15
        }
      ],
      "source": [
        "set(map(len, strings)) # We could also use the map function"
      ]
    },
    {
      "cell_type": "markdown",
      "id": "19cb25b0",
      "metadata": {
        "id": "19cb25b0"
      },
      "source": [
        "As a simple dictionary comprehension example, we could create a lookup map of these strings for their locations in the list:"
      ]
    },
    {
      "cell_type": "code",
      "execution_count": 16,
      "id": "b19ab7e4",
      "metadata": {
        "id": "b19ab7e4",
        "colab": {
          "base_uri": "https://localhost:8080/"
        },
        "outputId": "c9470692-a93c-406e-f609-1c3da48fb868"
      },
      "outputs": [
        {
          "output_type": "execute_result",
          "data": {
            "text/plain": [
              "{'a': 0, 'as': 1, 'bat': 2, 'car': 3, 'dove': 4, 'python': 5}"
            ]
          },
          "metadata": {},
          "execution_count": 16
        }
      ],
      "source": [
        "loc_mapping = {value: index for index, value in enumerate(strings)}\n",
        "loc_mapping"
      ]
    },
    {
      "cell_type": "markdown",
      "id": "4fecdbde",
      "metadata": {
        "id": "4fecdbde"
      },
      "source": [
        "### Nested list comprehensions"
      ]
    },
    {
      "cell_type": "markdown",
      "id": "52961f51",
      "metadata": {
        "id": "52961f51"
      },
      "source": [
        "Suppose we have a list of lists containing some English and Spanish names:"
      ]
    },
    {
      "cell_type": "code",
      "execution_count": 17,
      "id": "b379a5e4",
      "metadata": {
        "id": "b379a5e4"
      },
      "outputs": [],
      "source": [
        "all_data = [[\"John\", \"Emily\", \"Michael\", \"Mary\", \"Steven\"],\n",
        "            [\"Maria\", \"Juan\", \"Javier\", \"Natalia\", \"Pilar\"]]"
      ]
    },
    {
      "cell_type": "markdown",
      "id": "ff867688",
      "metadata": {
        "id": "ff867688"
      },
      "source": [
        "Suppose we wanted to get a single list containing all names with two or more a’s in them. We could certainly do this with a simple `for` loop:"
      ]
    },
    {
      "cell_type": "code",
      "execution_count": 18,
      "id": "b5128121",
      "metadata": {
        "id": "b5128121",
        "colab": {
          "base_uri": "https://localhost:8080/"
        },
        "outputId": "dbd9927d-6153-40d8-83ae-167c7d6f460f"
      },
      "outputs": [
        {
          "output_type": "execute_result",
          "data": {
            "text/plain": [
              "['Maria', 'Natalia']"
            ]
          },
          "metadata": {},
          "execution_count": 18
        }
      ],
      "source": [
        "names_of_interest = []\n",
        "\n",
        "for names in all_data:\n",
        "    enough_as = [name for name in names if name.count(\"a\") >= 2]\n",
        "    names_of_interest.extend(enough_as)\n",
        "\n",
        "names_of_interest"
      ]
    },
    {
      "cell_type": "markdown",
      "id": "e45f8d3e",
      "metadata": {
        "id": "e45f8d3e"
      },
      "source": [
        "You can actually wrap this whole operation up in a single nested list comprehension, which will look like:"
      ]
    },
    {
      "cell_type": "code",
      "execution_count": 19,
      "id": "eabe6e55",
      "metadata": {
        "id": "eabe6e55",
        "colab": {
          "base_uri": "https://localhost:8080/"
        },
        "outputId": "0d03a3ea-80d9-4954-95a1-4a247171bd91"
      },
      "outputs": [
        {
          "output_type": "execute_result",
          "data": {
            "text/plain": [
              "['Maria', 'Natalia']"
            ]
          },
          "metadata": {},
          "execution_count": 19
        }
      ],
      "source": [
        "result = [name for names in all_data for name in names if name.count(\"a\") >= 2]\n",
        "\n",
        "result"
      ]
    },
    {
      "cell_type": "markdown",
      "id": "1c7ceea0",
      "metadata": {
        "id": "1c7ceea0"
      },
      "source": [
        "Basically:\n",
        "\n",
        "*  **for names in all_data**: This is the outer loop, iterating over each sublist of names in the all_data list.\n",
        "\n",
        "*  **for name in names**: This is the inner loop, iterating over each individual name in the current sublist.\n",
        "\n",
        "*  **if name.count(\"a\") >= 2**: This is a condition that checks if the count of the letter 'a' in the current name is greater than or equal to 2.\n",
        "\n",
        "*  **name**: This is the expression that gets included in the new list if the condition is met."
      ]
    },
    {
      "cell_type": "markdown",
      "id": "e45a7358",
      "metadata": {
        "id": "e45a7358"
      },
      "source": [
        "Another example:"
      ]
    },
    {
      "cell_type": "code",
      "execution_count": 20,
      "id": "14a471e2",
      "metadata": {
        "id": "14a471e2",
        "colab": {
          "base_uri": "https://localhost:8080/"
        },
        "outputId": "5c2f96d0-ffc1-42aa-f861-27b67615e6d4"
      },
      "outputs": [
        {
          "output_type": "execute_result",
          "data": {
            "text/plain": [
              "[1, 2, 3, 4, 5, 6, 7, 8, 9]"
            ]
          },
          "metadata": {},
          "execution_count": 20
        }
      ],
      "source": [
        "some_tuples = [(1, 2, 3), (4, 5, 6), (7, 8, 9)]\n",
        "flattened = []\n",
        "\n",
        "for tup in some_tuples:\n",
        "    for x in tup:\n",
        "        flattened.append(x)\n",
        "\n",
        "flattened"
      ]
    },
    {
      "cell_type": "markdown",
      "id": "c2e732c7",
      "metadata": {
        "id": "c2e732c7"
      },
      "source": [
        "Equivalently:"
      ]
    },
    {
      "cell_type": "code",
      "execution_count": 21,
      "id": "81f51c05",
      "metadata": {
        "id": "81f51c05",
        "colab": {
          "base_uri": "https://localhost:8080/"
        },
        "outputId": "f9b57f89-26fb-4585-8419-b5d3c0b30efd"
      },
      "outputs": [
        {
          "output_type": "execute_result",
          "data": {
            "text/plain": [
              "[1, 2, 3, 4, 5, 6, 7, 8, 9]"
            ]
          },
          "metadata": {},
          "execution_count": 21
        }
      ],
      "source": [
        "flattened = [x for tup in some_tuples for x in tup]\n",
        "flattened"
      ]
    },
    {
      "cell_type": "markdown",
      "id": "b551173b",
      "metadata": {
        "id": "b551173b"
      },
      "source": [
        "*  **for tup in some_tuples**: This is the outer loop that iterates over each tuple (tup) in the list of tuples (some_tuples).\n",
        "\n",
        "*  **for x in tup**: This is the inner loop that iterates over each element (x) within the current tuple.\n",
        "\n",
        "*  **x**: This is the expression that gets included in the new list (flattened). In this case, it represents each individual element in each tuple."
      ]
    },
    {
      "cell_type": "markdown",
      "id": "53df625b",
      "metadata": {
        "id": "53df625b"
      },
      "source": [
        "It’s important to distinguish the syntax just shown from a list comprehension inside a list comprehension, which is also perfectly valid:"
      ]
    },
    {
      "cell_type": "code",
      "execution_count": 22,
      "id": "d200976b",
      "metadata": {
        "id": "d200976b",
        "colab": {
          "base_uri": "https://localhost:8080/"
        },
        "outputId": "c669c690-c313-415e-dfc5-a8177233dd3a"
      },
      "outputs": [
        {
          "output_type": "execute_result",
          "data": {
            "text/plain": [
              "[[1, 2, 3], [4, 5, 6], [7, 8, 9]]"
            ]
          },
          "metadata": {},
          "execution_count": 22
        }
      ],
      "source": [
        "some_tuples = [(1, 2, 3), (4, 5, 6), (7, 8, 9)]\n",
        "[[x for x in tup] for tup in some_tuples]  # This produces a list of lists"
      ]
    },
    {
      "cell_type": "markdown",
      "id": "3aac6ed9",
      "metadata": {
        "id": "3aac6ed9"
      },
      "source": [
        "**Outer Loop (for tup in some_tuples)**:\n",
        "*  The outer loop iterates over each tuple (tup) in the some_tuples list.\n",
        "\n",
        "**Inner Loop (for x in tup)**:\n",
        "*  The inner loop iterates over each element (x) within the current tuple.\n",
        "\n",
        "**Expression (x)**:\n",
        "*  The expression represents each individual element in the tuple.\n",
        "\n",
        "**List Comprehension**:\n",
        "*  The inner list comprehension `[x for x in tup]` creates a list of elements by iterating through each element in the tuple.\n",
        "\n",
        "**Outer List**:\n",
        "*  The outer list comprehension `[[x for x in tup] for tup in some_tuples]` creates a list of lists.\n",
        "*  Each inner list is generated by the inner comprehension for a specific tuple."
      ]
    },
    {
      "cell_type": "markdown",
      "id": "03fd6de2",
      "metadata": {
        "id": "03fd6de2"
      },
      "source": [
        "<font color='red'>Complete the codes in the cell below. Please replace the \"XXX\" placeholder with your own codes. </font>"
      ]
    },
    {
      "cell_type": "code",
      "source": [
        "words = [\"ap1p4le\", \"ba5na8na\", \"or9an0ge\", \"g3rap6e\", \"s1tra1wberr2y\"]\n",
        "\n",
        "filtered_words_1 = []\n",
        "for word in words: #  Outer loop\n",
        "    if 'a' in word and len(word) <= 7: # Outer Condition\n",
        "\n",
        "        letters = []\n",
        "        for letter in word:  # Inner loop\n",
        "            if letter.isalpha(): # Inner condition\n",
        "                letters.append(letter)  # Inner expression: letter\n",
        "\n",
        "        filtered_words_1.append(letters)"
      ],
      "metadata": {
        "id": "IMSNGau-Z1Zd"
      },
      "id": "IMSNGau-Z1Zd",
      "execution_count": 23,
      "outputs": []
    },
    {
      "cell_type": "code",
      "source": [
        "filtered_words_1"
      ],
      "metadata": {
        "colab": {
          "base_uri": "https://localhost:8080/"
        },
        "id": "EPsSfZ6hZ3Mw",
        "outputId": "bccc9f5a-8e3b-4259-a350-3ce55d0b6d5a"
      },
      "id": "EPsSfZ6hZ3Mw",
      "execution_count": 24,
      "outputs": [
        {
          "output_type": "execute_result",
          "data": {
            "text/plain": [
              "[['a', 'p', 'p', 'l', 'e'], ['g', 'r', 'a', 'p', 'e']]"
            ]
          },
          "metadata": {},
          "execution_count": 24
        }
      ]
    },
    {
      "cell_type": "code",
      "execution_count": 25,
      "id": "24c36119",
      "metadata": {
        "id": "24c36119",
        "colab": {
          "base_uri": "https://localhost:8080/"
        },
        "outputId": "db724044-0175-44fa-88a3-1a3ede3463d1"
      },
      "outputs": [
        {
          "output_type": "stream",
          "name": "stdout",
          "text": [
            "[['a', 'p', 'p', 'l', 'e'], ['g', 'r', 'a', 'p', 'e']]\n",
            "[['a', 'p', 'p', 'l', 'e'], ['g', 'r', 'a', 'p', 'e']]\n"
          ]
        }
      ],
      "source": [
        "# Example data\n",
        "words = [\"ap1p4le\", \"ba5na8na\", \"or9an0ge\", \"g3rap6e\", \"s1tra1wberr2y\"]\n",
        "\n",
        "filtered_words_1 = []\n",
        "for word in words: #  Outer loop\n",
        "    if 'a' in word and len(word) <= 7: # Outer Condition\n",
        "\n",
        "        letters = []\n",
        "        for letter in word:  # Inner loop\n",
        "            if letter.isalpha(): # Inner condition\n",
        "                letters.append(letter)  # Inner expression: letter\n",
        "\n",
        "        filtered_words_1.append(letters)\n",
        "\n",
        "\n",
        "# Make an equivalent list comprenhension\n",
        "filtered_words_2 = [[letter for letter in word if letter.isalpha()] for word in words if \"a\" in word and len(word)<=7]\n",
        "                    #[[Inner expression  Inner loop  Inner Condition] Outer loop   Outer Condition]\n",
        "# Print the result\n",
        "print(filtered_words_1)\n",
        "print(filtered_words_2)"
      ]
    },
    {
      "cell_type": "markdown",
      "source": [
        "Example of Word Count:"
      ],
      "metadata": {
        "id": "O4Wbzq62-0Qw"
      },
      "id": "O4Wbzq62-0Qw"
    },
    {
      "cell_type": "code",
      "source": [
        "def build_dictionary(words):\n",
        "    # The frequencies dictionary will be built with your code below.\n",
        "    # Each key is a word string and the corresponding value is an integer\n",
        "    # indicating that word's frequency.\n",
        "\n",
        "    frequencies = {}\n",
        "    for word in words:\n",
        "        if word in frequencies:\n",
        "            frequencies[word] += 1\n",
        "        else:\n",
        "            frequencies[word] = 1\n",
        "    return frequencies"
      ],
      "metadata": {
        "id": "zo1yZBaN_ArU"
      },
      "id": "zo1yZBaN_ArU",
      "execution_count": 26,
      "outputs": []
    },
    {
      "cell_type": "code",
      "source": [
        "lyrics = '''I I I music, IT IT IT Tuesday night.\n",
        "I I music she she she.\n",
        "skirts. I wear T-shirts.'''"
      ],
      "metadata": {
        "id": "S8YnRW7R_EUK"
      },
      "id": "S8YnRW7R_EUK",
      "execution_count": 27,
      "outputs": []
    },
    {
      "cell_type": "code",
      "source": [
        "build_dictionary(lyrics.split())"
      ],
      "metadata": {
        "id": "dHbqDoAq_FH1",
        "colab": {
          "base_uri": "https://localhost:8080/"
        },
        "outputId": "ea568faa-4a6d-4bc9-8672-c2713ec16396"
      },
      "id": "dHbqDoAq_FH1",
      "execution_count": 28,
      "outputs": [
        {
          "output_type": "execute_result",
          "data": {
            "text/plain": [
              "{'I': 6,\n",
              " 'music,': 1,\n",
              " 'IT': 3,\n",
              " 'Tuesday': 1,\n",
              " 'night.': 1,\n",
              " 'music': 1,\n",
              " 'she': 2,\n",
              " 'she.': 1,\n",
              " 'skirts.': 1,\n",
              " 'wear': 1,\n",
              " 'T-shirts.': 1}"
            ]
          },
          "metadata": {},
          "execution_count": 28
        }
      ]
    },
    {
      "cell_type": "markdown",
      "source": [
        "<font color='red'>Complete the codes in the cell below. Please replace the \"XXX\" placeholder with your own codes. </font>"
      ],
      "metadata": {
        "id": "U8i8lCf5_mdN"
      },
      "id": "U8i8lCf5_mdN"
    },
    {
      "cell_type": "code",
      "source": [
        "# Please use list comprehension to re-write the function to get the same output\n",
        "def build_dict(words):\n",
        "    # use list comprehension\n",
        "    freq = {word:words.count(word) for word in set(words)}\n",
        "    return freq\n",
        "\n",
        "build_dict(lyrics.split())"
      ],
      "metadata": {
        "id": "Mr2dAFt__O_7",
        "colab": {
          "base_uri": "https://localhost:8080/"
        },
        "outputId": "f069958a-2375-4c5c-bf0d-20e161ea3da6"
      },
      "id": "Mr2dAFt__O_7",
      "execution_count": 29,
      "outputs": [
        {
          "output_type": "execute_result",
          "data": {
            "text/plain": [
              "{'music,': 1,\n",
              " 'T-shirts.': 1,\n",
              " 'Tuesday': 1,\n",
              " 'she': 2,\n",
              " 'IT': 3,\n",
              " 'she.': 1,\n",
              " 'music': 1,\n",
              " 'I': 6,\n",
              " 'night.': 1,\n",
              " 'skirts.': 1,\n",
              " 'wear': 1}"
            ]
          },
          "metadata": {},
          "execution_count": 29
        }
      ]
    },
    {
      "cell_type": "code",
      "source": [
        "def build_dict(words):\n",
        "    # use list comprehension\n",
        "    freq = {word: words.count(word) for word in words}\n",
        "    #maintain order\n",
        "    return dict.fromkeys(words, 0) | {word: freq[word] for word in words} # merge dicts\n",
        "\n",
        "build_dict(lyrics.split())"
      ],
      "metadata": {
        "colab": {
          "base_uri": "https://localhost:8080/"
        },
        "id": "PeK-tRmrcyzx",
        "outputId": "b9825394-50d7-4ae8-af70-ae5661e5d303"
      },
      "id": "PeK-tRmrcyzx",
      "execution_count": 30,
      "outputs": [
        {
          "output_type": "execute_result",
          "data": {
            "text/plain": [
              "{'I': 6,\n",
              " 'music,': 1,\n",
              " 'IT': 3,\n",
              " 'Tuesday': 1,\n",
              " 'night.': 1,\n",
              " 'music': 1,\n",
              " 'she': 2,\n",
              " 'she.': 1,\n",
              " 'skirts.': 1,\n",
              " 'wear': 1,\n",
              " 'T-shirts.': 1}"
            ]
          },
          "metadata": {},
          "execution_count": 30
        }
      ]
    },
    {
      "cell_type": "code",
      "source": [],
      "metadata": {
        "id": "Cy5C7FlDd7Ry"
      },
      "id": "Cy5C7FlDd7Ry",
      "execution_count": 30,
      "outputs": []
    }
  ],
  "metadata": {
    "kernelspec": {
      "display_name": "Python 3 (ipykernel)",
      "language": "python",
      "name": "python3"
    },
    "language_info": {
      "codemirror_mode": {
        "name": "ipython",
        "version": 3
      },
      "file_extension": ".py",
      "mimetype": "text/x-python",
      "name": "python",
      "nbconvert_exporter": "python",
      "pygments_lexer": "ipython3",
      "version": "3.11.5"
    },
    "colab": {
      "provenance": []
    }
  },
  "nbformat": 4,
  "nbformat_minor": 5
}