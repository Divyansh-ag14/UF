{
  "nbformat": 4,
  "nbformat_minor": 0,
  "metadata": {
    "colab": {
      "provenance": [],
      "toc_visible": true
    },
    "kernelspec": {
      "name": "python3",
      "display_name": "Python 3"
    },
    "language_info": {
      "name": "python"
    }
  },
  "cells": [
    {
      "cell_type": "markdown",
      "source": [
        "# How to work with numbers and format numbers"
      ],
      "metadata": {
        "id": "D66lm4nVgANK"
      }
    },
    {
      "cell_type": "markdown",
      "source": [
        "* In previous lectures, you learned the basics of working with numbers, including how to initialize numeric variables, how to use arithmetic expressions, and how to compare numeric values.\n",
        "* In this notebook, you'll learn more about working with numbers, including how to format them and how to avoid floating-point errors by using decimal numbers.\n",
        "   - **Skills for working with numbers (e.g., math module)**\n",
        "   - **How to use format specifications with f-strings**"
      ],
      "metadata": {
        "id": "t1lh6KexBFhD"
      }
    },
    {
      "cell_type": "markdown",
      "source": [
        "## Basic Skills for working with numbers"
      ],
      "metadata": {
        "id": "zVZPlX9sBepl"
      }
    },
    {
      "cell_type": "markdown",
      "source": [
        "### How floating-point numbers work"
      ],
      "metadata": {
        "id": "DoytEK8zBxVR"
      }
    },
    {
      "cell_type": "markdown",
      "source": [
        "**Two numeric data types**\n",
        "\n",
        "![](http://drive.google.com/uc?export=view&id=1TIPj9yDg2c9dm9IjVYyQFHuphiU97wN1)\n"
      ],
      "metadata": {
        "id": "ikfQYAzAOWmB"
      }
    },
    {
      "cell_type": "code",
      "source": [
        "# Examples of float values\n",
        "21.5      # a positive float value\n",
        "-124.82   # a negative float value\n",
        "-3.7e-9   # floating-point notation for -0.0000000037"
      ],
      "metadata": {
        "id": "MtIJJgxCB0pB"
      },
      "execution_count": null,
      "outputs": []
    },
    {
      "cell_type": "code",
      "source": [
        "type(-124.82)"
      ],
      "metadata": {
        "id": "2Fw9kgQug6Gm"
      },
      "execution_count": null,
      "outputs": []
    },
    {
      "cell_type": "code",
      "source": [
        "type(-3.7e-9)"
      ],
      "metadata": {
        "id": "KYK1r1qvg5IU"
      },
      "execution_count": null,
      "outputs": []
    },
    {
      "cell_type": "code",
      "source": [
        "# Variables that are assigned values using scientific notation\n",
        "value1 = 2.382e+5     # 2.382 * 105 (or 238,200)\n",
        "value2 = 3.25E-4    # 3.25 * 10-8 (or .0000000325)\n",
        "\n",
        "print(\"value1: \", value1, \"\\nvalue2:\", value2)"
      ],
      "metadata": {
        "id": "0sFaymMiO04P"
      },
      "execution_count": null,
      "outputs": []
    },
    {
      "cell_type": "markdown",
      "source": [
        "An example of a floating-point error:"
      ],
      "metadata": {
        "id": "PX6E4ImwPARn"
      }
    },
    {
      "cell_type": "code",
      "source": [
        "balance = 100.10\n",
        "balance += 100.10\n",
        "balance += 100.10\n",
        "print(\"Balance =\", balance)"
      ],
      "metadata": {
        "id": "L3jQPHy9O8-W"
      },
      "execution_count": null,
      "outputs": []
    },
    {
      "cell_type": "markdown",
      "source": [
        "Code that fixes the floating-point error:"
      ],
      "metadata": {
        "id": "jWqWTMPWPEpc"
      }
    },
    {
      "cell_type": "code",
      "source": [
        "balance = round(balance, 2)\n",
        "print(\"Balance =\", balance)"
      ],
      "metadata": {
        "id": "60DoUug9PHaM"
      },
      "execution_count": null,
      "outputs": []
    },
    {
      "cell_type": "markdown",
      "source": [
        "* A *floating-point number* consists of a positive or negative sign, a decimal value for the significant digits, and an optional exponent.\n",
        "* Floating-point numbers provide for very large and very small numbers, but with a limited number of *significant digits*.\n",
        "* To express the value of a floating-point number, you can use *scientific notation*.\n",
        "* An integer is an *exact value* that yields expected results.\n",
        "* A floating-point number is an *approximate value* that can yield unexpected results known as *floating-point errors*."
      ],
      "metadata": {
        "id": "L8nGOhjJPNT5"
      }
    },
    {
      "cell_type": "markdown",
      "source": [
        "### How to use the math module"
      ],
      "metadata": {
        "id": "pTx_0PGrB08p"
      }
    },
    {
      "cell_type": "markdown",
      "source": [
        "**Some common functions of the math module**\n",
        "\n",
        "![](http://drive.google.com/uc?export=view&id=1MFP7KLDXk8K4NwAfauax0CKcVLkISAqZ)"
      ],
      "metadata": {
        "id": "yEJHXZomQFZC"
      }
    },
    {
      "cell_type": "markdown",
      "source": [
        "**A constant of the math module**\n",
        "\n",
        "![](http://drive.google.com/uc?export=view&id=1H0M6wSCipsa4EaXtmA7_GX0r9-Y15R4W)"
      ],
      "metadata": {
        "id": "womX5va8Qa95"
      }
    },
    {
      "cell_type": "markdown",
      "source": [
        "How to import the math module:"
      ],
      "metadata": {
        "id": "l-_DsRq0QsEN"
      }
    },
    {
      "cell_type": "code",
      "source": [
        "import math as m"
      ],
      "metadata": {
        "id": "1CZmWoiWBDzh"
      },
      "execution_count": null,
      "outputs": []
    },
    {
      "cell_type": "markdown",
      "source": [
        "How to use the pow() and sqrt() functions:"
      ],
      "metadata": {
        "id": "SmU8g2c-Q14_"
      }
    },
    {
      "cell_type": "code",
      "source": [
        "result1 = m.pow(2, 3)      # 8.0 (the cube of 2)\n",
        "result2 = m.sqrt(16)       # 4.0 (square root)\n",
        "result3 = m.pow(125, 1/3)  # 4.999999999999999 (cube root)\n",
        "\n",
        "print(f\"power is: {round(result1)}\",\n",
        "      f\"\\nsquare_root is: {round(result2)}\",\n",
        "      f\"\\ncube_root is: {round(result3)}\")"
      ],
      "metadata": {
        "id": "0KVXhXZBQalU"
      },
      "execution_count": null,
      "outputs": []
    },
    {
      "cell_type": "markdown",
      "source": [
        "How to use the pi constant:"
      ],
      "metadata": {
        "id": "m72ldmoDQ6HO"
      }
    },
    {
      "cell_type": "code",
      "source": [
        "radius = 12\n",
        "circumference = m.pi * radius * 2    # 75.39822368615503\n",
        "print(circumference)"
      ],
      "metadata": {
        "id": "5Z3BO4gpQ1Er"
      },
      "execution_count": null,
      "outputs": []
    },
    {
      "cell_type": "code",
      "source": [
        "area = m.pi * m.pow(radius, 2)       # 452.3893421169302\n",
        "print(area)"
      ],
      "metadata": {
        "id": "mRDBcVOlh6RK"
      },
      "execution_count": null,
      "outputs": []
    },
    {
      "cell_type": "code",
      "source": [
        "area2 = m.pi * radius**2              # 452.3893421169302\n",
        "area2"
      ],
      "metadata": {
        "id": "bOsINUUuiCKm"
      },
      "execution_count": null,
      "outputs": []
    },
    {
      "cell_type": "markdown",
      "source": [
        "How to use the floor() and ceil() functions:\n",
        "* ceil() -rounding up to the nearest integer\n",
        "* floor()-rounding down to the nearest integer"
      ],
      "metadata": {
        "id": "c8iWs5s1RNYA"
      }
    },
    {
      "cell_type": "code",
      "source": [
        "m.floor(12.545)     # rounding down to the nearest integer"
      ],
      "metadata": {
        "id": "pFLpI-oRiRNJ",
        "colab": {
          "base_uri": "https://localhost:8080/"
        },
        "outputId": "2d4c9235-81d7-4d86-e818-2cd63bcf511a"
      },
      "execution_count": null,
      "outputs": [
        {
          "output_type": "execute_result",
          "data": {
            "text/plain": [
              "12"
            ]
          },
          "metadata": {},
          "execution_count": 15
        }
      ]
    },
    {
      "cell_type": "code",
      "source": [
        "m.ceil(12.545)      # rounding up to the nearest integer"
      ],
      "metadata": {
        "id": "2noGVP_DiRyL",
        "colab": {
          "base_uri": "https://localhost:8080/"
        },
        "outputId": "5aa45dbc-aaf1-4947-c400-a07ec54a7b8b"
      },
      "execution_count": null,
      "outputs": [
        {
          "output_type": "execute_result",
          "data": {
            "text/plain": [
              "13"
            ]
          },
          "metadata": {},
          "execution_count": 16
        }
      ]
    },
    {
      "cell_type": "code",
      "source": [
        "m.floor(-3.432)     # rounding down to the nearest integer"
      ],
      "metadata": {
        "id": "XiHlOe48iUT3",
        "colab": {
          "base_uri": "https://localhost:8080/"
        },
        "outputId": "2a184f09-88e6-4cdb-af8c-22e3e94bf265"
      },
      "execution_count": null,
      "outputs": [
        {
          "output_type": "execute_result",
          "data": {
            "text/plain": [
              "-4"
            ]
          },
          "metadata": {},
          "execution_count": 17
        }
      ]
    },
    {
      "cell_type": "code",
      "source": [
        "m.ceil(-3.432)      # rounding up to the nearest integer"
      ],
      "metadata": {
        "id": "u0o-sQQFRQnH",
        "colab": {
          "base_uri": "https://localhost:8080/"
        },
        "outputId": "7f934dff-69fa-4b8e-fda5-153fd46c9064"
      },
      "execution_count": null,
      "outputs": [
        {
          "output_type": "execute_result",
          "data": {
            "text/plain": [
              "-3"
            ]
          },
          "metadata": {},
          "execution_count": 18
        }
      ]
    },
    {
      "cell_type": "markdown",
      "source": [
        "How to use the ceil() function with decimal places:\n",
        "* If you want to use them with decimal numbers, you can multiply and then divide by multiples of 10."
      ],
      "metadata": {
        "id": "D_vNhXDrRSnp"
      }
    },
    {
      "cell_type": "code",
      "source": [
        "m.ceil(2.0083)                    # 3"
      ],
      "metadata": {
        "id": "zeXNv9Z3RXhB",
        "colab": {
          "base_uri": "https://localhost:8080/"
        },
        "outputId": "8d71a1d6-9fab-400c-d815-a0ab880be29c"
      },
      "execution_count": null,
      "outputs": [
        {
          "output_type": "execute_result",
          "data": {
            "text/plain": [
              "3"
            ]
          },
          "metadata": {},
          "execution_count": 19
        }
      ]
    },
    {
      "cell_type": "code",
      "source": [
        "m.ceil(2.0083 * 10) / 10          # 2.1"
      ],
      "metadata": {
        "id": "EAw4uk4TiqnA",
        "colab": {
          "base_uri": "https://localhost:8080/"
        },
        "outputId": "cc1d74fe-e977-4cbf-db39-bdbf708a46fa"
      },
      "execution_count": null,
      "outputs": [
        {
          "output_type": "execute_result",
          "data": {
            "text/plain": [
              "2.1"
            ]
          },
          "metadata": {},
          "execution_count": 20
        }
      ]
    },
    {
      "cell_type": "code",
      "source": [
        "m.ceil(2.0083 * 100) / 100        # 2.01"
      ],
      "metadata": {
        "id": "17K5aWhNirwq",
        "colab": {
          "base_uri": "https://localhost:8080/"
        },
        "outputId": "511d3d80-3140-4029-c3d0-45cbdace990b"
      },
      "execution_count": null,
      "outputs": [
        {
          "output_type": "execute_result",
          "data": {
            "text/plain": [
              "2.01"
            ]
          },
          "metadata": {},
          "execution_count": 21
        }
      ]
    },
    {
      "cell_type": "markdown",
      "source": [
        "How to use the floor() function with decimal places:\n",
        "* If you want to use them with decimal numbers, you can multiply and then divide by multiples of 10."
      ],
      "metadata": {
        "id": "BQSLZbf1RZZd"
      }
    },
    {
      "cell_type": "code",
      "source": [
        "m.floor(2.0083)                   # 2"
      ],
      "metadata": {
        "id": "DYp1J5DURdRb"
      },
      "execution_count": null,
      "outputs": []
    },
    {
      "cell_type": "code",
      "source": [
        "m.floor(2.0083 * 10) / 10         # 2.0"
      ],
      "metadata": {
        "id": "h71DqJGfiun1"
      },
      "execution_count": null,
      "outputs": []
    },
    {
      "cell_type": "code",
      "source": [
        "m.floor(2.0083 * 1000) / 1000     # 2.008"
      ],
      "metadata": {
        "id": "NfJGr21RiwGE"
      },
      "execution_count": null,
      "outputs": []
    },
    {
      "cell_type": "markdown",
      "source": [
        "* The math module contains functions for commonly used mathematical operations.\n",
        "* The **ceil()** and **floor()** functions **return integers**. But if you want to use them with decimal numbers, you can multiply and then divide by multiples of 10."
      ],
      "metadata": {
        "id": "5uFTUoKsRfF5"
      }
    },
    {
      "cell_type": "markdown",
      "source": [
        "## How to format numbers"
      ],
      "metadata": {
        "id": "RDISeAsBBiVR"
      }
    },
    {
      "cell_type": "markdown",
      "source": [
        "### How to use format specifications with f-strings"
      ],
      "metadata": {
        "id": "-GnM_NS0B4x_"
      }
    },
    {
      "cell_type": "markdown",
      "source": [
        "The syntax of an f-string with a format specification"
      ],
      "metadata": {
        "id": "oNoER_dMSL3e"
      }
    },
    {
      "cell_type": "markdown",
      "source": [
        "```\n",
        "\"f{value:format_specification}\"\n",
        "```\n",
        "The syntax for the format specification:\n",
        "```\n",
        "[field_width][comma][.decimal_places][type_code]\n",
        "```\n",
        "\n"
      ],
      "metadata": {
        "id": "13ohlIrHAgfv"
      }
    },
    {
      "cell_type": "markdown",
      "source": [
        "**Common type codes**\n",
        "\n",
        "![](http://drive.google.com/uc?export=view&id=1E-4z0F5O3vNM3XpjoAhBxOJGfT5o9vGw)"
      ],
      "metadata": {
        "id": "n2oYI6KMScZB"
      }
    },
    {
      "cell_type": "markdown",
      "source": [
        "F-strings with format specifications:"
      ],
      "metadata": {
        "id": "63zfnCYFS1Hl"
      }
    },
    {
      "cell_type": "code",
      "source": [
        "fp_number = 123455.6789\n",
        "print(f\"{fp_number:.2f}\")        # 12345.68\n",
        "print(f\"{fp_number:,.2f}\")       # 12,345.68\n",
        "print(f\"{fp_number:15,.2f}\")     #       12,345.68\n",
        "print(f\"{fp_number:.2e}\")        # 1.23e+04"
      ],
      "metadata": {
        "id": "cLzFmIH8S4X-",
        "outputId": "c0d83389-b9ac-49ca-f819-e8c1eb7fbb33",
        "colab": {
          "base_uri": "https://localhost:8080/"
        }
      },
      "execution_count": 3,
      "outputs": [
        {
          "output_type": "stream",
          "name": "stdout",
          "text": [
            "123455.68\n",
            "123,455.68\n",
            "     123,455.68\n",
            "1.23e+05\n"
          ]
        }
      ]
    },
    {
      "cell_type": "code",
      "source": [
        "fp_number = .12345\n",
        "print(f\"{fp_number:.0%}\")        # 12%\n",
        "print(f\"{fp_number:.1%}\")        # 12.3%"
      ],
      "metadata": {
        "id": "1NF5OOoAjZrg",
        "outputId": "ad4a1b1c-2171-44e9-8259-3aecb633de3c",
        "colab": {
          "base_uri": "https://localhost:8080/"
        }
      },
      "execution_count": 4,
      "outputs": [
        {
          "output_type": "stream",
          "name": "stdout",
          "text": [
            "12%\n",
            "12.3%\n"
          ]
        }
      ]
    },
    {
      "cell_type": "code",
      "source": [
        "int_number = 12345\n",
        "print(f\"{int_number:d}\")         # 12345\n",
        "print(f\"{int_number:,d}\")        # 12,345"
      ],
      "metadata": {
        "id": "Ct_PUd2ejb1w",
        "outputId": "d3dee4b1-b482-4b55-b4d4-95eae6bee1a8",
        "colab": {
          "base_uri": "https://localhost:8080/"
        }
      },
      "execution_count": 5,
      "outputs": [
        {
          "output_type": "stream",
          "name": "stdout",
          "text": [
            "12345\n",
            "12,345\n"
          ]
        }
      ]
    },
    {
      "cell_type": "markdown",
      "source": [
        "How to format a string literal:"
      ],
      "metadata": {
        "id": "VqD_7ebxS-HY"
      }
    },
    {
      "cell_type": "code",
      "source": [
        "# enclose the literal in single quotes\n",
        "print(f\"{'Description':15}{'Price'}\")"
      ],
      "metadata": {
        "id": "vv8deJtPTEPM",
        "outputId": "04330292-d276-44c4-dfdc-bee28595f379",
        "colab": {
          "base_uri": "https://localhost:8080/"
        }
      },
      "execution_count": 6,
      "outputs": [
        {
          "output_type": "stream",
          "name": "stdout",
          "text": [
            "Description    Price\n"
          ]
        }
      ]
    },
    {
      "cell_type": "code",
      "source": [
        "descrip = 'Description'\n",
        "print(f\"{descrip}{'Price':30}\")"
      ],
      "metadata": {
        "id": "_8z-hqju7MCC",
        "outputId": "85ecc2b5-7547-44ae-effa-8ca61c3d77d1",
        "colab": {
          "base_uri": "https://localhost:8080/"
        }
      },
      "execution_count": 7,
      "outputs": [
        {
          "output_type": "stream",
          "name": "stdout",
          "text": [
            "DescriptionPrice                         \n"
          ]
        }
      ]
    },
    {
      "cell_type": "markdown",
      "source": [
        "How to use a variable in a format specification:"
      ],
      "metadata": {
        "id": "NwsCa7c9TI6m"
      }
    },
    {
      "cell_type": "code",
      "source": [
        "spec = 15\n",
        "# enclose the variable in brackets\n",
        "print(f\"{'Description':{spec}}{'Price'}\")"
      ],
      "metadata": {
        "id": "xu2FttXQTLy3",
        "outputId": "f2d00efa-f0ea-4da1-c2c3-7cdc280351cf",
        "colab": {
          "base_uri": "https://localhost:8080/"
        }
      },
      "execution_count": 8,
      "outputs": [
        {
          "output_type": "stream",
          "name": "stdout",
          "text": [
            "Description    Price\n"
          ]
        }
      ]
    },
    {
      "cell_type": "markdown",
      "source": [
        "How to use field widths to align results"
      ],
      "metadata": {
        "id": "ELThI-F_TMzF"
      }
    },
    {
      "cell_type": "code",
      "source": [
        "print(f\"{'Description':15} {'Price':>10} {'Qty':>5}\")\n",
        "print(f\"{'Hammer':15} {9.99:10.2f} {3:5d}\")            # numbers are right-aligned by default\n",
        "print(f\"{'Hammer':15} {9.99:>10.2f} {3:>5d}\")\n",
        "print()\n",
        "print(f\"{'Description':15} {'Price':10} {'Qty':5}\")    # strings are left-aligned by default\n",
        "print(f\"{'Description':15} {'Price':<10} {'Qty':<5}\")\n",
        "print(f\"{'Hammer':15} {9.99:<10.2f} {3:<5d}\")"
      ],
      "metadata": {
        "id": "HFevF5wMTPPh",
        "colab": {
          "base_uri": "https://localhost:8080/"
        },
        "outputId": "30fb30d1-9df2-4c45-cd05-41542026a0f4"
      },
      "execution_count": 9,
      "outputs": [
        {
          "output_type": "stream",
          "name": "stdout",
          "text": [
            "Description          Price   Qty\n",
            "Hammer                9.99     3\n",
            "Hammer                9.99     3\n",
            "\n",
            "Description     Price      Qty  \n",
            "Description     Price      Qty  \n",
            "Hammer          9.99       3    \n"
          ]
        }
      ]
    },
    {
      "cell_type": "markdown",
      "source": [
        "* You can use format specifications to format the values in the braces of an f-string.\n",
        "* When you use a field-width specification, numbers are right aligned and strings are left aligned by default. However, you can use the <end> symbols to override that."
      ],
      "metadata": {
        "id": "3yZFbbzqTVRD"
      }
    },
    {
      "cell_type": "markdown",
      "source": [
        "### How to fix rounding errors"
      ],
      "metadata": {
        "id": "p82zmCX3CBLi"
      }
    },
    {
      "cell_type": "markdown",
      "source": [
        "The code that yields incorrect results:\n",
        "* The discount is 10.01 and that's subtracted from 100.05, so the subtotal should be 90.04. But instead, it's 90.05!"
      ],
      "metadata": {
        "id": "ynf-3SozVH6r"
      }
    },
    {
      "cell_type": "code",
      "source": [
        "### Enter order total: 100.05\n",
        "\n",
        "order_total = float(input(\"Enter order total: \"))   # e.g., 100.05\n",
        "print()\n",
        "\n",
        "# determine the discount percent\n",
        "if order_total > 0 and order_total < 100:\n",
        "    discount_percent = 0\n",
        "elif order_total >= 100 and order_total < 250:\n",
        "    discount_percent = .1\n",
        "elif order_total >= 250:\n",
        "    discount_percent = .2\n",
        "\n",
        "# calculate the results\n",
        "discount = order_total * discount_percent\n",
        "subtotal = order_total - discount\n",
        "sales_tax = subtotal * .05\n",
        "invoice_total = subtotal + sales_tax\n",
        "\n",
        "# display the results\n",
        "print(f\"Order total:      {order_total:10,.2f}\")\n",
        "print(f\"Discount amount:  {discount:10,.2f}\")\n",
        "print(f\"Subtotal:         {subtotal:10,.2f}\")\n",
        "print(f\"Sales tax:        {sales_tax:10,.2f}\")\n",
        "print(f\"Invoice total:    {invoice_total:10,.2f}\")\n",
        "print()"
      ],
      "metadata": {
        "id": "ilNTNT43VBQ1",
        "outputId": "656cd0ee-9852-4a7f-f6a7-e08345eb17c9",
        "colab": {
          "base_uri": "https://localhost:8080/"
        }
      },
      "execution_count": 1,
      "outputs": [
        {
          "output_type": "stream",
          "name": "stdout",
          "text": [
            "Enter order total: 124\n",
            "\n",
            "Order total:          124.00\n",
            "Discount amount:       12.40\n",
            "Subtotal:             111.60\n",
            "Sales tax:              5.58\n",
            "Invoice total:        117.18\n",
            "\n"
          ]
        }
      ]
    },
    {
      "cell_type": "markdown",
      "source": [
        "The code that fixes this problem:"
      ],
      "metadata": {
        "id": "nioxAITIVSV1"
      }
    },
    {
      "cell_type": "code",
      "source": [
        "# calculate the results with rounding\n",
        "discount = round(order_total * discount_percent, 2)\n",
        "subtotal = order_total - discount\n",
        "sales_tax = round(subtotal * .05, 2)\n",
        "invoice_total = subtotal + sales_tax\n",
        "\n",
        "# display the results\n",
        "print(f\"Order total:      {order_total:10,.2f}\")\n",
        "print(f\"Discount amount:  {discount:10,.2f}\")\n",
        "print(f\"Subtotal:         {subtotal:10,.2f}\")\n",
        "print(f\"Sales tax:        {sales_tax:10,.2f}\")\n",
        "print(f\"Invoice total:    {invoice_total:10,.2f}\")\n",
        "print()"
      ],
      "metadata": {
        "id": "wfo-k2lOCD7R"
      },
      "execution_count": null,
      "outputs": []
    },
    {
      "cell_type": "markdown",
      "source": [
        "* When you use floating-point numbers for financial calculations, you can get *rounding errors* if you don't round the results to two decimal places after any calculation that can result in more than two decimal places."
      ],
      "metadata": {
        "id": "WBSCggUMVZcm"
      }
    },
    {
      "cell_type": "markdown",
      "source": [
        "* For most programs, you can fix these errors easily enough by using the **round()** function as shown above.\n",
        "* However, for some programs, including some financial programs, it's better to eliminate unexpected results by using the **decimal module** as shown in the textbook (optional for this course)."
      ],
      "metadata": {
        "id": "HEHVyxOoBTjj"
      }
    }
  ]
}