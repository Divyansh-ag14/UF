{
  "cells": [
    {
      "cell_type": "markdown",
      "id": "lJImdJDdBDuB",
      "metadata": {
        "id": "lJImdJDdBDuB"
      },
      "source": [
        "<font color='blue'> First of all, please “Copy to Drive” to get your own copy for editing. </font>\n",
        "\n",
        "<font color='red'> Run all the cells. For places with \"Complete the codes below\", please replace the \"XXX\" placeholder with your own codes.</font>"
      ]
    },
    {
      "cell_type": "markdown",
      "id": "b0c3eca8",
      "metadata": {
        "id": "b0c3eca8"
      },
      "source": [
        "# Ch 3.1 Data Structures and Sequences\n",
        "\n",
        "Python’s data structures are simple but powerful. We start with tuple, list, and dictionary, which are some of the most frequently used sequence types."
      ]
    },
    {
      "cell_type": "markdown",
      "id": "7aHiRdcReQL-",
      "metadata": {
        "id": "7aHiRdcReQL-"
      },
      "source": [
        "![data structure](http://drive.google.com/uc?export=view&id=18HnsL2KUdRCg_BKcZElZ0Wuf6QRpSeBy)\n",
        "\n",
        "* *You can use curly braces to define a set like this: {1, 2, 3}. However, if you leave the curly braces empty like this: {} Python will instead create an empty dictionary. So to create an empty set, use set().\n",
        "* **A dictionary itself is mutable, but each of its individual keys must be immutable."
      ]
    },
    {
      "cell_type": "markdown",
      "id": "3a6e79a6",
      "metadata": {
        "id": "3a6e79a6"
      },
      "source": [
        "## Tuple"
      ]
    },
    {
      "cell_type": "markdown",
      "id": "706c8677",
      "metadata": {
        "id": "706c8677"
      },
      "source": [
        "  ### Basics"
      ]
    },
    {
      "cell_type": "markdown",
      "id": "d8f7017d",
      "metadata": {
        "id": "d8f7017d"
      },
      "source": [
        "A tuple is a fixed-length, immutable sequence of Python objects which, once assigned, cannot be changed. The easiest way to create one is with a comma-separated sequence of values wrapped in parentheses:"
      ]
    },
    {
      "cell_type": "code",
      "execution_count": null,
      "id": "f44cf064",
      "metadata": {
        "colab": {
          "base_uri": "https://localhost:8080/"
        },
        "id": "f44cf064",
        "outputId": "5d53cc7e-cec6-46a3-d966-db98da70807d"
      },
      "outputs": [
        {
          "data": {
            "text/plain": [
              "(4, 5, 6)"
            ]
          },
          "execution_count": 1,
          "metadata": {},
          "output_type": "execute_result"
        }
      ],
      "source": [
        "tup = (4, 5, 6)\n",
        "tup"
      ]
    },
    {
      "cell_type": "code",
      "execution_count": null,
      "id": "122f6a76",
      "metadata": {
        "colab": {
          "base_uri": "https://localhost:8080/"
        },
        "id": "122f6a76",
        "outputId": "61ded85d-9860-42b2-d137-6d9751e702d3"
      },
      "outputs": [
        {
          "data": {
            "text/plain": [
              "(7, 8, 9)"
            ]
          },
          "execution_count": 2,
          "metadata": {},
          "output_type": "execute_result"
        }
      ],
      "source": [
        "tup = 7, 8, 9  # In many contexts, the parentheses can be omitted\n",
        "tup"
      ]
    },
    {
      "cell_type": "markdown",
      "id": "01f54844",
      "metadata": {
        "id": "01f54844"
      },
      "source": [
        "You can convert any sequence or iterator to a tuple by invoking `tuple()`:"
      ]
    },
    {
      "cell_type": "code",
      "execution_count": null,
      "id": "23dd032d",
      "metadata": {
        "colab": {
          "base_uri": "https://localhost:8080/"
        },
        "id": "23dd032d",
        "outputId": "d9eed837-297a-4f54-91af-448fb26f46a4"
      },
      "outputs": [
        {
          "data": {
            "text/plain": [
              "(1, 2, 3)"
            ]
          },
          "execution_count": 3,
          "metadata": {},
          "output_type": "execute_result"
        }
      ],
      "source": [
        "mylist = [1, 2, 3]\n",
        "tup1 = tuple(mylist)\n",
        "tup1"
      ]
    },
    {
      "cell_type": "code",
      "execution_count": null,
      "id": "a49d0c4f",
      "metadata": {
        "colab": {
          "base_uri": "https://localhost:8080/"
        },
        "id": "a49d0c4f",
        "outputId": "9c7f2316-e78f-46fe-bb02-583a98689192"
      },
      "outputs": [
        {
          "data": {
            "text/plain": [
              "('H', 'e', 'l', 'l', 'o')"
            ]
          },
          "execution_count": 4,
          "metadata": {},
          "output_type": "execute_result"
        }
      ],
      "source": [
        "string = \"Hello\"\n",
        "tup2 = tuple(string)\n",
        "tup2"
      ]
    },
    {
      "cell_type": "markdown",
      "id": "b9550bf2",
      "metadata": {
        "id": "b9550bf2"
      },
      "source": [
        "Elements can be accessed with square brackets [] as with most other sequence types. Sequences are 0-indexed in Python:"
      ]
    },
    {
      "cell_type": "code",
      "execution_count": null,
      "id": "25ef2a36",
      "metadata": {
        "colab": {
          "base_uri": "https://localhost:8080/"
        },
        "id": "25ef2a36",
        "outputId": "741fecad-04c7-4f6c-c53e-d3ad19ded683"
      },
      "outputs": [
        {
          "data": {
            "text/plain": [
              "1"
            ]
          },
          "execution_count": 5,
          "metadata": {},
          "output_type": "execute_result"
        }
      ],
      "source": [
        "tup1[0]"
      ]
    },
    {
      "cell_type": "code",
      "execution_count": null,
      "id": "55dde1ad",
      "metadata": {
        "colab": {
          "base_uri": "https://localhost:8080/",
          "height": 36
        },
        "id": "55dde1ad",
        "outputId": "ae79e74a-8e24-4b64-8862-680b9e9ab92e"
      },
      "outputs": [
        {
          "data": {
            "application/vnd.google.colaboratory.intrinsic+json": {
              "type": "string"
            },
            "text/plain": [
              "'e'"
            ]
          },
          "execution_count": 6,
          "metadata": {},
          "output_type": "execute_result"
        }
      ],
      "source": [
        "tup2[1]"
      ]
    },
    {
      "cell_type": "markdown",
      "id": "66d579c7",
      "metadata": {
        "id": "66d579c7"
      },
      "source": [
        "When you're defining tuples within more complicated expressions, it’s often necessary to enclose the values in parentheses, as in this example of creating a tuple of tuples:"
      ]
    },
    {
      "cell_type": "code",
      "execution_count": null,
      "id": "0121dc08",
      "metadata": {
        "colab": {
          "base_uri": "https://localhost:8080/"
        },
        "id": "0121dc08",
        "outputId": "95d9b7d0-7ceb-4e0b-f793-501301b1ba78"
      },
      "outputs": [
        {
          "data": {
            "text/plain": [
              "((4, 5, 6), (7, 8))"
            ]
          },
          "execution_count": 7,
          "metadata": {},
          "output_type": "execute_result"
        }
      ],
      "source": [
        "nested_tup = (4, 5, 6), (7, 8) # the parentheses can be omitted\n",
        "nested_tup"
      ]
    },
    {
      "cell_type": "code",
      "execution_count": null,
      "id": "e9bbf935",
      "metadata": {
        "colab": {
          "base_uri": "https://localhost:8080/"
        },
        "id": "e9bbf935",
        "outputId": "b6395a2b-4ab0-465b-9669-e69d3a93cfff"
      },
      "outputs": [
        {
          "data": {
            "text/plain": [
              "(4, 5, 6)"
            ]
          },
          "execution_count": 8,
          "metadata": {},
          "output_type": "execute_result"
        }
      ],
      "source": [
        "nested_tup[0]"
      ]
    },
    {
      "cell_type": "code",
      "execution_count": null,
      "id": "b70bdd7e",
      "metadata": {
        "colab": {
          "base_uri": "https://localhost:8080/"
        },
        "id": "b70bdd7e",
        "outputId": "75880536-38a2-4a32-ae83-41626c11b5c3"
      },
      "outputs": [
        {
          "data": {
            "text/plain": [
              "(7, 8)"
            ]
          },
          "execution_count": 9,
          "metadata": {},
          "output_type": "execute_result"
        }
      ],
      "source": [
        "nested_tup[1]"
      ]
    },
    {
      "cell_type": "markdown",
      "id": "0c8c408e",
      "metadata": {
        "id": "0c8c408e"
      },
      "source": [
        "While the objects stored in a tuple may be mutable themselves, once the tuple is created it’s not possible to modify which object is stored in each slot:"
      ]
    },
    {
      "cell_type": "code",
      "execution_count": null,
      "id": "554578d1",
      "metadata": {
        "colab": {
          "base_uri": "https://localhost:8080/",
          "height": 158
        },
        "id": "554578d1",
        "outputId": "f18b9307-8e17-4089-af23-65412ed23237"
      },
      "outputs": [
        {
          "ename": "TypeError",
          "evalue": "'tuple' object does not support item assignment",
          "output_type": "error",
          "traceback": [
            "\u001b[0;31m---------------------------------------------------------------------------\u001b[0m",
            "\u001b[0;31mTypeError\u001b[0m                                 Traceback (most recent call last)",
            "\u001b[0;32m<ipython-input-10-57732f893bc4>\u001b[0m in \u001b[0;36m<cell line: 2>\u001b[0;34m()\u001b[0m\n\u001b[1;32m      1\u001b[0m \u001b[0mtup\u001b[0m \u001b[0;34m=\u001b[0m \u001b[0mtuple\u001b[0m\u001b[0;34m(\u001b[0m\u001b[0;34m[\u001b[0m\u001b[0;34m'foo'\u001b[0m\u001b[0;34m,\u001b[0m \u001b[0;34m[\u001b[0m\u001b[0;36m1\u001b[0m\u001b[0;34m,\u001b[0m \u001b[0;36m2\u001b[0m\u001b[0;34m]\u001b[0m\u001b[0;34m,\u001b[0m \u001b[0;32mTrue\u001b[0m\u001b[0;34m]\u001b[0m\u001b[0;34m)\u001b[0m\u001b[0;34m\u001b[0m\u001b[0;34m\u001b[0m\u001b[0m\n\u001b[0;32m----> 2\u001b[0;31m \u001b[0mtup\u001b[0m\u001b[0;34m[\u001b[0m\u001b[0;36m2\u001b[0m\u001b[0;34m]\u001b[0m \u001b[0;34m=\u001b[0m \u001b[0;32mFalse\u001b[0m  \u001b[0;31m#Error --cannot be changed\u001b[0m\u001b[0;34m\u001b[0m\u001b[0;34m\u001b[0m\u001b[0m\n\u001b[0m",
            "\u001b[0;31mTypeError\u001b[0m: 'tuple' object does not support item assignment"
          ]
        }
      ],
      "source": [
        "tup = tuple(['foo', [1, 2], True])\n",
        "tup[2] = False  #Error --cannot be changed"
      ]
    },
    {
      "cell_type": "markdown",
      "id": "ac29e27f",
      "metadata": {
        "id": "ac29e27f"
      },
      "source": [
        "If an object inside a tuple is mutable, such as a list, you can modify it in place:"
      ]
    },
    {
      "cell_type": "code",
      "execution_count": null,
      "id": "b5eb2ac2",
      "metadata": {
        "colab": {
          "base_uri": "https://localhost:8080/"
        },
        "id": "b5eb2ac2",
        "outputId": "d0b0f9d0-409b-42dc-e43e-dcdfb4a4363e"
      },
      "outputs": [
        {
          "data": {
            "text/plain": [
              "('foo', [1, 2, 3], True)"
            ]
          },
          "execution_count": 11,
          "metadata": {},
          "output_type": "execute_result"
        }
      ],
      "source": [
        "tup[1].append(3)\n",
        "tup"
      ]
    },
    {
      "cell_type": "markdown",
      "id": "f771d728",
      "metadata": {
        "id": "f771d728"
      },
      "source": [
        "You can concatenate tuples using the `+` operator to produce longer tuples:"
      ]
    },
    {
      "cell_type": "code",
      "execution_count": null,
      "id": "bd3e6edf",
      "metadata": {
        "colab": {
          "base_uri": "https://localhost:8080/"
        },
        "id": "bd3e6edf",
        "outputId": "c99b7bf3-6b4e-422e-ba44-527efb467a41"
      },
      "outputs": [
        {
          "data": {
            "text/plain": [
              "(4, None, 'foo', 6, 0, 'bar')"
            ]
          },
          "execution_count": 12,
          "metadata": {},
          "output_type": "execute_result"
        }
      ],
      "source": [
        "(4, None, 'foo') + (6, 0) + ('bar',)"
      ]
    },
    {
      "cell_type": "markdown",
      "id": "bb10c3d1",
      "metadata": {
        "id": "bb10c3d1"
      },
      "source": [
        "Multiplying a tuple by an integer, as with lists, has the effect of concatenating that many copies of the tuple:"
      ]
    },
    {
      "cell_type": "code",
      "execution_count": null,
      "id": "7e09f2cb",
      "metadata": {
        "colab": {
          "base_uri": "https://localhost:8080/"
        },
        "id": "7e09f2cb",
        "outputId": "7a343790-5164-4ec7-cc0b-3638f6cb6684"
      },
      "outputs": [
        {
          "data": {
            "text/plain": [
              "('foo', 'bar', 'foo', 'bar', 'foo', 'bar', 'foo', 'bar')"
            ]
          },
          "execution_count": 13,
          "metadata": {},
          "output_type": "execute_result"
        }
      ],
      "source": [
        "('foo', 'bar') * 4"
      ]
    },
    {
      "cell_type": "markdown",
      "id": "ce57d5dd",
      "metadata": {
        "id": "ce57d5dd"
      },
      "source": [
        "### Unpacking Tuples"
      ]
    },
    {
      "cell_type": "markdown",
      "id": "91ce8cd9",
      "metadata": {
        "id": "91ce8cd9"
      },
      "source": [
        "If you try to assign to a tuple-like expression of variables, Python will attempt to unpack the value on the righthand side of the equals sign:"
      ]
    },
    {
      "cell_type": "code",
      "execution_count": null,
      "id": "75bd169c",
      "metadata": {
        "colab": {
          "base_uri": "https://localhost:8080/"
        },
        "id": "75bd169c",
        "outputId": "ff92120b-90cd-416f-8102-ae87bc67568d"
      },
      "outputs": [
        {
          "data": {
            "text/plain": [
              "2"
            ]
          },
          "execution_count": 14,
          "metadata": {},
          "output_type": "execute_result"
        }
      ],
      "source": [
        "a, b, c = (1, 2, 3)\n",
        "b"
      ]
    },
    {
      "cell_type": "code",
      "execution_count": null,
      "id": "6e45fecb",
      "metadata": {
        "colab": {
          "base_uri": "https://localhost:8080/"
        },
        "id": "6e45fecb",
        "outputId": "a8894ad9-357c-4b95-b19f-4bc5088d34cd"
      },
      "outputs": [
        {
          "data": {
            "text/plain": [
              "7"
            ]
          },
          "execution_count": 15,
          "metadata": {},
          "output_type": "execute_result"
        }
      ],
      "source": [
        "tup = 4, 5, (6, 7) # It also works for sequences with nested tuples\n",
        "a, b, (c, d) = tup\n",
        "d"
      ]
    },
    {
      "cell_type": "markdown",
      "id": "90f81146",
      "metadata": {
        "id": "90f81146"
      },
      "source": [
        "Using this functionality you can easily swap variable names."
      ]
    },
    {
      "cell_type": "code",
      "execution_count": null,
      "id": "05a532da",
      "metadata": {
        "colab": {
          "base_uri": "https://localhost:8080/"
        },
        "id": "05a532da",
        "outputId": "50b3eaaf-6184-41f9-a0fc-bc0e782c983a"
      },
      "outputs": [
        {
          "name": "stdout",
          "output_type": "stream",
          "text": [
            "a:6, b:5\n"
          ]
        }
      ],
      "source": [
        "# In other languages:\n",
        "\n",
        "a = 5\n",
        "b = 6\n",
        "\n",
        "temp = a\n",
        "a = b\n",
        "b = temp\n",
        "\n",
        "print(f\"a:{a}, b:{b}\")"
      ]
    },
    {
      "cell_type": "code",
      "execution_count": null,
      "id": "551643c5",
      "metadata": {
        "colab": {
          "base_uri": "https://localhost:8080/"
        },
        "id": "551643c5",
        "outputId": "c16086fd-e97e-4bb0-f9a7-ce010ea6f689"
      },
      "outputs": [
        {
          "name": "stdout",
          "output_type": "stream",
          "text": [
            "a:6, b:5\n"
          ]
        }
      ],
      "source": [
        "# In python:\n",
        "\n",
        "a = 5\n",
        "b = 6\n",
        "\n",
        "a, b = b, a\n",
        "\n",
        "print(f\"a:{a}, b:{b}\")"
      ]
    },
    {
      "cell_type": "markdown",
      "id": "d9d564b4",
      "metadata": {
        "id": "d9d564b4"
      },
      "source": [
        "A common use of variable unpacking is iterating over sequences of tuples or lists:"
      ]
    },
    {
      "cell_type": "code",
      "execution_count": null,
      "id": "ece917e2",
      "metadata": {
        "colab": {
          "base_uri": "https://localhost:8080/"
        },
        "id": "ece917e2",
        "outputId": "0ee3ea21-2064-408c-8f53-9d89d3dbaf6c"
      },
      "outputs": [
        {
          "name": "stdout",
          "output_type": "stream",
          "text": [
            "a=1, b=2, c=3\n",
            "a=4, b=5, c=6\n",
            "a=7, b=8, c=9\n"
          ]
        }
      ],
      "source": [
        "seq = [(1, 2, 3), (4, 5, 6), (7, 8, 9)]\n",
        "\n",
        "for a, b, c in seq:\n",
        "    print(f'a={a}, b={b}, c={c}')"
      ]
    },
    {
      "cell_type": "markdown",
      "id": "7ddd0e38",
      "metadata": {
        "id": "7ddd0e38"
      },
      "source": [
        "There is a special syntax `*rest` which is used when you may want to \"pluck\" a few elements from the beginning of a tuple."
      ]
    },
    {
      "cell_type": "code",
      "execution_count": null,
      "id": "5f9e631e",
      "metadata": {
        "colab": {
          "base_uri": "https://localhost:8080/"
        },
        "id": "5f9e631e",
        "outputId": "2aa61857-87c0-4df1-ae74-6832bc327579"
      },
      "outputs": [
        {
          "name": "stdout",
          "output_type": "stream",
          "text": [
            "a=1, b=2, rest=[3, 4, 5]\n"
          ]
        }
      ],
      "source": [
        "values = (1, 2, 3, 4, 5)\n",
        "a, b, *rest = values\n",
        "\n",
        "print(f'a={a}, b={b}, rest={rest}')"
      ]
    },
    {
      "cell_type": "code",
      "execution_count": null,
      "id": "36139fd1",
      "metadata": {
        "colab": {
          "base_uri": "https://localhost:8080/"
        },
        "id": "36139fd1",
        "outputId": "6317dbab-df3b-4759-a69c-37c07f9860b9"
      },
      "outputs": [
        {
          "data": {
            "text/plain": [
              "[3, 4, 5]"
            ]
          },
          "execution_count": 20,
          "metadata": {},
          "output_type": "execute_result"
        }
      ],
      "source": [
        "a, b, *_ = values  # The 'rest' name is not necessary and can be changed.\n",
        "_                  # As a matter of convention underscore (_) for unwanted variables\n"
      ]
    },
    {
      "cell_type": "markdown",
      "id": "f924bfaf",
      "metadata": {
        "id": "f924bfaf"
      },
      "source": [
        "### Tuplet Methods\n",
        "\n",
        "Since the size and contents of a tuple cannot be modified, it is very light on instance methods. A particularly useful one (also available on lists) is `count()`, which counts the number of occurrences of a value:"
      ]
    },
    {
      "cell_type": "code",
      "execution_count": null,
      "id": "cb55491b",
      "metadata": {
        "colab": {
          "base_uri": "https://localhost:8080/"
        },
        "id": "cb55491b",
        "outputId": "a11cb3ca-5818-409c-d4b7-c403d43157b5"
      },
      "outputs": [
        {
          "data": {
            "text/plain": [
              "4"
            ]
          },
          "execution_count": 21,
          "metadata": {},
          "output_type": "execute_result"
        }
      ],
      "source": [
        "a = (1, 2, 2, 2, 3, 4, 2)\n",
        "a.count(2)"
      ]
    },
    {
      "cell_type": "markdown",
      "id": "9e8cc040",
      "metadata": {
        "id": "9e8cc040"
      },
      "source": [
        "<font color='red'>Complete the codes in the cell below. Please replace the \"XXX\" placeholder with your own codes. </font>"
      ]
    },
    {
      "cell_type": "code",
      "execution_count": null,
      "id": "baf8cd0d",
      "metadata": {
        "colab": {
          "base_uri": "https://localhost:8080/"
        },
        "id": "baf8cd0d",
        "outputId": "fc163fc8-18bb-40e8-c144-5685f16eb0f8"
      },
      "outputs": [
        {
          "name": "stdout",
          "output_type": "stream",
          "text": [
            "First: 1  Second: 2  Rest: []\n",
            "Sum of first two: 3  Sum of Rest: 0\n",
            "\n",
            "First: 3  Second: 4  Rest: [5]\n",
            "Sum of first two: 7  Sum of Rest: 5\n",
            "\n",
            "First: 6  Second: 7  Rest: [8, 9]\n",
            "Sum of first two: 13  Sum of Rest: 17\n",
            "\n",
            "First: 10  Second: 11  Rest: [12, 13, 14]\n",
            "Sum of first two: 21  Sum of Rest: 39\n",
            "\n",
            "First: 15  Second: 16  Rest: [17, 18, 19, 20]\n",
            "Sum of first two: 31  Sum of Rest: 74\n",
            "\n"
          ]
        }
      ],
      "source": [
        "list_of_tuples = [(1, 2), (3, 4, 5), (6, 7, 8, 9), (10, 11, 12, 13, 14),(15, 16, 17, 18, 19, 20)]\n",
        "\n",
        "# Iterate over each tuple in the list (use variale unpacking)\n",
        "for first, second, *rest in list_of_tuples:\n",
        "\n",
        "    # Print the values of 'first', 'second', and 'rest' for each tuple\n",
        "    print(f\"First: {first}  Second: {second}  Rest: {rest}\")\n",
        "\n",
        "    # Calculate the total sum of the first two elements and the sum of the rest\n",
        "    first_two = first + second\n",
        "    rest_sum = sum(rest)\n",
        "\n",
        "    # Print the results of the additional operations\n",
        "    print(f\"Sum of first two: {first_two}  Sum of Rest: {rest_sum}\")\n",
        "    print()"
      ]
    },
    {
      "cell_type": "markdown",
      "id": "55a45eb2",
      "metadata": {
        "id": "55a45eb2"
      },
      "source": [
        "## List"
      ]
    },
    {
      "cell_type": "markdown",
      "id": "0dfac2df",
      "metadata": {
        "id": "0dfac2df"
      },
      "source": [
        "### Basics\n",
        "\n",
        "In contrast with tuples, lists are variable length and their contents can be modified in place. Lists are mutable. You can define them using square brackets [] or using the `list()` type function:"
      ]
    },
    {
      "cell_type": "code",
      "execution_count": null,
      "id": "b72533fa",
      "metadata": {
        "colab": {
          "base_uri": "https://localhost:8080/"
        },
        "id": "b72533fa",
        "outputId": "2bde7d80-3ce8-4665-fc2c-dbf55f00309f"
      },
      "outputs": [
        {
          "data": {
            "text/plain": [
              "['foo', 'bar', 'baz']"
            ]
          },
          "execution_count": 24,
          "metadata": {},
          "output_type": "execute_result"
        }
      ],
      "source": [
        "a_list = [2, 3, 7, None]\n",
        "\n",
        "tup = (\"foo\", \"bar\", \"baz\")\n",
        "b_list = list(tup)\n",
        "b_list"
      ]
    },
    {
      "cell_type": "code",
      "execution_count": null,
      "id": "0289571a",
      "metadata": {
        "colab": {
          "base_uri": "https://localhost:8080/"
        },
        "id": "0289571a",
        "outputId": "e3a4348a-c295-441f-e629-5efa50ccd30d"
      },
      "outputs": [
        {
          "data": {
            "text/plain": [
              "['foo', 'peekaboo', 'baz']"
            ]
          },
          "execution_count": 25,
          "metadata": {},
          "output_type": "execute_result"
        }
      ],
      "source": [
        "b_list[1] = \"peekaboo\"\n",
        "b_list"
      ]
    },
    {
      "cell_type": "markdown",
      "id": "d80a4c13",
      "metadata": {
        "id": "d80a4c13"
      },
      "source": [
        "The `list()` built-in function is frequently used in data processing as a way to materialize an iterator or generator expression:"
      ]
    },
    {
      "cell_type": "code",
      "execution_count": null,
      "id": "2013d93a",
      "metadata": {
        "colab": {
          "base_uri": "https://localhost:8080/"
        },
        "id": "2013d93a",
        "outputId": "fe9a6a04-dfa4-4092-fc02-414c1c93d97d"
      },
      "outputs": [
        {
          "data": {
            "text/plain": [
              "range(0, 10)"
            ]
          },
          "execution_count": 26,
          "metadata": {},
          "output_type": "execute_result"
        }
      ],
      "source": [
        "gen = range(10)\n",
        "gen"
      ]
    },
    {
      "cell_type": "code",
      "execution_count": null,
      "id": "0ce60855",
      "metadata": {
        "colab": {
          "base_uri": "https://localhost:8080/"
        },
        "id": "0ce60855",
        "outputId": "7e8ca753-8358-439a-b346-c6a5b7b47f86"
      },
      "outputs": [
        {
          "data": {
            "text/plain": [
              "[0, 1, 2, 3, 4, 5, 6, 7, 8, 9]"
            ]
          },
          "execution_count": 27,
          "metadata": {},
          "output_type": "execute_result"
        }
      ],
      "source": [
        "list(gen)"
      ]
    },
    {
      "cell_type": "markdown",
      "id": "be9a991e",
      "metadata": {
        "id": "be9a991e"
      },
      "source": [
        "### Adding and removing elements\n",
        "\n",
        "Elements can be appended to the end of the list with the **`append()`** method:\n"
      ]
    },
    {
      "cell_type": "code",
      "execution_count": null,
      "id": "4a6c5b4f",
      "metadata": {
        "colab": {
          "base_uri": "https://localhost:8080/"
        },
        "id": "4a6c5b4f",
        "outputId": "ea5d981e-f49b-4960-8177-4d8e53f1fefe"
      },
      "outputs": [
        {
          "data": {
            "text/plain": [
              "['foo', 'bar', 'baz', 'dwarf']"
            ]
          },
          "execution_count": 28,
          "metadata": {},
          "output_type": "execute_result"
        }
      ],
      "source": [
        "mylist = ['foo', 'bar', 'baz']\n",
        "mylist.append(\"dwarf\")\n",
        "mylist"
      ]
    },
    {
      "cell_type": "markdown",
      "id": "10e2b1bf",
      "metadata": {
        "id": "10e2b1bf"
      },
      "source": [
        "Using **`insert()`** you can insert an element at a specific location in the list:"
      ]
    },
    {
      "cell_type": "code",
      "execution_count": null,
      "id": "3b735be7",
      "metadata": {
        "colab": {
          "base_uri": "https://localhost:8080/"
        },
        "id": "3b735be7",
        "outputId": "d1b7adce-585f-433f-c763-13967d8103d1"
      },
      "outputs": [
        {
          "data": {
            "text/plain": [
              "['foo', 'red', 'bar', 'baz', 'dwarf']"
            ]
          },
          "execution_count": 29,
          "metadata": {},
          "output_type": "execute_result"
        }
      ],
      "source": [
        "mylist.insert(1, \"red\")  # The insertion index must be between 0 and the length of the list, inclusive.\n",
        "mylist"
      ]
    },
    {
      "cell_type": "markdown",
      "id": "07ee21fa",
      "metadata": {
        "id": "07ee21fa"
      },
      "source": [
        "With the **`pop()`** you can remove and return an element at a particular index:"
      ]
    },
    {
      "cell_type": "code",
      "execution_count": null,
      "id": "65181ef6",
      "metadata": {
        "colab": {
          "base_uri": "https://localhost:8080/",
          "height": 36
        },
        "id": "65181ef6",
        "outputId": "c350d36e-aa1c-4711-c12a-ca6932484147"
      },
      "outputs": [
        {
          "data": {
            "application/vnd.google.colaboratory.intrinsic+json": {
              "type": "string"
            },
            "text/plain": [
              "'bar'"
            ]
          },
          "execution_count": 30,
          "metadata": {},
          "output_type": "execute_result"
        }
      ],
      "source": [
        "mylist.pop(2)"
      ]
    },
    {
      "cell_type": "code",
      "execution_count": null,
      "id": "acfaa084",
      "metadata": {
        "colab": {
          "base_uri": "https://localhost:8080/"
        },
        "id": "acfaa084",
        "outputId": "b47faaba-573d-4753-df02-627790c7b6dd"
      },
      "outputs": [
        {
          "data": {
            "text/plain": [
              "['foo', 'red', 'baz', 'dwarf']"
            ]
          },
          "execution_count": 31,
          "metadata": {},
          "output_type": "execute_result"
        }
      ],
      "source": [
        "mylist"
      ]
    },
    {
      "cell_type": "markdown",
      "id": "2e241024",
      "metadata": {
        "id": "2e241024"
      },
      "source": [
        "Elements can be removed by value with **`remove()`**, which locates the first such value and removes it from the list:"
      ]
    },
    {
      "cell_type": "code",
      "execution_count": null,
      "id": "b8086613",
      "metadata": {
        "colab": {
          "base_uri": "https://localhost:8080/"
        },
        "id": "b8086613",
        "outputId": "98bd86cc-add2-4bab-f510-9a0b7aff2bc2"
      },
      "outputs": [
        {
          "data": {
            "text/plain": [
              "['foo', 'red', 'baz', 'dwarf', 'foo']"
            ]
          },
          "execution_count": 32,
          "metadata": {},
          "output_type": "execute_result"
        }
      ],
      "source": [
        "mylist.append('foo')\n",
        "mylist"
      ]
    },
    {
      "cell_type": "code",
      "execution_count": null,
      "id": "cc775d1a",
      "metadata": {
        "colab": {
          "base_uri": "https://localhost:8080/"
        },
        "id": "cc775d1a",
        "outputId": "8aed97d1-cb80-4e1e-cc98-20325254c931"
      },
      "outputs": [
        {
          "data": {
            "text/plain": [
              "['red', 'baz', 'dwarf', 'foo']"
            ]
          },
          "execution_count": 33,
          "metadata": {},
          "output_type": "execute_result"
        }
      ],
      "source": [
        "mylist.remove('foo')\n",
        "mylist"
      ]
    },
    {
      "cell_type": "markdown",
      "id": "e98611b9",
      "metadata": {
        "id": "e98611b9"
      },
      "source": [
        "You can check if a list contains a value using `in` keyword:"
      ]
    },
    {
      "cell_type": "code",
      "execution_count": null,
      "id": "61474d26",
      "metadata": {
        "colab": {
          "base_uri": "https://localhost:8080/"
        },
        "id": "61474d26",
        "outputId": "d87937b1-1097-4fd8-9b8d-7b9c2c50e1ef"
      },
      "outputs": [
        {
          "data": {
            "text/plain": [
              "True"
            ]
          },
          "execution_count": 34,
          "metadata": {},
          "output_type": "execute_result"
        }
      ],
      "source": [
        "'red' in mylist"
      ]
    },
    {
      "cell_type": "code",
      "execution_count": null,
      "id": "21d2e09b",
      "metadata": {
        "colab": {
          "base_uri": "https://localhost:8080/"
        },
        "id": "21d2e09b",
        "outputId": "ccebdc3d-5e1d-4b26-95cd-50c7031d42b4"
      },
      "outputs": [
        {
          "data": {
            "text/plain": [
              "True"
            ]
          },
          "execution_count": 35,
          "metadata": {},
          "output_type": "execute_result"
        }
      ],
      "source": [
        "'country' not in mylist"
      ]
    },
    {
      "cell_type": "markdown",
      "id": "c4a32d45",
      "metadata": {
        "id": "c4a32d45"
      },
      "source": [
        "### Concatenating and combining lists\n",
        "\n",
        "Similar to tuples, adding two lists together with + concatenates them:"
      ]
    },
    {
      "cell_type": "code",
      "execution_count": null,
      "id": "a4e79eb9",
      "metadata": {
        "colab": {
          "base_uri": "https://localhost:8080/"
        },
        "id": "a4e79eb9",
        "outputId": "2e6e0e0b-eb9e-488c-f4b6-29321b8ad7b1"
      },
      "outputs": [
        {
          "data": {
            "text/plain": [
              "[4, None, 'foo', 7, 8, (2, 3)]"
            ]
          },
          "execution_count": 36,
          "metadata": {},
          "output_type": "execute_result"
        }
      ],
      "source": [
        "[4, None, \"foo\"] + [7, 8, (2, 3)]"
      ]
    },
    {
      "cell_type": "markdown",
      "id": "d3848101",
      "metadata": {
        "id": "d3848101"
      },
      "source": [
        "If you have a list already defined, you can append multiple elements to it using the **`extend()`** method:"
      ]
    },
    {
      "cell_type": "code",
      "execution_count": null,
      "id": "cc3d7122",
      "metadata": {
        "colab": {
          "base_uri": "https://localhost:8080/"
        },
        "id": "cc3d7122",
        "outputId": "8a2c9c1b-50a2-41ff-8f05-2d4ad2bfb570"
      },
      "outputs": [
        {
          "data": {
            "text/plain": [
              "[4, None, 'foo', 7, 8, (2, 3)]"
            ]
          },
          "execution_count": 37,
          "metadata": {},
          "output_type": "execute_result"
        }
      ],
      "source": [
        "x = [4, None, \"foo\"]\n",
        "x.extend([7, 8, (2, 3)])\n",
        "x"
      ]
    },
    {
      "cell_type": "markdown",
      "id": "33fb5509",
      "metadata": {
        "id": "33fb5509"
      },
      "source": [
        "Note that list **concatenation by addition is a comparatively expensive operation** since a new list must be created and the objects copied over. Using **extend** to append elements to an existing list, especially if you are building up a large list, **is usually preferable**."
      ]
    },
    {
      "cell_type": "markdown",
      "id": "7cbdcb82",
      "metadata": {
        "id": "7cbdcb82"
      },
      "source": [
        "    (Concatination by addition)\n",
        "    \n",
        "    everything = []\n",
        "    for chunk in list_of_lists:\n",
        "        everything = everything + chunk"
      ]
    },
    {
      "cell_type": "markdown",
      "id": "1389b352",
      "metadata": {
        "id": "1389b352"
      },
      "source": [
        "    (Preferred)\n",
        "    \n",
        "    everything = []\n",
        "    for chunk in list_of_lists:\n",
        "        everything.extend(chunk)"
      ]
    },
    {
      "cell_type": "markdown",
      "id": "1148ca68",
      "metadata": {
        "id": "1148ca68"
      },
      "source": [
        "### Sorting\n",
        "\n",
        "You can sort a list in place (without creating a new object) by calling its **`sort()`** function:"
      ]
    },
    {
      "cell_type": "code",
      "execution_count": null,
      "id": "fb132fee",
      "metadata": {
        "colab": {
          "base_uri": "https://localhost:8080/"
        },
        "id": "fb132fee",
        "outputId": "d83b3fba-c83b-4c36-d23b-02a83eb7977b"
      },
      "outputs": [
        {
          "data": {
            "text/plain": [
              "[1, 2, 3, 5, 7]"
            ]
          },
          "execution_count": 38,
          "metadata": {},
          "output_type": "execute_result"
        }
      ],
      "source": [
        "a = [7, 2, 5, 1, 3]\n",
        "a.sort()\n",
        "a"
      ]
    },
    {
      "cell_type": "code",
      "execution_count": null,
      "id": "f0febee0",
      "metadata": {
        "colab": {
          "base_uri": "https://localhost:8080/"
        },
        "id": "f0febee0",
        "outputId": "692e4566-7316-4acc-df3a-192e68fac014"
      },
      "outputs": [
        {
          "data": {
            "text/plain": [
              "['He', 'saw', 'six', 'small', 'foxes']"
            ]
          },
          "execution_count": 39,
          "metadata": {},
          "output_type": "execute_result"
        }
      ],
      "source": [
        "b = [\"saw\", \"small\", \"He\", \"foxes\", \"six\"]\n",
        "b.sort(key=len)  # We can pass a secondary sort key. Example: sort a collection of strings by their lengths\n",
        "b"
      ]
    },
    {
      "cell_type": "markdown",
      "id": "be82aa07",
      "metadata": {
        "id": "be82aa07"
      },
      "source": [
        "### Slicing"
      ]
    },
    {
      "cell_type": "markdown",
      "id": "1146730e",
      "metadata": {
        "id": "1146730e"
      },
      "source": [
        "You can select sections of most sequence types by using slice notation, which in its basic form consists of `start:stop` passed to the indexing operator `[]`:"
      ]
    },
    {
      "cell_type": "code",
      "execution_count": null,
      "id": "2f09fc3e",
      "metadata": {
        "colab": {
          "base_uri": "https://localhost:8080/"
        },
        "id": "2f09fc3e",
        "outputId": "05abd02f-b847-4021-c3d6-c6e913c63be4"
      },
      "outputs": [
        {
          "data": {
            "text/plain": [
              "[2, 3, 7, 5]"
            ]
          },
          "execution_count": 40,
          "metadata": {},
          "output_type": "execute_result"
        }
      ],
      "source": [
        "seq = [7, 2, 3, 7, 5, 6, 0, 1]\n",
        "seq[1:5]"
      ]
    },
    {
      "cell_type": "code",
      "execution_count": null,
      "id": "e95af77b",
      "metadata": {
        "colab": {
          "base_uri": "https://localhost:8080/"
        },
        "id": "e95af77b",
        "outputId": "5da15d8f-9f89-43ce-a08d-d842c9b25b69"
      },
      "outputs": [
        {
          "data": {
            "text/plain": [
              "[7, 2, 3, 6, 3, 6, 0, 1]"
            ]
          },
          "execution_count": 41,
          "metadata": {},
          "output_type": "execute_result"
        }
      ],
      "source": [
        "seq[3:5] = [6, 3]  # Can also be assigned with a sequence\n",
        "seq"
      ]
    },
    {
      "cell_type": "markdown",
      "id": "0a57d006",
      "metadata": {
        "id": "0a57d006"
      },
      "source": [
        "*  `start` index is included\n",
        "*  `stop` index is not included\n",
        "*  Number of elements in the result is `stop` - `start`."
      ]
    },
    {
      "cell_type": "markdown",
      "id": "6085171f",
      "metadata": {
        "id": "6085171f"
      },
      "source": [
        "Either the `start` or `stop` can be omitted, in which case they default to the start of the sequence and the end of the sequence, respectively:"
      ]
    },
    {
      "cell_type": "code",
      "execution_count": null,
      "id": "263abc99",
      "metadata": {
        "colab": {
          "base_uri": "https://localhost:8080/"
        },
        "id": "263abc99",
        "outputId": "535bab88-9420-45d7-c2ed-66a119a26377"
      },
      "outputs": [
        {
          "data": {
            "text/plain": [
              "[7, 2, 3, 6, 3]"
            ]
          },
          "execution_count": 42,
          "metadata": {},
          "output_type": "execute_result"
        }
      ],
      "source": [
        "seq[:5]"
      ]
    },
    {
      "cell_type": "code",
      "execution_count": null,
      "id": "61a7466a",
      "metadata": {
        "colab": {
          "base_uri": "https://localhost:8080/"
        },
        "id": "61a7466a",
        "outputId": "5b69d74c-8e40-4a27-faac-6856998aabed"
      },
      "outputs": [
        {
          "data": {
            "text/plain": [
              "[6, 3, 6, 0, 1]"
            ]
          },
          "execution_count": 43,
          "metadata": {},
          "output_type": "execute_result"
        }
      ],
      "source": [
        "seq[3:]"
      ]
    },
    {
      "cell_type": "code",
      "execution_count": null,
      "id": "81bc3b10",
      "metadata": {
        "colab": {
          "base_uri": "https://localhost:8080/"
        },
        "id": "81bc3b10",
        "outputId": "bf3fa83c-363a-44b5-d392-52ec8f946be5"
      },
      "outputs": [
        {
          "data": {
            "text/plain": [
              "[3, 6, 0, 1]"
            ]
          },
          "execution_count": 44,
          "metadata": {},
          "output_type": "execute_result"
        }
      ],
      "source": [
        "seq[-4:] # Negative indices slice the sequence relative to the end"
      ]
    },
    {
      "cell_type": "code",
      "execution_count": null,
      "id": "c3979e7f",
      "metadata": {
        "colab": {
          "base_uri": "https://localhost:8080/"
        },
        "id": "c3979e7f",
        "outputId": "7c80c595-3d98-47e0-8aaa-d71e53ae7869"
      },
      "outputs": [
        {
          "data": {
            "text/plain": [
              "[3, 6, 3, 6]"
            ]
          },
          "execution_count": 45,
          "metadata": {},
          "output_type": "execute_result"
        }
      ],
      "source": [
        "seq[-6:-2]"
      ]
    },
    {
      "cell_type": "markdown",
      "id": "038822f5",
      "metadata": {
        "id": "038822f5"
      },
      "source": [
        "A `step` can also be used after a second colon to, e.g., step = 3 or -1"
      ]
    },
    {
      "cell_type": "code",
      "execution_count": null,
      "id": "beb24627",
      "metadata": {
        "id": "beb24627"
      },
      "outputs": [],
      "source": [
        "seq = [1, 2, 3, 4, 5, 6, 7, 8, 9]"
      ]
    },
    {
      "cell_type": "code",
      "execution_count": null,
      "id": "e4265ed7",
      "metadata": {
        "colab": {
          "base_uri": "https://localhost:8080/"
        },
        "id": "e4265ed7",
        "outputId": "da09d4e3-9e07-4baa-a820-164f6e81f4d1"
      },
      "outputs": [
        {
          "data": {
            "text/plain": [
              "[1, 4, 7]"
            ]
          },
          "execution_count": 47,
          "metadata": {},
          "output_type": "execute_result"
        }
      ],
      "source": [
        "seq[::3]"
      ]
    },
    {
      "cell_type": "code",
      "execution_count": null,
      "id": "321c9118",
      "metadata": {
        "colab": {
          "base_uri": "https://localhost:8080/"
        },
        "id": "321c9118",
        "outputId": "b02a5477-63fb-49cb-cb02-2c2c82481ccc"
      },
      "outputs": [
        {
          "data": {
            "text/plain": [
              "[9, 8, 7, 6, 5, 4, 3, 2, 1]"
            ]
          },
          "execution_count": 48,
          "metadata": {},
          "output_type": "execute_result"
        }
      ],
      "source": [
        "seq[::-1]"
      ]
    },
    {
      "cell_type": "markdown",
      "id": "befb0467",
      "metadata": {
        "id": "befb0467"
      },
      "source": [
        "<font color='red'>Complete the codes in the cell below. Please replace the \"XXX\" placeholder with your own codes. </font>"
      ]
    },
    {
      "cell_type": "code",
      "execution_count": null,
      "id": "ab243269",
      "metadata": {
        "colab": {
          "base_uri": "https://localhost:8080/"
        },
        "id": "ab243269",
        "outputId": "73e69e38-191a-4da6-9d49-500a5777c173"
      },
      "outputs": [
        {
          "name": "stdout",
          "output_type": "stream",
          "text": [
            "[19, 18, 17, 16, 15, 14, 13, 12, 11, 10, 9, 8, 7, 6, 5, 4, 3, 2, 1, 0]\n"
          ]
        }
      ],
      "source": [
        "list1 = [1, 'two', 3, 'four', 5, 'six', 7, 'eight', 9, 'ten']\n",
        "list2 = [11, 'twelve', 13, 'fourteen', 15, 'sixteen', 17, 'eighteen', 19, 'twenty']\n",
        "list3 = []\n",
        "\n",
        "# Concatenate list1 and list2 to list3 using extend()\n",
        "list3.extend(list1 + list2)\n",
        "\n",
        "# Slice through list3 to keep only integer elements (step = 2)\n",
        "list3 = list3[::2]\n",
        "\n",
        "# Append numbers from 0 to 20 that are not in list3\n",
        "for num in range(20):\n",
        "    if num not in list3:\n",
        "        list3.append(num)\n",
        "\n",
        "# Sort the list in descending order\n",
        "list3.sort(reverse=True)\n",
        "\n",
        "# Print the final list\n",
        "print(list3)\n"
      ]
    },
    {
      "cell_type": "markdown",
      "id": "9dd2516e",
      "metadata": {
        "id": "9dd2516e"
      },
      "source": [
        "## Dictionary\n",
        "\n",
        "A dictionary stores a collection of key-value pairs, where key and value are Python objects. Each key is associated with a value so that a value can be conveniently retrieved, inserted, modified, or deleted given a particular key. Dictionaries use curly braces `{}` and colons to separate keys and values:"
      ]
    },
    {
      "cell_type": "markdown",
      "id": "VhqneWfT0uDT",
      "metadata": {
        "id": "VhqneWfT0uDT"
      },
      "source": [
        "Dictionary:\n",
        "* a list stores a collection of *ordered* items\n",
        "* a dictionary stores a collection of *unordered* items\n",
        "    - as a result, there's no guarantee that the items in a dictionary remain in the same order\n",
        "\n",
        "![Python](http://drive.google.com/uc?export=view&id=1e2y6fkuwhW88ZGaibO9W6g9fU7aS1Fda)"
      ]
    },
    {
      "cell_type": "code",
      "execution_count": null,
      "id": "b0ef0290",
      "metadata": {
        "colab": {
          "base_uri": "https://localhost:8080/"
        },
        "id": "b0ef0290",
        "outputId": "1560b34d-ca15-46bd-ff77-14037ee9dd42"
      },
      "outputs": [
        {
          "data": {
            "text/plain": [
              "{'a': 'some value', 'b': [1, 2, 3, 4]}"
            ]
          },
          "execution_count": 50,
          "metadata": {},
          "output_type": "execute_result"
        }
      ],
      "source": [
        "empty_dict = {}\n",
        "\n",
        "d1 = {\"a\": \"some value\", \"b\": [1, 2, 3, 4]}\n",
        "d1"
      ]
    },
    {
      "cell_type": "markdown",
      "id": "ced270cd",
      "metadata": {
        "id": "ced270cd"
      },
      "source": [
        "You can access, insert, or set elements using the same syntax as for accessing elements of a list or tuple:"
      ]
    },
    {
      "cell_type": "code",
      "execution_count": null,
      "id": "2f18ea46",
      "metadata": {
        "colab": {
          "base_uri": "https://localhost:8080/"
        },
        "id": "2f18ea46",
        "outputId": "38155801-cc9f-4051-ca5c-d10fde5d67b7"
      },
      "outputs": [
        {
          "data": {
            "text/plain": [
              "{'a': 'some value', 'b': [1, 2, 3, 4], 7: 'an integer'}"
            ]
          },
          "execution_count": 51,
          "metadata": {},
          "output_type": "execute_result"
        }
      ],
      "source": [
        "d1[7] = \"an integer\" # dictionary[key] = value\n",
        "d1"
      ]
    },
    {
      "cell_type": "code",
      "execution_count": null,
      "id": "cf8738f4",
      "metadata": {
        "colab": {
          "base_uri": "https://localhost:8080/"
        },
        "id": "cf8738f4",
        "outputId": "29f02812-0b19-44bd-8cb9-14ebf781ec2d"
      },
      "outputs": [
        {
          "data": {
            "text/plain": [
              "[1, 2, 3, 4]"
            ]
          },
          "execution_count": 52,
          "metadata": {},
          "output_type": "execute_result"
        }
      ],
      "source": [
        "d1['b']"
      ]
    },
    {
      "cell_type": "markdown",
      "id": "8733ef4c",
      "metadata": {
        "id": "8733ef4c"
      },
      "source": [
        "You can check if a dictionary contains a key using the same syntax used for checking whether a list or tuple contains a value:"
      ]
    },
    {
      "cell_type": "code",
      "execution_count": null,
      "id": "8782fd7b",
      "metadata": {
        "colab": {
          "base_uri": "https://localhost:8080/"
        },
        "id": "8782fd7b",
        "outputId": "d8720a3e-329b-41d1-f74d-756f8f1e2cee"
      },
      "outputs": [
        {
          "data": {
            "text/plain": [
              "True"
            ]
          },
          "execution_count": 53,
          "metadata": {},
          "output_type": "execute_result"
        }
      ],
      "source": [
        "\"b\" in d1"
      ]
    },
    {
      "cell_type": "markdown",
      "id": "b57759f4",
      "metadata": {
        "id": "b57759f4"
      },
      "source": [
        "You can delete values using either the **`del`** keyword or the **`pop()`** method (which simultaneously returns the value and deletes the key):"
      ]
    },
    {
      "cell_type": "code",
      "execution_count": null,
      "id": "d365365b",
      "metadata": {
        "colab": {
          "base_uri": "https://localhost:8080/"
        },
        "id": "d365365b",
        "outputId": "8b9a1525-624a-4866-e5d5-92fa278aa534"
      },
      "outputs": [
        {
          "data": {
            "text/plain": [
              "{'a': 'some value', 'b': [1, 2, 3, 4], 7: 'an integer', 5: 'some value'}"
            ]
          },
          "execution_count": 54,
          "metadata": {},
          "output_type": "execute_result"
        }
      ],
      "source": [
        "d1[5] = \"some value\"\n",
        "d1"
      ]
    },
    {
      "cell_type": "code",
      "execution_count": null,
      "id": "608c8648",
      "metadata": {
        "colab": {
          "base_uri": "https://localhost:8080/"
        },
        "id": "608c8648",
        "outputId": "bf60700c-26d8-4374-a15a-fa0fd30b7847"
      },
      "outputs": [
        {
          "data": {
            "text/plain": [
              "{'a': 'some value',\n",
              " 'b': [1, 2, 3, 4],\n",
              " 7: 'an integer',\n",
              " 5: 'some value',\n",
              " 'dummy': 'another value'}"
            ]
          },
          "execution_count": 55,
          "metadata": {},
          "output_type": "execute_result"
        }
      ],
      "source": [
        "d1[\"dummy\"] = \"another value\"\n",
        "d1"
      ]
    },
    {
      "cell_type": "code",
      "execution_count": null,
      "id": "d217fe9f",
      "metadata": {
        "colab": {
          "base_uri": "https://localhost:8080/"
        },
        "id": "d217fe9f",
        "outputId": "925bd75a-b08e-4784-fda3-be3705abc2fe"
      },
      "outputs": [
        {
          "data": {
            "text/plain": [
              "{'a': 'some value',\n",
              " 'b': [1, 2, 3, 4],\n",
              " 7: 'an integer',\n",
              " 'dummy': 'another value'}"
            ]
          },
          "execution_count": 56,
          "metadata": {},
          "output_type": "execute_result"
        }
      ],
      "source": [
        "del d1[5]\n",
        "d1"
      ]
    },
    {
      "cell_type": "code",
      "execution_count": null,
      "id": "a6e66ce5",
      "metadata": {
        "colab": {
          "base_uri": "https://localhost:8080/",
          "height": 36
        },
        "id": "a6e66ce5",
        "outputId": "a3ba196c-c55a-4b25-e129-4e5fff051add"
      },
      "outputs": [
        {
          "data": {
            "application/vnd.google.colaboratory.intrinsic+json": {
              "type": "string"
            },
            "text/plain": [
              "'another value'"
            ]
          },
          "execution_count": 57,
          "metadata": {},
          "output_type": "execute_result"
        }
      ],
      "source": [
        "ret = d1.pop(\"dummy\")\n",
        "ret"
      ]
    },
    {
      "cell_type": "code",
      "execution_count": null,
      "id": "c6892eec",
      "metadata": {
        "colab": {
          "base_uri": "https://localhost:8080/"
        },
        "id": "c6892eec",
        "outputId": "2884115c-10b6-4fca-e5de-93cfa1b9deba"
      },
      "outputs": [
        {
          "data": {
            "text/plain": [
              "{'a': 'some value', 'b': [1, 2, 3, 4], 7: 'an integer'}"
            ]
          },
          "execution_count": 58,
          "metadata": {},
          "output_type": "execute_result"
        }
      ],
      "source": [
        "d1"
      ]
    },
    {
      "cell_type": "markdown",
      "id": "22350558",
      "metadata": {
        "id": "22350558"
      },
      "source": [
        "The **`keys()`** and **`values()`** method gives you iterators of the dictionary's keys and values, respectively. The order of the keys depends on the order of their insertion, and these functions output the keys and values in the same respective order:"
      ]
    },
    {
      "cell_type": "code",
      "execution_count": null,
      "id": "5177507c",
      "metadata": {
        "colab": {
          "base_uri": "https://localhost:8080/"
        },
        "id": "5177507c",
        "outputId": "e51ea794-0fec-4921-874b-209efc1ec150"
      },
      "outputs": [
        {
          "data": {
            "text/plain": [
              "['a', 'b', 7]"
            ]
          },
          "execution_count": 59,
          "metadata": {},
          "output_type": "execute_result"
        }
      ],
      "source": [
        "list(d1.keys())"
      ]
    },
    {
      "cell_type": "code",
      "execution_count": null,
      "id": "2ad4225c",
      "metadata": {
        "colab": {
          "base_uri": "https://localhost:8080/"
        },
        "id": "2ad4225c",
        "outputId": "aaf794c3-00b3-4416-a143-643ce5138381"
      },
      "outputs": [
        {
          "data": {
            "text/plain": [
              "['some value', [1, 2, 3, 4], 'an integer']"
            ]
          },
          "execution_count": 60,
          "metadata": {},
          "output_type": "execute_result"
        }
      ],
      "source": [
        "list(d1.values())"
      ]
    },
    {
      "cell_type": "markdown",
      "id": "9799041d",
      "metadata": {
        "id": "9799041d"
      },
      "source": [
        "If you need to iterate over both the keys and values, you can use the **`items()`** method to iterate over the keys and values as 2-tuples:"
      ]
    },
    {
      "cell_type": "code",
      "execution_count": null,
      "id": "5a894891",
      "metadata": {
        "colab": {
          "base_uri": "https://localhost:8080/"
        },
        "id": "5a894891",
        "outputId": "42b5e22c-8823-4970-bfe4-8cfcaa56e72f"
      },
      "outputs": [
        {
          "data": {
            "text/plain": [
              "[('a', 'some value'), ('b', [1, 2, 3, 4]), (7, 'an integer')]"
            ]
          },
          "execution_count": 61,
          "metadata": {},
          "output_type": "execute_result"
        }
      ],
      "source": [
        "list(d1.items())"
      ]
    },
    {
      "cell_type": "markdown",
      "id": "2618efea",
      "metadata": {
        "id": "2618efea"
      },
      "source": [
        "You can merge one dictionary into another using the **`update()`** method:"
      ]
    },
    {
      "cell_type": "code",
      "execution_count": null,
      "id": "c7936c7d",
      "metadata": {
        "colab": {
          "base_uri": "https://localhost:8080/"
        },
        "id": "c7936c7d",
        "outputId": "9f7498f7-7624-4376-81f9-1c22e11c99fb"
      },
      "outputs": [
        {
          "data": {
            "text/plain": [
              "{'a': 'some value', 'b': 'foo', 7: 'an integer', 'c': 12}"
            ]
          },
          "execution_count": 62,
          "metadata": {},
          "output_type": "execute_result"
        }
      ],
      "source": [
        "d2 = {\"b\": \"foo\", \"c\": 12}\n",
        "d1.update(d2)  # Any existing keys in the data passed to update will have their old values discarded.\n",
        "d1"
      ]
    },
    {
      "cell_type": "markdown",
      "id": "5d0864e4",
      "metadata": {
        "id": "5d0864e4"
      },
      "source": [
        "### Creating Dictionaries from Sequences"
      ]
    },
    {
      "cell_type": "markdown",
      "id": "7785de99",
      "metadata": {
        "id": "7785de99"
      },
      "source": [
        "If you have two sequences that you want to pair up element-wise in a dictionary, you might try to do this:"
      ]
    },
    {
      "cell_type": "code",
      "execution_count": null,
      "id": "49c14c41",
      "metadata": {
        "colab": {
          "base_uri": "https://localhost:8080/"
        },
        "id": "49c14c41",
        "outputId": "485fa873-0273-4185-cdd3-224087cdb2fe"
      },
      "outputs": [
        {
          "data": {
            "text/plain": [
              "{1: 'a', 2: 'b', 3: 'c'}"
            ]
          },
          "execution_count": 63,
          "metadata": {},
          "output_type": "execute_result"
        }
      ],
      "source": [
        "mapping = {}\n",
        "key_list = [1, 2, 3]\n",
        "value_list = ['a', 'b', 'c']\n",
        "\n",
        "for key, value in zip(key_list, value_list):\n",
        "    mapping[key] = value\n",
        "\n",
        "mapping\n"
      ]
    },
    {
      "cell_type": "markdown",
      "id": "4a95953b",
      "metadata": {
        "id": "4a95953b"
      },
      "source": [
        "However, since a dictionary is essentially a collection of 2-tuples, the **`dict()`** function accepts a list of 2-tuples:"
      ]
    },
    {
      "cell_type": "code",
      "execution_count": null,
      "id": "9897f12d",
      "metadata": {
        "colab": {
          "base_uri": "https://localhost:8080/"
        },
        "id": "9897f12d",
        "outputId": "e4761967-8456-4b7f-c2c1-3a0df7f5fa50"
      },
      "outputs": [
        {
          "data": {
            "text/plain": [
              "{1: 'a', 2: 'b', 3: 'c'}"
            ]
          },
          "execution_count": 64,
          "metadata": {},
          "output_type": "execute_result"
        }
      ],
      "source": [
        "keys = [1, 2, 3]\n",
        "values = ['a', 'b', 'c']\n",
        "\n",
        "# Combine the lists into a list of tuples\n",
        "tuples = zip(keys, values)\n",
        "\n",
        "# Create a dictionary from the list of tuples\n",
        "mapping = dict(tuples)\n",
        "\n",
        "mapping"
      ]
    },
    {
      "cell_type": "markdown",
      "id": "2369490d",
      "metadata": {
        "id": "2369490d"
      },
      "source": [
        "### Valid dictionary key types"
      ]
    },
    {
      "cell_type": "markdown",
      "id": "7642e807",
      "metadata": {
        "id": "7642e807"
      },
      "source": [
        "While the values of a dictionary can be any Python object, the keys generally have to be immutable objects. The technical term here is hashability. You can check whether an object is hashable (can be used as a key in a dictionary) with the **`hash()`** function:"
      ]
    },
    {
      "cell_type": "code",
      "execution_count": null,
      "id": "f240e940",
      "metadata": {
        "colab": {
          "base_uri": "https://localhost:8080/"
        },
        "id": "f240e940",
        "outputId": "b14e1c39-717b-499a-eb50-09d0fc0e3fd6"
      },
      "outputs": [
        {
          "data": {
            "text/plain": [
              "-4738782282401574538"
            ]
          },
          "execution_count": 65,
          "metadata": {},
          "output_type": "execute_result"
        }
      ],
      "source": [
        "hash(\"string\")"
      ]
    },
    {
      "cell_type": "code",
      "execution_count": null,
      "id": "feee86a0",
      "metadata": {
        "colab": {
          "base_uri": "https://localhost:8080/"
        },
        "id": "feee86a0",
        "outputId": "5489f2c4-a35f-4b60-b197-f5e0e6abb5b6"
      },
      "outputs": [
        {
          "data": {
            "text/plain": [
              "-9209053662355515447"
            ]
          },
          "execution_count": 66,
          "metadata": {},
          "output_type": "execute_result"
        }
      ],
      "source": [
        "hash((1, 2, (2, 3)))"
      ]
    },
    {
      "cell_type": "code",
      "execution_count": null,
      "id": "ac12e3de",
      "metadata": {
        "colab": {
          "base_uri": "https://localhost:8080/",
          "height": 141
        },
        "id": "ac12e3de",
        "outputId": "0e09fe31-2265-4a29-f2d6-a8813ca7c8bb"
      },
      "outputs": [
        {
          "ename": "TypeError",
          "evalue": "unhashable type: 'list'",
          "output_type": "error",
          "traceback": [
            "\u001b[0;31m---------------------------------------------------------------------------\u001b[0m",
            "\u001b[0;31mTypeError\u001b[0m                                 Traceback (most recent call last)",
            "\u001b[0;32m<ipython-input-67-473c35a62c0b>\u001b[0m in \u001b[0;36m<cell line: 1>\u001b[0;34m()\u001b[0m\n\u001b[0;32m----> 1\u001b[0;31m \u001b[0mhash\u001b[0m\u001b[0;34m(\u001b[0m\u001b[0;34m(\u001b[0m\u001b[0;36m1\u001b[0m\u001b[0;34m,\u001b[0m \u001b[0;36m2\u001b[0m\u001b[0;34m,\u001b[0m \u001b[0;34m[\u001b[0m\u001b[0;36m2\u001b[0m\u001b[0;34m,\u001b[0m \u001b[0;36m3\u001b[0m\u001b[0;34m]\u001b[0m\u001b[0;34m)\u001b[0m\u001b[0;34m)\u001b[0m \u001b[0;31m# fails because lists are mutable\u001b[0m\u001b[0;34m\u001b[0m\u001b[0;34m\u001b[0m\u001b[0m\n\u001b[0m",
            "\u001b[0;31mTypeError\u001b[0m: unhashable type: 'list'"
          ]
        }
      ],
      "source": [
        "hash((1, 2, [2, 3])) # fails because lists are mutable"
      ]
    },
    {
      "cell_type": "code",
      "execution_count": null,
      "id": "fjkdH3YWZEWe",
      "metadata": {
        "colab": {
          "base_uri": "https://localhost:8080/",
          "height": 141
        },
        "id": "fjkdH3YWZEWe",
        "outputId": "77fc7419-159f-482d-cfdb-48843211c716"
      },
      "outputs": [
        {
          "ename": "TypeError",
          "evalue": "unhashable type: 'set'",
          "output_type": "error",
          "traceback": [
            "\u001b[0;31m---------------------------------------------------------------------------\u001b[0m",
            "\u001b[0;31mTypeError\u001b[0m                                 Traceback (most recent call last)",
            "\u001b[0;32m<ipython-input-92-d5ba4eb1a90a>\u001b[0m in \u001b[0;36m<cell line: 1>\u001b[0;34m()\u001b[0m\n\u001b[0;32m----> 1\u001b[0;31m \u001b[0mhash\u001b[0m\u001b[0;34m(\u001b[0m\u001b[0;34m{\u001b[0m\u001b[0;36m1\u001b[0m\u001b[0;34m,\u001b[0m\u001b[0;36m2\u001b[0m\u001b[0;34m,\u001b[0m\u001b[0;36m3\u001b[0m\u001b[0;34m}\u001b[0m\u001b[0;34m)\u001b[0m\u001b[0;34m\u001b[0m\u001b[0;34m\u001b[0m\u001b[0m\n\u001b[0m",
            "\u001b[0;31mTypeError\u001b[0m: unhashable type: 'set'"
          ]
        }
      ],
      "source": [
        "hash({1,2,3})"
      ]
    },
    {
      "cell_type": "markdown",
      "id": "23577774",
      "metadata": {
        "id": "23577774"
      },
      "source": [
        "To use a list as a key, one option is to convert it to a tuple, which can be hashed as long as its elements also can be:"
      ]
    },
    {
      "cell_type": "code",
      "execution_count": null,
      "id": "a528bc8e",
      "metadata": {
        "colab": {
          "base_uri": "https://localhost:8080/"
        },
        "id": "a528bc8e",
        "outputId": "b60ff7da-5aad-4f15-b6ef-4fc0429a3944"
      },
      "outputs": [
        {
          "data": {
            "text/plain": [
              "{(1, 2, 3): 5}"
            ]
          },
          "execution_count": 68,
          "metadata": {},
          "output_type": "execute_result"
        }
      ],
      "source": [
        "d = {}\n",
        "d[tuple([1, 2, 3])] = 5\n",
        "d"
      ]
    },
    {
      "cell_type": "markdown",
      "id": "Ngrkt8nu2vT0",
      "metadata": {
        "id": "Ngrkt8nu2vT0"
      },
      "source": [
        "### **Create pandas DataFrame using dictionaries**\n",
        "\n",
        "<font color='blue'> One of the most common ways to construct a DataFrame is from a dictionary of equal-length lists or NumPy arrays:"
      ]
    },
    {
      "cell_type": "code",
      "execution_count": null,
      "id": "B0rFjvpo25KG",
      "metadata": {
        "id": "B0rFjvpo25KG"
      },
      "outputs": [],
      "source": [
        "import pandas as pd"
      ]
    },
    {
      "cell_type": "code",
      "execution_count": null,
      "id": "ZiXbRVrG28WS",
      "metadata": {
        "colab": {
          "base_uri": "https://localhost:8080/",
          "height": 143
        },
        "id": "ZiXbRVrG28WS",
        "outputId": "222f325a-740c-4782-a6e1-d012c6437b1a"
      },
      "outputs": [
        {
          "data": {
            "application/vnd.google.colaboratory.intrinsic+json": {
              "summary": "{\n  \"name\": \"df\",\n  \"rows\": 3,\n  \"fields\": [\n    {\n      \"column\": \"Total Volume\",\n      \"properties\": {\n        \"dtype\": \"number\",\n        \"std\": 34191.124539338176,\n        \"min\": 54876.98,\n        \"max\": 118220.22,\n        \"num_unique_values\": 3,\n        \"samples\": [\n          64236.62,\n          54876.98,\n          118220.22\n        ],\n        \"semantic_type\": \"\",\n        \"description\": \"\"\n      }\n    },\n    {\n      \"column\": \"total bags\",\n      \"properties\": {\n        \"dtype\": \"number\",\n        \"std\": 684.1448519380473,\n        \"min\": 8145.35,\n        \"max\": 9505.56,\n        \"num_unique_values\": 3,\n        \"samples\": [\n          8696.87,\n          9505.56,\n          8145.35\n        ],\n        \"semantic_type\": \"\",\n        \"description\": \"\"\n      }\n    },\n    {\n      \"column\": \"Small Bags\",\n      \"properties\": {\n        \"dtype\": \"number\",\n        \"std\": 686.524402358236,\n        \"min\": 8042.21,\n        \"max\": 9408.07,\n        \"num_unique_values\": 3,\n        \"samples\": [\n          8603.62,\n          9408.07,\n          8042.21\n        ],\n        \"semantic_type\": \"\",\n        \"description\": \"\"\n      }\n    },\n    {\n      \"column\": \"X Large bags\",\n      \"properties\": {\n        \"dtype\": \"number\",\n        \"std\": 0.0,\n        \"min\": 0.0,\n        \"max\": 0.0,\n        \"num_unique_values\": 1,\n        \"samples\": [\n          0.0\n        ],\n        \"semantic_type\": \"\",\n        \"description\": \"\"\n      }\n    }\n  ]\n}",
              "type": "dataframe",
              "variable_name": "df"
            },
            "text/html": [
              "\n",
              "  <div id=\"df-be3961a7-5a18-4d30-bcfb-87c195a61117\" class=\"colab-df-container\">\n",
              "    <div>\n",
              "<style scoped>\n",
              "    .dataframe tbody tr th:only-of-type {\n",
              "        vertical-align: middle;\n",
              "    }\n",
              "\n",
              "    .dataframe tbody tr th {\n",
              "        vertical-align: top;\n",
              "    }\n",
              "\n",
              "    .dataframe thead th {\n",
              "        text-align: right;\n",
              "    }\n",
              "</style>\n",
              "<table border=\"1\" class=\"dataframe\">\n",
              "  <thead>\n",
              "    <tr style=\"text-align: right;\">\n",
              "      <th></th>\n",
              "      <th>Total Volume</th>\n",
              "      <th>total bags</th>\n",
              "      <th>Small Bags</th>\n",
              "      <th>X Large bags</th>\n",
              "    </tr>\n",
              "  </thead>\n",
              "  <tbody>\n",
              "    <tr>\n",
              "      <th>0</th>\n",
              "      <td>64236.62</td>\n",
              "      <td>8696.87</td>\n",
              "      <td>8603.62</td>\n",
              "      <td>0.0</td>\n",
              "    </tr>\n",
              "    <tr>\n",
              "      <th>1</th>\n",
              "      <td>54876.98</td>\n",
              "      <td>9505.56</td>\n",
              "      <td>9408.07</td>\n",
              "      <td>0.0</td>\n",
              "    </tr>\n",
              "    <tr>\n",
              "      <th>2</th>\n",
              "      <td>118220.22</td>\n",
              "      <td>8145.35</td>\n",
              "      <td>8042.21</td>\n",
              "      <td>0.0</td>\n",
              "    </tr>\n",
              "  </tbody>\n",
              "</table>\n",
              "</div>\n",
              "    <div class=\"colab-df-buttons\">\n",
              "\n",
              "  <div class=\"colab-df-container\">\n",
              "    <button class=\"colab-df-convert\" onclick=\"convertToInteractive('df-be3961a7-5a18-4d30-bcfb-87c195a61117')\"\n",
              "            title=\"Convert this dataframe to an interactive table.\"\n",
              "            style=\"display:none;\">\n",
              "\n",
              "  <svg xmlns=\"http://www.w3.org/2000/svg\" height=\"24px\" viewBox=\"0 -960 960 960\">\n",
              "    <path d=\"M120-120v-720h720v720H120Zm60-500h600v-160H180v160Zm220 220h160v-160H400v160Zm0 220h160v-160H400v160ZM180-400h160v-160H180v160Zm440 0h160v-160H620v160ZM180-180h160v-160H180v160Zm440 0h160v-160H620v160Z\"/>\n",
              "  </svg>\n",
              "    </button>\n",
              "\n",
              "  <style>\n",
              "    .colab-df-container {\n",
              "      display:flex;\n",
              "      gap: 12px;\n",
              "    }\n",
              "\n",
              "    .colab-df-convert {\n",
              "      background-color: #E8F0FE;\n",
              "      border: none;\n",
              "      border-radius: 50%;\n",
              "      cursor: pointer;\n",
              "      display: none;\n",
              "      fill: #1967D2;\n",
              "      height: 32px;\n",
              "      padding: 0 0 0 0;\n",
              "      width: 32px;\n",
              "    }\n",
              "\n",
              "    .colab-df-convert:hover {\n",
              "      background-color: #E2EBFA;\n",
              "      box-shadow: 0px 1px 2px rgba(60, 64, 67, 0.3), 0px 1px 3px 1px rgba(60, 64, 67, 0.15);\n",
              "      fill: #174EA6;\n",
              "    }\n",
              "\n",
              "    .colab-df-buttons div {\n",
              "      margin-bottom: 4px;\n",
              "    }\n",
              "\n",
              "    [theme=dark] .colab-df-convert {\n",
              "      background-color: #3B4455;\n",
              "      fill: #D2E3FC;\n",
              "    }\n",
              "\n",
              "    [theme=dark] .colab-df-convert:hover {\n",
              "      background-color: #434B5C;\n",
              "      box-shadow: 0px 1px 3px 1px rgba(0, 0, 0, 0.15);\n",
              "      filter: drop-shadow(0px 1px 2px rgba(0, 0, 0, 0.3));\n",
              "      fill: #FFFFFF;\n",
              "    }\n",
              "  </style>\n",
              "\n",
              "    <script>\n",
              "      const buttonEl =\n",
              "        document.querySelector('#df-be3961a7-5a18-4d30-bcfb-87c195a61117 button.colab-df-convert');\n",
              "      buttonEl.style.display =\n",
              "        google.colab.kernel.accessAllowed ? 'block' : 'none';\n",
              "\n",
              "      async function convertToInteractive(key) {\n",
              "        const element = document.querySelector('#df-be3961a7-5a18-4d30-bcfb-87c195a61117');\n",
              "        const dataTable =\n",
              "          await google.colab.kernel.invokeFunction('convertToInteractive',\n",
              "                                                    [key], {});\n",
              "        if (!dataTable) return;\n",
              "\n",
              "        const docLinkHtml = 'Like what you see? Visit the ' +\n",
              "          '<a target=\"_blank\" href=https://colab.research.google.com/notebooks/data_table.ipynb>data table notebook</a>'\n",
              "          + ' to learn more about interactive tables.';\n",
              "        element.innerHTML = '';\n",
              "        dataTable['output_type'] = 'display_data';\n",
              "        await google.colab.output.renderOutput(dataTable, element);\n",
              "        const docLink = document.createElement('div');\n",
              "        docLink.innerHTML = docLinkHtml;\n",
              "        element.appendChild(docLink);\n",
              "      }\n",
              "    </script>\n",
              "  </div>\n",
              "\n",
              "\n",
              "<div id=\"df-86fa6554-cef6-4480-a501-92a32816edfe\">\n",
              "  <button class=\"colab-df-quickchart\" onclick=\"quickchart('df-86fa6554-cef6-4480-a501-92a32816edfe')\"\n",
              "            title=\"Suggest charts\"\n",
              "            style=\"display:none;\">\n",
              "\n",
              "<svg xmlns=\"http://www.w3.org/2000/svg\" height=\"24px\"viewBox=\"0 0 24 24\"\n",
              "     width=\"24px\">\n",
              "    <g>\n",
              "        <path d=\"M19 3H5c-1.1 0-2 .9-2 2v14c0 1.1.9 2 2 2h14c1.1 0 2-.9 2-2V5c0-1.1-.9-2-2-2zM9 17H7v-7h2v7zm4 0h-2V7h2v10zm4 0h-2v-4h2v4z\"/>\n",
              "    </g>\n",
              "</svg>\n",
              "  </button>\n",
              "\n",
              "<style>\n",
              "  .colab-df-quickchart {\n",
              "      --bg-color: #E8F0FE;\n",
              "      --fill-color: #1967D2;\n",
              "      --hover-bg-color: #E2EBFA;\n",
              "      --hover-fill-color: #174EA6;\n",
              "      --disabled-fill-color: #AAA;\n",
              "      --disabled-bg-color: #DDD;\n",
              "  }\n",
              "\n",
              "  [theme=dark] .colab-df-quickchart {\n",
              "      --bg-color: #3B4455;\n",
              "      --fill-color: #D2E3FC;\n",
              "      --hover-bg-color: #434B5C;\n",
              "      --hover-fill-color: #FFFFFF;\n",
              "      --disabled-bg-color: #3B4455;\n",
              "      --disabled-fill-color: #666;\n",
              "  }\n",
              "\n",
              "  .colab-df-quickchart {\n",
              "    background-color: var(--bg-color);\n",
              "    border: none;\n",
              "    border-radius: 50%;\n",
              "    cursor: pointer;\n",
              "    display: none;\n",
              "    fill: var(--fill-color);\n",
              "    height: 32px;\n",
              "    padding: 0;\n",
              "    width: 32px;\n",
              "  }\n",
              "\n",
              "  .colab-df-quickchart:hover {\n",
              "    background-color: var(--hover-bg-color);\n",
              "    box-shadow: 0 1px 2px rgba(60, 64, 67, 0.3), 0 1px 3px 1px rgba(60, 64, 67, 0.15);\n",
              "    fill: var(--button-hover-fill-color);\n",
              "  }\n",
              "\n",
              "  .colab-df-quickchart-complete:disabled,\n",
              "  .colab-df-quickchart-complete:disabled:hover {\n",
              "    background-color: var(--disabled-bg-color);\n",
              "    fill: var(--disabled-fill-color);\n",
              "    box-shadow: none;\n",
              "  }\n",
              "\n",
              "  .colab-df-spinner {\n",
              "    border: 2px solid var(--fill-color);\n",
              "    border-color: transparent;\n",
              "    border-bottom-color: var(--fill-color);\n",
              "    animation:\n",
              "      spin 1s steps(1) infinite;\n",
              "  }\n",
              "\n",
              "  @keyframes spin {\n",
              "    0% {\n",
              "      border-color: transparent;\n",
              "      border-bottom-color: var(--fill-color);\n",
              "      border-left-color: var(--fill-color);\n",
              "    }\n",
              "    20% {\n",
              "      border-color: transparent;\n",
              "      border-left-color: var(--fill-color);\n",
              "      border-top-color: var(--fill-color);\n",
              "    }\n",
              "    30% {\n",
              "      border-color: transparent;\n",
              "      border-left-color: var(--fill-color);\n",
              "      border-top-color: var(--fill-color);\n",
              "      border-right-color: var(--fill-color);\n",
              "    }\n",
              "    40% {\n",
              "      border-color: transparent;\n",
              "      border-right-color: var(--fill-color);\n",
              "      border-top-color: var(--fill-color);\n",
              "    }\n",
              "    60% {\n",
              "      border-color: transparent;\n",
              "      border-right-color: var(--fill-color);\n",
              "    }\n",
              "    80% {\n",
              "      border-color: transparent;\n",
              "      border-right-color: var(--fill-color);\n",
              "      border-bottom-color: var(--fill-color);\n",
              "    }\n",
              "    90% {\n",
              "      border-color: transparent;\n",
              "      border-bottom-color: var(--fill-color);\n",
              "    }\n",
              "  }\n",
              "</style>\n",
              "\n",
              "  <script>\n",
              "    async function quickchart(key) {\n",
              "      const quickchartButtonEl =\n",
              "        document.querySelector('#' + key + ' button');\n",
              "      quickchartButtonEl.disabled = true;  // To prevent multiple clicks.\n",
              "      quickchartButtonEl.classList.add('colab-df-spinner');\n",
              "      try {\n",
              "        const charts = await google.colab.kernel.invokeFunction(\n",
              "            'suggestCharts', [key], {});\n",
              "      } catch (error) {\n",
              "        console.error('Error during call to suggestCharts:', error);\n",
              "      }\n",
              "      quickchartButtonEl.classList.remove('colab-df-spinner');\n",
              "      quickchartButtonEl.classList.add('colab-df-quickchart-complete');\n",
              "    }\n",
              "    (() => {\n",
              "      let quickchartButtonEl =\n",
              "        document.querySelector('#df-86fa6554-cef6-4480-a501-92a32816edfe button');\n",
              "      quickchartButtonEl.style.display =\n",
              "        google.colab.kernel.accessAllowed ? 'block' : 'none';\n",
              "    })();\n",
              "  </script>\n",
              "</div>\n",
              "\n",
              "  <div id=\"id_7fc597e1-7896-4008-8bc1-9ab86b677ea2\">\n",
              "    <style>\n",
              "      .colab-df-generate {\n",
              "        background-color: #E8F0FE;\n",
              "        border: none;\n",
              "        border-radius: 50%;\n",
              "        cursor: pointer;\n",
              "        display: none;\n",
              "        fill: #1967D2;\n",
              "        height: 32px;\n",
              "        padding: 0 0 0 0;\n",
              "        width: 32px;\n",
              "      }\n",
              "\n",
              "      .colab-df-generate:hover {\n",
              "        background-color: #E2EBFA;\n",
              "        box-shadow: 0px 1px 2px rgba(60, 64, 67, 0.3), 0px 1px 3px 1px rgba(60, 64, 67, 0.15);\n",
              "        fill: #174EA6;\n",
              "      }\n",
              "\n",
              "      [theme=dark] .colab-df-generate {\n",
              "        background-color: #3B4455;\n",
              "        fill: #D2E3FC;\n",
              "      }\n",
              "\n",
              "      [theme=dark] .colab-df-generate:hover {\n",
              "        background-color: #434B5C;\n",
              "        box-shadow: 0px 1px 3px 1px rgba(0, 0, 0, 0.15);\n",
              "        filter: drop-shadow(0px 1px 2px rgba(0, 0, 0, 0.3));\n",
              "        fill: #FFFFFF;\n",
              "      }\n",
              "    </style>\n",
              "    <button class=\"colab-df-generate\" onclick=\"generateWithVariable('df')\"\n",
              "            title=\"Generate code using this dataframe.\"\n",
              "            style=\"display:none;\">\n",
              "\n",
              "  <svg xmlns=\"http://www.w3.org/2000/svg\" height=\"24px\"viewBox=\"0 0 24 24\"\n",
              "       width=\"24px\">\n",
              "    <path d=\"M7,19H8.4L18.45,9,17,7.55,7,17.6ZM5,21V16.75L18.45,3.32a2,2,0,0,1,2.83,0l1.4,1.43a1.91,1.91,0,0,1,.58,1.4,1.91,1.91,0,0,1-.58,1.4L9.25,21ZM18.45,9,17,7.55Zm-12,3A5.31,5.31,0,0,0,4.9,8.1,5.31,5.31,0,0,0,1,6.5,5.31,5.31,0,0,0,4.9,4.9,5.31,5.31,0,0,0,6.5,1,5.31,5.31,0,0,0,8.1,4.9,5.31,5.31,0,0,0,12,6.5,5.46,5.46,0,0,0,6.5,12Z\"/>\n",
              "  </svg>\n",
              "    </button>\n",
              "    <script>\n",
              "      (() => {\n",
              "      const buttonEl =\n",
              "        document.querySelector('#id_7fc597e1-7896-4008-8bc1-9ab86b677ea2 button.colab-df-generate');\n",
              "      buttonEl.style.display =\n",
              "        google.colab.kernel.accessAllowed ? 'block' : 'none';\n",
              "\n",
              "      buttonEl.onclick = () => {\n",
              "        google.colab.notebook.generateWithVariable('df');\n",
              "      }\n",
              "      })();\n",
              "    </script>\n",
              "  </div>\n",
              "\n",
              "    </div>\n",
              "  </div>\n"
            ],
            "text/plain": [
              "   Total Volume  total bags  Small Bags  X Large bags\n",
              "0      64236.62     8696.87     8603.62           0.0\n",
              "1      54876.98     9505.56     9408.07           0.0\n",
              "2     118220.22     8145.35     8042.21           0.0"
            ]
          },
          "execution_count": 70,
          "metadata": {},
          "output_type": "execute_result"
        }
      ],
      "source": [
        "df = pd.DataFrame({\"Total Volume\": [64236.62, 54876.98,118220.22],\n",
        "                   \"total bags\": [8696.87, 9505.56, 8145.35],\n",
        "                   \"Small Bags\": [8603.62, 9408.07, 8042.21],\n",
        "                   \"X Large bags\": [0.0, 0.0, 0.0]})\n",
        "df"
      ]
    },
    {
      "cell_type": "code",
      "execution_count": null,
      "id": "7OAfXLLT3JL0",
      "metadata": {
        "colab": {
          "base_uri": "https://localhost:8080/"
        },
        "id": "7OAfXLLT3JL0",
        "outputId": "753a0440-6e83-4c1c-ce63-03ca10355581"
      },
      "outputs": [
        {
          "name": "stdout",
          "output_type": "stream",
          "text": [
            "['Total Volume', 'total bags', 'Small Bags', 'X Large bags']\n"
          ]
        }
      ],
      "source": [
        "# convert the columns to a list\n",
        "Cols = df.columns.tolist()\n",
        "print(Cols)"
      ]
    },
    {
      "cell_type": "markdown",
      "id": "44536d9e",
      "metadata": {
        "id": "44536d9e"
      },
      "source": [
        "## Set\n",
        "\n",
        "A set is an unordered collection of unique elements. A set can be created in two ways: via the **`set()`** function or via a `set literal` with curly braces:"
      ]
    },
    {
      "cell_type": "code",
      "execution_count": null,
      "id": "da323bb5",
      "metadata": {
        "colab": {
          "base_uri": "https://localhost:8080/"
        },
        "id": "da323bb5",
        "outputId": "4ecc7ed8-237e-498d-87ed-86062ccaecd9"
      },
      "outputs": [
        {
          "data": {
            "text/plain": [
              "{1, 2, 3}"
            ]
          },
          "execution_count": 76,
          "metadata": {},
          "output_type": "execute_result"
        }
      ],
      "source": [
        "set([2, 2, 2, 1, 3, 3])"
      ]
    },
    {
      "cell_type": "code",
      "execution_count": null,
      "id": "e7a4af20",
      "metadata": {
        "colab": {
          "base_uri": "https://localhost:8080/"
        },
        "id": "e7a4af20",
        "outputId": "7b1a24bd-1007-460c-b76d-623d3fe79993"
      },
      "outputs": [
        {
          "data": {
            "text/plain": [
              "{1, 2, 3}"
            ]
          },
          "execution_count": 77,
          "metadata": {},
          "output_type": "execute_result"
        }
      ],
      "source": [
        "{2, 2, 2, 1, 3, 3}"
      ]
    },
    {
      "cell_type": "markdown",
      "id": "13f8826a",
      "metadata": {
        "id": "13f8826a"
      },
      "source": [
        "Sets support mathematical set operations:\n",
        "\n",
        "   *  union\n",
        "   *  intersection\n",
        "   *  difference\n",
        "   *  symmetric difference."
      ]
    },
    {
      "cell_type": "code",
      "execution_count": null,
      "id": "385d0cc7",
      "metadata": {
        "id": "385d0cc7"
      },
      "outputs": [],
      "source": [
        "a = {1, 2, 3, 4, 5}\n",
        "b = {3, 4, 5, 6, 7, 8}"
      ]
    },
    {
      "cell_type": "markdown",
      "id": "W00ImgGgVDlQ",
      "metadata": {
        "id": "W00ImgGgVDlQ"
      },
      "source": [
        " * We cannot access items in a set by referring to an index, since sets are unordered the items has no index.\n",
        " * But we can loop through the set items using a for loop, or ask if a specified value is present in a set, by using the in keyword."
      ]
    },
    {
      "cell_type": "code",
      "execution_count": null,
      "id": "l0AKvFKpVEG5",
      "metadata": {
        "colab": {
          "base_uri": "https://localhost:8080/"
        },
        "id": "l0AKvFKpVEG5",
        "outputId": "86c259d3-e7ba-4e10-f672-72e97437e862"
      },
      "outputs": [
        {
          "data": {
            "text/plain": [
              "True"
            ]
          },
          "execution_count": 79,
          "metadata": {},
          "output_type": "execute_result"
        }
      ],
      "source": [
        "5 in a"
      ]
    },
    {
      "cell_type": "code",
      "execution_count": null,
      "id": "-jsUxINIVGKp",
      "metadata": {
        "colab": {
          "base_uri": "https://localhost:8080/"
        },
        "id": "-jsUxINIVGKp",
        "outputId": "1427b170-b41c-4c71-cecc-59475327d0d2"
      },
      "outputs": [
        {
          "name": "stdout",
          "output_type": "stream",
          "text": [
            "1\n",
            "2\n",
            "3\n",
            "4\n",
            "5\n"
          ]
        }
      ],
      "source": [
        "for cha in a:\n",
        "  print(cha)"
      ]
    },
    {
      "cell_type": "markdown",
      "id": "b69a8bae",
      "metadata": {
        "id": "b69a8bae"
      },
      "source": [
        "The union of these two sets is the set of distinct elements occurring in either set. This can be computed with either the **`union()`** method or the `|` binary operator:"
      ]
    },
    {
      "cell_type": "code",
      "execution_count": null,
      "id": "53925d7b",
      "metadata": {
        "colab": {
          "base_uri": "https://localhost:8080/"
        },
        "id": "53925d7b",
        "outputId": "2104e6db-0828-4add-cf6e-02e640bd5f27"
      },
      "outputs": [
        {
          "data": {
            "text/plain": [
              "{1, 2, 3, 4, 5, 6, 7, 8}"
            ]
          },
          "execution_count": 81,
          "metadata": {},
          "output_type": "execute_result"
        }
      ],
      "source": [
        "a.union(b)"
      ]
    },
    {
      "cell_type": "code",
      "execution_count": null,
      "id": "e3c2a748",
      "metadata": {
        "colab": {
          "base_uri": "https://localhost:8080/"
        },
        "id": "e3c2a748",
        "outputId": "8401b830-a7f5-4fb1-dd48-04e90dd7d4c7"
      },
      "outputs": [
        {
          "data": {
            "text/plain": [
              "{1, 2, 3, 4, 5, 6, 7, 8}"
            ]
          },
          "execution_count": 82,
          "metadata": {},
          "output_type": "execute_result"
        }
      ],
      "source": [
        "a | b"
      ]
    },
    {
      "cell_type": "code",
      "execution_count": null,
      "id": "HiRpzY4yWqa1",
      "metadata": {
        "colab": {
          "base_uri": "https://localhost:8080/"
        },
        "id": "HiRpzY4yWqa1",
        "outputId": "dc444aad-4ac6-4796-86f3-076f165cedd8"
      },
      "outputs": [
        {
          "data": {
            "text/plain": [
              "{1, 2, 3, 4, 5}"
            ]
          },
          "execution_count": 85,
          "metadata": {},
          "output_type": "execute_result"
        }
      ],
      "source": [
        "a or b"
      ]
    },
    {
      "cell_type": "markdown",
      "id": "570c074d",
      "metadata": {
        "id": "570c074d"
      },
      "source": [
        "The intersection contains the elements occurring in both sets. The `&` operator or the **`intersection()`** method can be used:"
      ]
    },
    {
      "cell_type": "code",
      "execution_count": null,
      "id": "7065131b",
      "metadata": {
        "colab": {
          "base_uri": "https://localhost:8080/"
        },
        "id": "7065131b",
        "outputId": "bdd82470-f4d4-4c2a-b796-09e194fb092b"
      },
      "outputs": [
        {
          "data": {
            "text/plain": [
              "{3, 4, 5}"
            ]
          },
          "execution_count": 86,
          "metadata": {},
          "output_type": "execute_result"
        }
      ],
      "source": [
        "a.intersection(b)"
      ]
    },
    {
      "cell_type": "code",
      "execution_count": null,
      "id": "8ff79adb",
      "metadata": {
        "colab": {
          "base_uri": "https://localhost:8080/"
        },
        "id": "8ff79adb",
        "outputId": "b7016e65-51b6-4429-b8a2-e6f8fc83da12"
      },
      "outputs": [
        {
          "data": {
            "text/plain": [
              "{3, 4, 5}"
            ]
          },
          "execution_count": 87,
          "metadata": {},
          "output_type": "execute_result"
        }
      ],
      "source": [
        "a & b"
      ]
    },
    {
      "cell_type": "code",
      "execution_count": null,
      "id": "80jfQEihW3NT",
      "metadata": {
        "colab": {
          "base_uri": "https://localhost:8080/"
        },
        "id": "80jfQEihW3NT",
        "outputId": "0700c2a6-4abb-4499-a5b1-36a98069eb5d"
      },
      "outputs": [
        {
          "data": {
            "text/plain": [
              "{3, 4, 5, 6, 7, 8}"
            ]
          },
          "execution_count": 88,
          "metadata": {},
          "output_type": "execute_result"
        }
      ],
      "source": [
        "a and b"
      ]
    },
    {
      "cell_type": "markdown",
      "id": "1b17a27e",
      "metadata": {
        "id": "1b17a27e"
      },
      "source": [
        "A list of commonly used set methods:"
      ]
    },
    {
      "cell_type": "markdown",
      "id": "b211e50d",
      "metadata": {
        "id": "b211e50d"
      },
      "source": [
        "![data structure](http://drive.google.com/uc?export=view&id=1TCycAXpk78npC9BEUtO-E_MmPXqazF5q)"
      ]
    },
    {
      "cell_type": "markdown",
      "id": "20fa78a2",
      "metadata": {
        "id": "20fa78a2"
      },
      "source": [
        "All of the logical set operations have in-place counterparts, which enable you to replace the contents of the set on the left side of the operation with the result. For very large sets, this may be more efficient:"
      ]
    },
    {
      "cell_type": "code",
      "execution_count": null,
      "id": "c119d0cc",
      "metadata": {
        "colab": {
          "base_uri": "https://localhost:8080/"
        },
        "id": "c119d0cc",
        "outputId": "f08db929-af53-4b6f-de35-af0fd40d9975"
      },
      "outputs": [
        {
          "data": {
            "text/plain": [
              "{1, 2, 3, 4, 5, 6, 7, 8}"
            ]
          },
          "execution_count": 89,
          "metadata": {},
          "output_type": "execute_result"
        }
      ],
      "source": [
        "c = a.copy()\n",
        "c |= b\n",
        "c"
      ]
    },
    {
      "cell_type": "code",
      "execution_count": null,
      "id": "3f19de06",
      "metadata": {
        "colab": {
          "base_uri": "https://localhost:8080/"
        },
        "id": "3f19de06",
        "outputId": "e508099c-7826-42f4-d8f9-9a43bef8cccd"
      },
      "outputs": [
        {
          "data": {
            "text/plain": [
              "{3, 4, 5}"
            ]
          },
          "execution_count": 90,
          "metadata": {},
          "output_type": "execute_result"
        }
      ],
      "source": [
        "d = a.copy()\n",
        "d &= b\n",
        "d"
      ]
    },
    {
      "cell_type": "code",
      "execution_count": null,
      "id": "p0gFEbk4Y0fX",
      "metadata": {
        "colab": {
          "base_uri": "https://localhost:8080/"
        },
        "id": "p0gFEbk4Y0fX",
        "outputId": "833842f2-b744-4675-8e7f-326799550ddb"
      },
      "outputs": [
        {
          "data": {
            "text/plain": [
              "{1, 2, 3, 4, 5}"
            ]
          },
          "execution_count": 91,
          "metadata": {},
          "output_type": "execute_result"
        }
      ],
      "source": [
        "a"
      ]
    },
    {
      "cell_type": "markdown",
      "id": "6485adee",
      "metadata": {
        "id": "6485adee"
      },
      "source": [
        "Like dictionary keys, set elements generally must be immutable, and they must be hashable. In order to store list-like elements (or other mutable sequences) in a set, you can convert them to tuples:"
      ]
    },
    {
      "cell_type": "code",
      "execution_count": null,
      "id": "e3138659",
      "metadata": {
        "colab": {
          "base_uri": "https://localhost:8080/"
        },
        "id": "e3138659",
        "outputId": "3f3ab694-77ae-4c4d-8a60-411f803b4d9a"
      },
      "outputs": [
        {
          "data": {
            "text/plain": [
              "{(1, 2, 3, 4)}"
            ]
          },
          "execution_count": 93,
          "metadata": {},
          "output_type": "execute_result"
        }
      ],
      "source": [
        "my_data = [1, 2, 3, 4]\n",
        "my_set = {tuple(my_data)}\n",
        "my_set"
      ]
    },
    {
      "cell_type": "code",
      "execution_count": null,
      "id": "aDJK22uNZOb0",
      "metadata": {
        "colab": {
          "base_uri": "https://localhost:8080/",
          "height": 141
        },
        "id": "aDJK22uNZOb0",
        "outputId": "4f9fd8ac-097c-475c-9dc1-f30e62646c66"
      },
      "outputs": [
        {
          "ename": "TypeError",
          "evalue": "unhashable type: 'set'",
          "output_type": "error",
          "traceback": [
            "\u001b[0;31m---------------------------------------------------------------------------\u001b[0m",
            "\u001b[0;31mTypeError\u001b[0m                                 Traceback (most recent call last)",
            "\u001b[0;32m<ipython-input-94-a5fe7cdb1c53>\u001b[0m in \u001b[0;36m<cell line: 1>\u001b[0;34m()\u001b[0m\n\u001b[0;32m----> 1\u001b[0;31m \u001b[0mhash\u001b[0m\u001b[0;34m(\u001b[0m\u001b[0mmy_set\u001b[0m\u001b[0;34m)\u001b[0m\u001b[0;34m\u001b[0m\u001b[0;34m\u001b[0m\u001b[0m\n\u001b[0m",
            "\u001b[0;31mTypeError\u001b[0m: unhashable type: 'set'"
          ]
        }
      ],
      "source": [
        "hash(my_set)"
      ]
    },
    {
      "cell_type": "code",
      "execution_count": null,
      "id": "IXSqLKHhZRif",
      "metadata": {
        "colab": {
          "base_uri": "https://localhost:8080/",
          "height": 158
        },
        "id": "IXSqLKHhZRif",
        "outputId": "3534b475-e476-4f30-c601-8d0f1f73eaae"
      },
      "outputs": [
        {
          "ename": "TypeError",
          "evalue": "unhashable type: 'list'",
          "output_type": "error",
          "traceback": [
            "\u001b[0;31m---------------------------------------------------------------------------\u001b[0m",
            "\u001b[0;31mTypeError\u001b[0m                                 Traceback (most recent call last)",
            "\u001b[0;32m<ipython-input-96-7549b6094bbb>\u001b[0m in \u001b[0;36m<cell line: 2>\u001b[0;34m()\u001b[0m\n\u001b[1;32m      1\u001b[0m \u001b[0mmy_data\u001b[0m \u001b[0;34m=\u001b[0m \u001b[0;34m[\u001b[0m\u001b[0;36m1\u001b[0m\u001b[0;34m,\u001b[0m \u001b[0;36m2\u001b[0m\u001b[0;34m,\u001b[0m \u001b[0;36m3\u001b[0m\u001b[0;34m,\u001b[0m \u001b[0;36m4\u001b[0m\u001b[0;34m]\u001b[0m\u001b[0;34m\u001b[0m\u001b[0;34m\u001b[0m\u001b[0m\n\u001b[0;32m----> 2\u001b[0;31m \u001b[0mmy_set\u001b[0m \u001b[0;34m=\u001b[0m \u001b[0;34m{\u001b[0m\u001b[0mmy_data\u001b[0m\u001b[0;34m}\u001b[0m\u001b[0;34m\u001b[0m\u001b[0;34m\u001b[0m\u001b[0m\n\u001b[0m",
            "\u001b[0;31mTypeError\u001b[0m: unhashable type: 'list'"
          ]
        }
      ],
      "source": [
        "my_data = [1, 2, 3, 4]\n",
        "my_set = {my_data}"
      ]
    },
    {
      "cell_type": "markdown",
      "id": "3df3b543",
      "metadata": {
        "id": "3df3b543"
      },
      "source": [
        "You can also check if a set is a subset of (is contained in) or a superset of (contains all elements of) another set:"
      ]
    },
    {
      "cell_type": "code",
      "execution_count": null,
      "id": "b9f6bc62",
      "metadata": {
        "colab": {
          "base_uri": "https://localhost:8080/"
        },
        "id": "b9f6bc62",
        "outputId": "36cecec4-c50d-491c-b060-f21895d4af50"
      },
      "outputs": [
        {
          "data": {
            "text/plain": [
              "True"
            ]
          },
          "execution_count": 97,
          "metadata": {},
          "output_type": "execute_result"
        }
      ],
      "source": [
        "a_set = {1, 2, 3, 4, 5}\n",
        "{1, 2, 3}.issubset(a_set)"
      ]
    },
    {
      "cell_type": "code",
      "execution_count": null,
      "id": "626fd913",
      "metadata": {
        "colab": {
          "base_uri": "https://localhost:8080/"
        },
        "id": "626fd913",
        "outputId": "e9bb3cf4-1e99-458d-ce9a-8dac4e0178a8"
      },
      "outputs": [
        {
          "data": {
            "text/plain": [
              "True"
            ]
          },
          "execution_count": 98,
          "metadata": {},
          "output_type": "execute_result"
        }
      ],
      "source": [
        "a_set.issuperset({1, 2, 3})"
      ]
    },
    {
      "cell_type": "markdown",
      "id": "afe06bcc",
      "metadata": {
        "id": "afe06bcc"
      },
      "source": [
        "Sets are equal if and only if their contents are equal:"
      ]
    },
    {
      "cell_type": "code",
      "execution_count": null,
      "id": "6c761a3e",
      "metadata": {
        "colab": {
          "base_uri": "https://localhost:8080/"
        },
        "id": "6c761a3e",
        "outputId": "66759ddc-7e1c-43cf-bbb8-d95e549d5fc9"
      },
      "outputs": [
        {
          "data": {
            "text/plain": [
              "True"
            ]
          },
          "execution_count": 99,
          "metadata": {},
          "output_type": "execute_result"
        }
      ],
      "source": [
        "{1, 2, 3} == {3, 2, 1}"
      ]
    },
    {
      "cell_type": "markdown",
      "id": "joI07srQXJO_",
      "metadata": {
        "id": "joI07srQXJO_"
      },
      "source": [
        "<font color='red'>Complete the codes in the cell below. Please replace the \"XXX\" placeholder with your own codes. </font>"
      ]
    },
    {
      "cell_type": "code",
      "execution_count": null,
      "id": "GcXaWbifW84D",
      "metadata": {
        "colab": {
          "base_uri": "https://localhost:8080/"
        },
        "id": "GcXaWbifW84D",
        "outputId": "ddd67a30-10ab-4c72-b06b-0ee66554bfda"
      },
      "outputs": [
        {
          "name": "stdout",
          "output_type": "stream",
          "text": [
            "{'bay leaves', 'red wine', 'carrots', 'butter', 'bacon', 'flour', 'thyme', 'chicken broth', 'salt'}\n"
          ]
        }
      ],
      "source": [
        "# Maria's set of ingredients\n",
        "maria = {'tomatoes', 'onions', 'garlic', 'olive oil', 'pasta'}\n",
        "\n",
        "# John's set of ingredients\n",
        "john = {'onions', 'pepper', 'chicken', 'mushrooms', 'rice'}\n",
        "\n",
        "# Ingredients for a French dish\n",
        "dish = {'chicken', 'red wine', 'bacon', 'onions', 'carrots',\n",
        "                           'garlic', 'mushrooms', 'thyme', 'bay leaves', 'flour',\n",
        "                           'butter', 'chicken broth', 'salt', 'pepper'}\n",
        "\n",
        "# Combine Maria's and John's ingredients\n",
        "combined_set = maria | john\n",
        "\n",
        "# Find the ingredients needed for the French dish that are not in Maria's and John's combined set\n",
        "#missing_ingredients = {item for item in dish if item not in combined_set}\n",
        "missing_ingredients = dish - combined_set\n",
        "\n",
        "# Print the needed ingredients\n",
        "print(missing_ingredients)"
      ]
    },
    {
      "cell_type": "code",
      "execution_count": null,
      "id": "dSwVp9MoXNZt",
      "metadata": {
        "colab": {
          "base_uri": "https://localhost:8080/"
        },
        "id": "dSwVp9MoXNZt",
        "outputId": "80c3e2a2-9c60-44b2-d963-a780b3f23ef6"
      },
      "outputs": [
        {
          "name": "stdout",
          "output_type": "stream",
          "text": [
            "The end of my notebook\n"
          ]
        }
      ],
      "source": [
        "print(\"The end of my notebook\")"
      ]
    },
    {
      "cell_type": "code",
      "execution_count": null,
      "id": "xaMxfivZbofu",
      "metadata": {
        "id": "xaMxfivZbofu"
      },
      "outputs": [],
      "source": []
    }
  ],
  "metadata": {
    "colab": {
      "provenance": [],
      "toc_visible": true
    },
    "kernelspec": {
      "display_name": "padsenv",
      "language": "python",
      "name": "python3"
    },
    "language_info": {
      "codemirror_mode": {
        "name": "ipython",
        "version": 3
      },
      "file_extension": ".py",
      "mimetype": "text/x-python",
      "name": "python",
      "nbconvert_exporter": "python",
      "pygments_lexer": "ipython3",
      "version": "3.12.1"
    }
  },
  "nbformat": 4,
  "nbformat_minor": 5
}
