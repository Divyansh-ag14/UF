{
  "cells": [
    {
      "cell_type": "markdown",
      "source": [
        "<font color='blue'> First of all, please “Copy to Drive” to get your own copy for editing. </font>\n",
        "\n",
        "<font color='red'> Run all the cells. For places with \"Complete the codes below\", please replace the \"XXX\" placeholder with your own codes.</font>"
      ],
      "metadata": {
        "id": "3zJ4741KnKMc"
      },
      "id": "3zJ4741KnKMc"
    },
    {
      "cell_type": "markdown",
      "id": "b2dcfc4b",
      "metadata": {
        "id": "b2dcfc4b"
      },
      "source": [
        "# Ch 3.2: Functions"
      ]
    },
    {
      "cell_type": "markdown",
      "id": "38dc95c0",
      "metadata": {
        "id": "38dc95c0"
      },
      "source": [
        "## Introduction\n",
        "Functions are the primary and most important method of code organization and reuse in Python. As a rule of thumb, if you anticipate needing to repeat the same or very similar code more than once, it may be worth writing a reusable function."
      ]
    },
    {
      "cell_type": "markdown",
      "source": [
        "**Define and call a function**\n",
        "* A *function* is a sequence of statements to perform a specific task, a self-contained entity that only perform a specific task\n",
        "* Once we define a function, we can *call* (or invoke) the function as many as we want\n",
        "* To *define* a function, code the *def* keyword, the name of the function, a set of parentheses that contains zero or more arguments, and a colon. --> Then, code a block of one or more statements for the function. These statements must be *indented*."
      ],
      "metadata": {
        "id": "hn74itcanQCa"
      },
      "id": "hn74itcanQCa"
    },
    {
      "cell_type": "markdown",
      "source": [
        "![](http://drive.google.com/uc?export=view&id=1nu47GpsKisZAxP6-GhCoKH3O9rzLlDku)"
      ],
      "metadata": {
        "id": "gkddHrWFnT0S"
      },
      "id": "gkddHrWFnT0S"
    },
    {
      "cell_type": "markdown",
      "id": "3c836eb9",
      "metadata": {
        "id": "3c836eb9"
      },
      "source": [
        "Functions are declared with the **`def`** keyword. A function contains a block of code with an optional use of the **`return`** keyword:"
      ]
    },
    {
      "cell_type": "code",
      "execution_count": 1,
      "id": "1466b6cf",
      "metadata": {
        "id": "1466b6cf"
      },
      "outputs": [],
      "source": [
        "def my_function(x, y):\n",
        "    return x + y"
      ]
    },
    {
      "cell_type": "markdown",
      "id": "2d6cd72f",
      "metadata": {
        "id": "2d6cd72f"
      },
      "source": [
        "The value or expression after **`return`** is sent to the context where the function was called"
      ]
    },
    {
      "cell_type": "code",
      "execution_count": 2,
      "id": "1070bbc6",
      "metadata": {
        "id": "1070bbc6",
        "colab": {
          "base_uri": "https://localhost:8080/"
        },
        "outputId": "1c12b7c3-2bb9-4316-d65a-44d5138677a2"
      },
      "outputs": [
        {
          "output_type": "execute_result",
          "data": {
            "text/plain": [
              "3"
            ]
          },
          "metadata": {},
          "execution_count": 2
        }
      ],
      "source": [
        "my_function(1, 2)\n",
        "result = my_function(1, 2)\n",
        "result"
      ]
    },
    {
      "cell_type": "markdown",
      "id": "be80a873",
      "metadata": {
        "id": "be80a873"
      },
      "source": [
        "If Python reaches the end of a function without encountering a **`return`** statement, **`None`** is returned automatically."
      ]
    },
    {
      "cell_type": "code",
      "execution_count": 3,
      "id": "5c190331",
      "metadata": {
        "id": "5c190331",
        "colab": {
          "base_uri": "https://localhost:8080/"
        },
        "outputId": "b6bc7376-79b0-4075-9053-c280fa71072d"
      },
      "outputs": [
        {
          "output_type": "stream",
          "name": "stdout",
          "text": [
            "hello!\n",
            "None\n"
          ]
        }
      ],
      "source": [
        "def function_without_return(x):\n",
        "    print(x)\n",
        "\n",
        "result = function_without_return(\"hello!\")\n",
        "print(result)"
      ]
    },
    {
      "cell_type": "markdown",
      "id": "be5eda46",
      "metadata": {
        "id": "be5eda46"
      },
      "source": [
        "You can also have multiple **`return`** statements. Each function can have positional arguments and keyword arguments. Keyword arguments are most commonly used to specify default values or optional arguments. While keyword arguments are optional, all positional arguments must be specified when calling a function."
      ]
    },
    {
      "cell_type": "code",
      "execution_count": 4,
      "id": "a98d81ad",
      "metadata": {
        "id": "a98d81ad"
      },
      "outputs": [],
      "source": [
        "def my_function2(x, y, z=1.5): # optional z argument with the default value 1.5\n",
        "    if z > 1:\n",
        "        return z * (x + y)\n",
        "    else:\n",
        "        return z / (x + y)"
      ]
    },
    {
      "cell_type": "code",
      "execution_count": 5,
      "id": "34953c7c",
      "metadata": {
        "id": "34953c7c",
        "colab": {
          "base_uri": "https://localhost:8080/"
        },
        "outputId": "78dc385c-50f1-4de5-9ae1-5a16ed424027"
      },
      "outputs": [
        {
          "output_type": "execute_result",
          "data": {
            "text/plain": [
              "0.06363636363636363"
            ]
          },
          "metadata": {},
          "execution_count": 5
        }
      ],
      "source": [
        "my_function2(5, 6, z=0.7) # You can pass values to the z argument with the keyword provided (recommended)"
      ]
    },
    {
      "cell_type": "code",
      "execution_count": 6,
      "id": "f7758b6e",
      "metadata": {
        "id": "f7758b6e",
        "colab": {
          "base_uri": "https://localhost:8080/"
        },
        "outputId": "8964b3b4-7643-4222-cd73-a6529d47f5f4"
      },
      "outputs": [
        {
          "output_type": "execute_result",
          "data": {
            "text/plain": [
              "35.49"
            ]
          },
          "metadata": {},
          "execution_count": 6
        }
      ],
      "source": [
        "my_function2(3.14, 7, 3.5) # You can pass values to the z argument without the keyword provided"
      ]
    },
    {
      "cell_type": "code",
      "execution_count": 7,
      "id": "6fc7b6ef",
      "metadata": {
        "id": "6fc7b6ef",
        "colab": {
          "base_uri": "https://localhost:8080/"
        },
        "outputId": "ab089f0a-ae42-401e-f47a-db93d16dea72"
      },
      "outputs": [
        {
          "output_type": "execute_result",
          "data": {
            "text/plain": [
              "45.0"
            ]
          },
          "metadata": {},
          "execution_count": 7
        }
      ],
      "source": [
        "my_function2(10, 20) # Keyword arguments are optional. Positional arguments must be specified"
      ]
    },
    {
      "cell_type": "markdown",
      "id": "f4cecba1",
      "metadata": {
        "id": "f4cecba1"
      },
      "source": [
        "The main restriction on function arguments is that the keyword arguments **must follow** the positional arguments (if any). You can specify keyword arguments in any order."
      ]
    },
    {
      "cell_type": "code",
      "source": [
        "# update_values() function can calculate and print the updated values\n",
        "# it accepts three arguments. with a default value: length=20\n",
        "def update_values(width, height, length=20):\n",
        "  # update values\n",
        "  width += 5\n",
        "  height += 5\n",
        "  length += 5\n",
        "  return length, height, width"
      ],
      "metadata": {
        "id": "eTWXF26Lng3r"
      },
      "id": "eTWXF26Lng3r",
      "execution_count": 8,
      "outputs": []
    },
    {
      "cell_type": "markdown",
      "id": "205d25d1",
      "metadata": {
        "id": "205d25d1"
      },
      "source": [
        "<font color='red'>Complete the codes in the cell below. Please replace the \"XXX\" placeholder with your own codes. </font>"
      ]
    },
    {
      "cell_type": "code",
      "source": [
        "# call the update_values() function by position\n",
        "# specify (length = 30, width = 10, height = 5)\n",
        "\n",
        "l, h, w = update_values(30, 10, 5)  # by position\n",
        "print(w, h, l)"
      ],
      "metadata": {
        "id": "VAYim19enlUT",
        "colab": {
          "base_uri": "https://localhost:8080/"
        },
        "outputId": "d3c127f0-8d34-4297-8e18-9b80551f1f41"
      },
      "id": "VAYim19enlUT",
      "execution_count": 9,
      "outputs": [
        {
          "output_type": "stream",
          "name": "stdout",
          "text": [
            "35 15 10\n"
          ]
        }
      ]
    },
    {
      "cell_type": "code",
      "source": [
        "# call the update_values() function by keyword/named arguments\n",
        "# specify (length = 30, width = 10, height = 5)\n",
        "len, hei, wid = update_values(length = 30, width = 10, height = 5)  #by keyword arguments\n",
        "print(len, hei, wid)"
      ],
      "metadata": {
        "id": "PJf4A42mnsCj",
        "colab": {
          "base_uri": "https://localhost:8080/"
        },
        "outputId": "e017b2dc-17c2-4e70-f280-b75fc52110a3"
      },
      "id": "PJf4A42mnsCj",
      "execution_count": 10,
      "outputs": [
        {
          "output_type": "stream",
          "name": "stdout",
          "text": [
            "35 10 15\n"
          ]
        }
      ]
    },
    {
      "cell_type": "markdown",
      "id": "8718de08",
      "metadata": {
        "id": "8718de08"
      },
      "source": [
        "## Namespaces, Scope, and Local Functions"
      ]
    },
    {
      "cell_type": "markdown",
      "id": "e88b69a6",
      "metadata": {
        "id": "e88b69a6"
      },
      "source": [
        "Any variables that are assigned within a function by default are assigned to the local namespace. The local namespace is created when the function is called and is immediately populated by the function’s arguments. After the function is finished, the local namespace is destroyed"
      ]
    },
    {
      "cell_type": "code",
      "execution_count": 11,
      "id": "034738d2",
      "metadata": {
        "id": "034738d2"
      },
      "outputs": [],
      "source": [
        "def func():\n",
        "    a = []\n",
        "    for i in range(5):\n",
        "        a.append(i)"
      ]
    },
    {
      "cell_type": "markdown",
      "id": "8f0a6f2e",
      "metadata": {
        "id": "8f0a6f2e"
      },
      "source": [
        "When **`func()`** is called, the empty list `a` is created, five elements are appended, and then `a` is destroyed when the function exits."
      ]
    },
    {
      "cell_type": "code",
      "execution_count": 12,
      "id": "3a55c2f6",
      "metadata": {
        "id": "3a55c2f6",
        "colab": {
          "base_uri": "https://localhost:8080/",
          "height": 158
        },
        "outputId": "b6d99dae-a46a-44ab-a7ee-e38d97f7a172"
      },
      "outputs": [
        {
          "output_type": "error",
          "ename": "NameError",
          "evalue": "name 'a' is not defined",
          "traceback": [
            "\u001b[0;31m---------------------------------------------------------------------------\u001b[0m",
            "\u001b[0;31mNameError\u001b[0m                                 Traceback (most recent call last)",
            "\u001b[0;32m<ipython-input-12-cd12cfa6102c>\u001b[0m in \u001b[0;36m<cell line: 2>\u001b[0;34m()\u001b[0m\n\u001b[1;32m      1\u001b[0m \u001b[0mfunc\u001b[0m\u001b[0;34m(\u001b[0m\u001b[0;34m)\u001b[0m \u001b[0;31m# a is created and destroyed\u001b[0m\u001b[0;34m\u001b[0m\u001b[0;34m\u001b[0m\u001b[0m\n\u001b[0;32m----> 2\u001b[0;31m \u001b[0ma\u001b[0m \u001b[0;31m# Error 'a' is not defined\u001b[0m\u001b[0;34m\u001b[0m\u001b[0;34m\u001b[0m\u001b[0m\n\u001b[0m",
            "\u001b[0;31mNameError\u001b[0m: name 'a' is not defined"
          ]
        }
      ],
      "source": [
        "func() # a is created and destroyed\n",
        "a # Error 'a' is not defined"
      ]
    },
    {
      "cell_type": "markdown",
      "id": "06efeea1",
      "metadata": {
        "id": "06efeea1"
      },
      "source": [
        " Suppose instead we had declared `a` as follows"
      ]
    },
    {
      "cell_type": "code",
      "execution_count": null,
      "id": "381a125b",
      "metadata": {
        "id": "381a125b"
      },
      "outputs": [],
      "source": [
        "a = []\n",
        "def func():\n",
        "    for i in range(5):\n",
        "        a.append(i)"
      ]
    },
    {
      "cell_type": "markdown",
      "id": "bd643dfc",
      "metadata": {
        "id": "bd643dfc"
      },
      "source": [
        "Each call to **`func()`** will modify list `a`:"
      ]
    },
    {
      "cell_type": "code",
      "execution_count": null,
      "id": "bc8f95b7",
      "metadata": {
        "id": "bc8f95b7"
      },
      "outputs": [],
      "source": [
        "func()\n",
        "a"
      ]
    },
    {
      "cell_type": "code",
      "execution_count": null,
      "id": "b9fab622",
      "metadata": {
        "id": "b9fab622"
      },
      "outputs": [],
      "source": [
        "func()\n",
        "a"
      ]
    },
    {
      "cell_type": "markdown",
      "id": "da171896",
      "metadata": {
        "id": "da171896"
      },
      "source": [
        "Assigning variables outside of the function's scope is possible, but those variables must be declared explicitly using the **`global`** keyword:"
      ]
    },
    {
      "cell_type": "code",
      "execution_count": null,
      "id": "a65618ff",
      "metadata": {
        "id": "a65618ff"
      },
      "outputs": [],
      "source": [
        "a = None\n",
        "\n",
        "def bind_a_variable():\n",
        "    global a\n",
        "    a = []\n",
        "    a.append(3)\n",
        "\n",
        "bind_a_variable()\n",
        "print(a)\n"
      ]
    },
    {
      "cell_type": "markdown",
      "id": "d7007384",
      "metadata": {
        "id": "d7007384"
      },
      "source": [
        "The use of the global keyword is **generally discouraged.**"
      ]
    },
    {
      "cell_type": "markdown",
      "id": "1691c48d",
      "metadata": {
        "id": "1691c48d"
      },
      "source": [
        "## Returning Multiple Values"
      ]
    },
    {
      "cell_type": "markdown",
      "id": "35a0cdf0",
      "metadata": {
        "id": "35a0cdf0"
      },
      "source": [
        "Python has the ability to return multiple values from a function with simple syntax:"
      ]
    },
    {
      "cell_type": "code",
      "execution_count": 13,
      "id": "70916bc7",
      "metadata": {
        "id": "70916bc7",
        "colab": {
          "base_uri": "https://localhost:8080/"
        },
        "outputId": "e043ece4-0168-482b-ccb3-1061e7a3f711"
      },
      "outputs": [
        {
          "output_type": "stream",
          "name": "stdout",
          "text": [
            "5 6 7\n"
          ]
        }
      ],
      "source": [
        "def f():\n",
        "    a = 5\n",
        "    b = 6\n",
        "    c = 7\n",
        "    return a, b, c # Function is actually returning one object (tuple)\n",
        "\n",
        "a, b, c = f() # Unpacking the tuple\n",
        "print(a, b, c)"
      ]
    },
    {
      "cell_type": "markdown",
      "id": "29d3bf6c",
      "metadata": {
        "id": "29d3bf6c"
      },
      "source": [
        "Alternatively:"
      ]
    },
    {
      "cell_type": "code",
      "execution_count": 14,
      "id": "d4aed8c0",
      "metadata": {
        "id": "d4aed8c0",
        "colab": {
          "base_uri": "https://localhost:8080/"
        },
        "outputId": "9b4ed6bc-1060-48b1-baae-03f75f6b5322"
      },
      "outputs": [
        {
          "output_type": "execute_result",
          "data": {
            "text/plain": [
              "(5, 6, 7)"
            ]
          },
          "metadata": {},
          "execution_count": 14
        }
      ],
      "source": [
        "def f():\n",
        "    a = 5\n",
        "    b = 6\n",
        "    c = 7\n",
        "    return a, b, c # Function is actually returning one object (tuple)\n",
        "\n",
        "return_value = f() # return_value will be a tuple with a, b, c\n",
        "return_value"
      ]
    },
    {
      "cell_type": "markdown",
      "id": "d0a2206c",
      "metadata": {
        "id": "d0a2206c"
      },
      "source": [
        " A potentially attractive alternative to returning multiple values like before might be to return a dictionary instead:"
      ]
    },
    {
      "cell_type": "code",
      "execution_count": 15,
      "id": "36f1deee",
      "metadata": {
        "id": "36f1deee",
        "colab": {
          "base_uri": "https://localhost:8080/"
        },
        "outputId": "3f872728-7f6e-4be1-c79a-460247888a37"
      },
      "outputs": [
        {
          "output_type": "execute_result",
          "data": {
            "text/plain": [
              "{'a': 5, 'b': 6, 'c': 7}"
            ]
          },
          "metadata": {},
          "execution_count": 15
        }
      ],
      "source": [
        "def f():\n",
        "    a = 5\n",
        "    b = 6\n",
        "    c = 7\n",
        "    return {\"a\" : a, \"b\" : b, \"c\" : c}\n",
        "\n",
        "mydict = f()\n",
        "mydict"
      ]
    },
    {
      "cell_type": "markdown",
      "id": "e4d8f8fc",
      "metadata": {
        "id": "e4d8f8fc"
      },
      "source": [
        "<font color='red'>Complete the codes in the cell below. Please replace the \"XXX\" placeholder with your own codes. </font>"
      ]
    },
    {
      "cell_type": "code",
      "execution_count": 18,
      "id": "2360c5ba",
      "metadata": {
        "id": "2360c5ba",
        "colab": {
          "base_uri": "https://localhost:8080/"
        },
        "outputId": "476193b1-8dab-4dda-f489-48597ca0ca5e"
      },
      "outputs": [
        {
          "output_type": "stream",
          "name": "stdout",
          "text": [
            "Enter name: div\n",
            "Enter age: 22\n",
            "Enter email: div@div.com\n",
            "Name: div\n",
            "Age: 22\n",
            "Email: div@div.com\n"
          ]
        }
      ],
      "source": [
        "def get_user_info():\n",
        "    name = input(\"Enter name: \")\n",
        "    age = input(\"Enter age: \")\n",
        "    email = input(\"Enter email: \")\n",
        "    return {\"name\":name, \"age\":age, \"email\":email}  # Return all three values\n",
        "\n",
        "#Print name age and email\n",
        "user_info = get_user_info()\n",
        "print(\"Name:\", user_info[\"name\"])\n",
        "print(\"Age:\", user_info[\"age\"])\n",
        "print(\"Email:\", user_info[\"email\"])"
      ]
    },
    {
      "cell_type": "code",
      "source": [
        "# A function that returns square value of x\n",
        "def mysquare(x):\n",
        "    y = x**2\n",
        "    return y"
      ],
      "metadata": {
        "id": "NYkyM9fao-7-"
      },
      "id": "NYkyM9fao-7-",
      "execution_count": 19,
      "outputs": []
    },
    {
      "cell_type": "code",
      "source": [
        "result = mysquare(11)\n",
        "result"
      ],
      "metadata": {
        "id": "ANVbnNMHpAnz",
        "colab": {
          "base_uri": "https://localhost:8080/"
        },
        "outputId": "6c855908-9e31-41d5-c97a-6b40791f1ef0"
      },
      "id": "ANVbnNMHpAnz",
      "execution_count": 20,
      "outputs": [
        {
          "output_type": "execute_result",
          "data": {
            "text/plain": [
              "121"
            ]
          },
          "metadata": {},
          "execution_count": 20
        }
      ]
    },
    {
      "cell_type": "markdown",
      "source": [
        "<font color='red'>Complete the codes in the cell below."
      ],
      "metadata": {
        "id": "1Vou8xtEpE4j"
      },
      "id": "1Vou8xtEpE4j"
    },
    {
      "cell_type": "code",
      "source": [
        "# Please define a math function that return x raised to the power y: x**y\n",
        "# The operator that can be used to perform the exponent arithmetic in Python is **\n",
        "# a function name could be math_pow (or something similar)\n",
        "def math_pow(x, n):\n",
        "  return x**n\n",
        "\n",
        "again = \"y\"\n",
        "while again.lower() == \"y\":\n",
        "  print(\"Value is\", math_pow(2,3))\n",
        "  again = input(\"Try again?\")\n",
        "\n",
        "print(\"Bye\")"
      ],
      "metadata": {
        "id": "NNhc8arZpC3b",
        "colab": {
          "base_uri": "https://localhost:8080/"
        },
        "outputId": "7e4e0850-56ca-4bb1-d022-9ca9b8aae0b0"
      },
      "id": "NNhc8arZpC3b",
      "execution_count": 21,
      "outputs": [
        {
          "output_type": "stream",
          "name": "stdout",
          "text": [
            "Value is 8\n",
            "Try again?y\n",
            "Value is 8\n",
            "Try again?n\n",
            "Bye\n"
          ]
        }
      ]
    },
    {
      "cell_type": "code",
      "source": [
        "# Please define a math function that return x raised to the power y: x**y\n",
        "# The operator that can be used to perform the exponent arithmetic in Python is **\n",
        "# a function name could be math_pow (or something similar)\n",
        "def math_pow(x,y):\n",
        "  return x**y\n",
        "\n",
        "again = \"y\"\n",
        "while again.lower() == \"y\":\n",
        "  x = int(input(\"enter number: \"))\n",
        "  y = int(input(\"Enter exponent: \"))\n",
        "  print(\"Value is: \", math_pow(x,y))\n",
        "  again = input(\"Try again? \")\n",
        "\n",
        "print(\"Bye\")"
      ],
      "metadata": {
        "colab": {
          "base_uri": "https://localhost:8080/"
        },
        "id": "iWNhuGC9SCg5",
        "outputId": "75bafe34-57ca-4e73-b719-2c8cc985fbc5"
      },
      "id": "iWNhuGC9SCg5",
      "execution_count": 22,
      "outputs": [
        {
          "output_type": "stream",
          "name": "stdout",
          "text": [
            "enter number: 10\n",
            "Enter exponent: 2\n",
            "Value is:  100\n",
            "Try again? y\n",
            "enter number: 2\n",
            "Enter exponent: 3\n",
            "Value is:  8\n",
            "Try again? n\n",
            "Bye\n"
          ]
        }
      ]
    },
    {
      "cell_type": "code",
      "source": [
        "# the sum from 1 to n\n",
        "n = int(input(\"select a number: \"))\n",
        "sum1= 0\n",
        "for i in range (1,n+1):\n",
        "  sum1+= i\n",
        "print(\"the sum from 1 to n is:\", sum1)"
      ],
      "metadata": {
        "id": "oCv0CjvepHPz",
        "colab": {
          "base_uri": "https://localhost:8080/"
        },
        "outputId": "7cbe357b-9881-49fd-f281-1c1dc29d651a"
      },
      "id": "oCv0CjvepHPz",
      "execution_count": 24,
      "outputs": [
        {
          "output_type": "stream",
          "name": "stdout",
          "text": [
            "select a number: 10\n",
            "the sum from 1 to n is: 55\n"
          ]
        }
      ]
    },
    {
      "cell_type": "markdown",
      "source": [
        "<font color='red'>Complete the codes in the cell below."
      ],
      "metadata": {
        "id": "GhPxXeFbpKdz"
      },
      "id": "GhPxXeFbpKdz"
    },
    {
      "cell_type": "code",
      "source": [
        "# define a function that accepts one argument/number: N\n",
        "# and returns the sum of the squares of the first N natural numbers: e.g., N= 4, sumSquareN= 1*1+2*2+3*3+4*4 =30\n",
        "# a function name could be sumSquareN (or something similar)\n",
        "def sumSquareN(N):\n",
        "  sum1 = 0\n",
        "  #XXX\n",
        "  for i in range(1, N+1):\n",
        "    sum1+= i*i\n",
        "  print(\"the sum of the squares of the first N natural numbers is:\", sum1)"
      ],
      "metadata": {
        "id": "F3JlztbMpMdL"
      },
      "id": "F3JlztbMpMdL",
      "execution_count": 25,
      "outputs": []
    },
    {
      "cell_type": "code",
      "source": [
        "sumSquareN(N=4)"
      ],
      "metadata": {
        "id": "hpLSfJ7JpNOL",
        "colab": {
          "base_uri": "https://localhost:8080/"
        },
        "outputId": "e7f18d6c-7c8e-4734-e809-bfc985021d95"
      },
      "id": "hpLSfJ7JpNOL",
      "execution_count": 26,
      "outputs": [
        {
          "output_type": "stream",
          "name": "stdout",
          "text": [
            "the sum of the squares of the first N natural numbers is: 30\n"
          ]
        }
      ]
    },
    {
      "cell_type": "markdown",
      "source": [
        "## Use the standard modules"
      ],
      "metadata": {
        "id": "HcqXMOVVrhgD"
      },
      "id": "HcqXMOVVrhgD"
    },
    {
      "cell_type": "code",
      "source": [
        "# One way: import the module\n",
        "import random\n",
        "randint(1, 6)         # Is the code working?\n",
        "#random.randint(1, 6) # How about this one"
      ],
      "metadata": {
        "id": "lBtZppQwrmgS",
        "colab": {
          "base_uri": "https://localhost:8080/",
          "height": 193
        },
        "outputId": "e3a764fb-8d5b-4c5a-f7c3-ea064d746bae"
      },
      "id": "lBtZppQwrmgS",
      "execution_count": 27,
      "outputs": [
        {
          "output_type": "error",
          "ename": "NameError",
          "evalue": "name 'randint' is not defined",
          "traceback": [
            "\u001b[0;31m---------------------------------------------------------------------------\u001b[0m",
            "\u001b[0;31mNameError\u001b[0m                                 Traceback (most recent call last)",
            "\u001b[0;32m<ipython-input-27-27feddb26224>\u001b[0m in \u001b[0;36m<cell line: 3>\u001b[0;34m()\u001b[0m\n\u001b[1;32m      1\u001b[0m \u001b[0;31m# One way: import the module\u001b[0m\u001b[0;34m\u001b[0m\u001b[0;34m\u001b[0m\u001b[0m\n\u001b[1;32m      2\u001b[0m \u001b[0;32mimport\u001b[0m \u001b[0mrandom\u001b[0m\u001b[0;34m\u001b[0m\u001b[0;34m\u001b[0m\u001b[0m\n\u001b[0;32m----> 3\u001b[0;31m \u001b[0mrandint\u001b[0m\u001b[0;34m(\u001b[0m\u001b[0;36m1\u001b[0m\u001b[0;34m,\u001b[0m \u001b[0;36m6\u001b[0m\u001b[0;34m)\u001b[0m         \u001b[0;31m# Is the code working?\u001b[0m\u001b[0;34m\u001b[0m\u001b[0;34m\u001b[0m\u001b[0m\n\u001b[0m\u001b[1;32m      4\u001b[0m \u001b[0;31m#random.randint(1, 6) # How about this one\u001b[0m\u001b[0;34m\u001b[0m\u001b[0;34m\u001b[0m\u001b[0m\n",
            "\u001b[0;31mNameError\u001b[0m: name 'randint' is not defined"
          ]
        }
      ]
    },
    {
      "cell_type": "code",
      "source": [
        "random.randint(1,6)"
      ],
      "metadata": {
        "colab": {
          "base_uri": "https://localhost:8080/"
        },
        "id": "MF5nzr_sSZfG",
        "outputId": "02aa1512-3a1d-4d20-ab0a-c29bdc339529"
      },
      "id": "MF5nzr_sSZfG",
      "execution_count": 28,
      "outputs": [
        {
          "output_type": "execute_result",
          "data": {
            "text/plain": [
              "5"
            ]
          },
          "metadata": {},
          "execution_count": 28
        }
      ]
    },
    {
      "cell_type": "code",
      "source": [
        "# 2nd way: import the module as sth (a short name)\n",
        "import math as ms\n",
        "math.sqrt(64)         # Is the code working?\n",
        "#ms.sqrt(64)          # How about this one"
      ],
      "metadata": {
        "id": "xhU1OEv_rooB",
        "colab": {
          "base_uri": "https://localhost:8080/",
          "height": 193
        },
        "outputId": "6d18be19-3dec-49e9-c901-9c1ceceede38"
      },
      "id": "xhU1OEv_rooB",
      "execution_count": 29,
      "outputs": [
        {
          "output_type": "error",
          "ename": "NameError",
          "evalue": "name 'math' is not defined",
          "traceback": [
            "\u001b[0;31m---------------------------------------------------------------------------\u001b[0m",
            "\u001b[0;31mNameError\u001b[0m                                 Traceback (most recent call last)",
            "\u001b[0;32m<ipython-input-29-6b9934dd0355>\u001b[0m in \u001b[0;36m<cell line: 3>\u001b[0;34m()\u001b[0m\n\u001b[1;32m      1\u001b[0m \u001b[0;31m# 2nd way: import the module as sth (a short name)\u001b[0m\u001b[0;34m\u001b[0m\u001b[0;34m\u001b[0m\u001b[0m\n\u001b[1;32m      2\u001b[0m \u001b[0;32mimport\u001b[0m \u001b[0mmath\u001b[0m \u001b[0;32mas\u001b[0m \u001b[0mms\u001b[0m\u001b[0;34m\u001b[0m\u001b[0;34m\u001b[0m\u001b[0m\n\u001b[0;32m----> 3\u001b[0;31m \u001b[0mmath\u001b[0m\u001b[0;34m.\u001b[0m\u001b[0msqrt\u001b[0m\u001b[0;34m(\u001b[0m\u001b[0;36m64\u001b[0m\u001b[0;34m)\u001b[0m         \u001b[0;31m# Is the code working?\u001b[0m\u001b[0;34m\u001b[0m\u001b[0;34m\u001b[0m\u001b[0m\n\u001b[0m\u001b[1;32m      4\u001b[0m \u001b[0;31m#ms.sqrt(64)          # How about this one\u001b[0m\u001b[0;34m\u001b[0m\u001b[0;34m\u001b[0m\u001b[0m\n",
            "\u001b[0;31mNameError\u001b[0m: name 'math' is not defined"
          ]
        }
      ]
    },
    {
      "cell_type": "code",
      "source": [
        "ms.sqrt(64)"
      ],
      "metadata": {
        "colab": {
          "base_uri": "https://localhost:8080/"
        },
        "id": "FFhhT86SSVpc",
        "outputId": "4eaee787-bb86-4795-9603-e9f8701538a3"
      },
      "id": "FFhhT86SSVpc",
      "execution_count": 30,
      "outputs": [
        {
          "output_type": "execute_result",
          "data": {
            "text/plain": [
              "8.0"
            ]
          },
          "metadata": {},
          "execution_count": 30
        }
      ]
    },
    {
      "cell_type": "code",
      "source": [
        "# 3rd way: from module import a function\n",
        "from math import sqrt\n",
        "sqrt(81)       # Is the code working"
      ],
      "metadata": {
        "id": "00Ppt8H0rqSa",
        "colab": {
          "base_uri": "https://localhost:8080/"
        },
        "outputId": "853887ab-ca12-4627-9763-befcb0231d27"
      },
      "id": "00Ppt8H0rqSa",
      "execution_count": 31,
      "outputs": [
        {
          "output_type": "execute_result",
          "data": {
            "text/plain": [
              "9.0"
            ]
          },
          "metadata": {},
          "execution_count": 31
        }
      ]
    },
    {
      "cell_type": "code",
      "source": [
        "# 4th way: from module import a function as sth (a short name)\n",
        "from math import pow as p\n",
        "p(3, 4)"
      ],
      "metadata": {
        "id": "82j41FKh8Fxo",
        "colab": {
          "base_uri": "https://localhost:8080/"
        },
        "outputId": "f7aef5b4-21cd-4fa1-85c9-c7743baff86d"
      },
      "id": "82j41FKh8Fxo",
      "execution_count": 32,
      "outputs": [
        {
          "output_type": "execute_result",
          "data": {
            "text/plain": [
              "81.0"
            ]
          },
          "metadata": {},
          "execution_count": 32
        }
      ]
    },
    {
      "cell_type": "markdown",
      "source": [
        "## Define and call a **main()** function\n",
        "* a simple way to call a main() function\n",
        "* a more professional way to call a main() function"
      ],
      "metadata": {
        "id": "tPIP33gconWJ"
      },
      "id": "tPIP33gconWJ"
    },
    {
      "cell_type": "code",
      "source": [
        "# define a main() function that\n",
        "# prompts the user to enter N\n",
        "# calls the sumSquareN function defined before\n",
        "# outputs  \"The sum of the squares of numbers from 1 to N is XXX\")\n",
        "\n",
        "def main():\n",
        "  UI = int(input(\"select a number: \"))\n",
        "  sumSquareN(UI)"
      ],
      "metadata": {
        "id": "hzrAw1dSpQ0z"
      },
      "id": "hzrAw1dSpQ0z",
      "execution_count": 33,
      "outputs": []
    },
    {
      "cell_type": "code",
      "source": [
        "main()   # a simple way to call a main() function"
      ],
      "metadata": {
        "id": "h3dkx76wpTAG",
        "colab": {
          "base_uri": "https://localhost:8080/"
        },
        "outputId": "52762886-e412-401b-90b7-817a803d88fe"
      },
      "id": "h3dkx76wpTAG",
      "execution_count": 34,
      "outputs": [
        {
          "output_type": "stream",
          "name": "stdout",
          "text": [
            "select a number: 10\n",
            "the sum of the squares of the first N natural numbers is: 385\n"
          ]
        }
      ]
    },
    {
      "cell_type": "code",
      "source": [
        "# Use a more professional way to call the main() function\n",
        "if __name__ == \"__main__\":     # if this module is the main module\n",
        "    main()                       # call the main() function"
      ],
      "metadata": {
        "id": "-aOqapkUpVQb",
        "colab": {
          "base_uri": "https://localhost:8080/"
        },
        "outputId": "db5158b1-d2dd-4ee4-ce44-7b89aae65711"
      },
      "id": "-aOqapkUpVQb",
      "execution_count": 35,
      "outputs": [
        {
          "output_type": "stream",
          "name": "stdout",
          "text": [
            "select a number: 10\n",
            "the sum of the squares of the first N natural numbers is: 385\n"
          ]
        }
      ]
    },
    {
      "cell_type": "markdown",
      "source": [
        "Python's **if \\_\\_name\\_\\_ == \"\\_\\_main\\_\\_\":** construct enables a single Python file to not only support reusable code and functions, but also contain executable code that will not explicitly run when a module is imported.\n",
        "* If a file containing this code was run directly on the Python runtime, the code associated with the if condition would execute. If the file was imported as a module, the code would not run.\n",
        "\n",
        "* The if name equals main block guards the calling of main() function, to ensure it executes only when the file is intentionally run directly as a script or application."
      ],
      "metadata": {
        "id": "4AH93w0qqbK7"
      },
      "id": "4AH93w0qqbK7"
    },
    {
      "cell_type": "markdown",
      "id": "c204a999",
      "metadata": {
        "id": "c204a999"
      },
      "source": [
        "## Functions Are Objects"
      ]
    },
    {
      "cell_type": "markdown",
      "id": "3bdfd1ef",
      "metadata": {
        "id": "3bdfd1ef"
      },
      "source": [
        "Suppose we were doing some data cleaning and needed to apply a bunch of transformations to the following list of strings:"
      ]
    },
    {
      "cell_type": "code",
      "execution_count": 36,
      "id": "07465aeb",
      "metadata": {
        "id": "07465aeb"
      },
      "outputs": [],
      "source": [
        "states = [\"   Alabama \", \"Georgia!\", \"Georgia\", \"georgia\", \"FlOrIda\",\n",
        "          \"south   carolina##\", \"West       virginia?\"]"
      ]
    },
    {
      "cell_type": "markdown",
      "id": "14f94f15",
      "metadata": {
        "id": "14f94f15"
      },
      "source": [
        "Lots of things need to happen to make this list of strings uniform and ready for analysis: stripping whitespace, removing punctuation symbols, and standardizing proper capitalization. One way to do this is to use built-in string methods along with the **`re`** standard library module for regular expressions:"
      ]
    },
    {
      "cell_type": "code",
      "execution_count": 37,
      "id": "dd2d12b9",
      "metadata": {
        "id": "dd2d12b9"
      },
      "outputs": [],
      "source": [
        "import re\n",
        "\n",
        "def clean_strings(strings):\n",
        "    result = []\n",
        "    for value in strings:\n",
        "        value = value.strip()\n",
        "        value = re.sub(\"[!#?]\", \"\", value)\n",
        "        value = re.sub(r'\\s+', ' ', value)\n",
        "        value = value.title()\n",
        "        result.append(value)\n",
        "    return result"
      ]
    },
    {
      "cell_type": "code",
      "execution_count": 38,
      "id": "a02b7b4e",
      "metadata": {
        "id": "a02b7b4e",
        "colab": {
          "base_uri": "https://localhost:8080/"
        },
        "outputId": "f08574f6-774c-4edb-ebd7-6df93882d310"
      },
      "outputs": [
        {
          "output_type": "execute_result",
          "data": {
            "text/plain": [
              "['Alabama',\n",
              " 'Georgia',\n",
              " 'Georgia',\n",
              " 'Georgia',\n",
              " 'Florida',\n",
              " 'South Carolina',\n",
              " 'West Virginia']"
            ]
          },
          "metadata": {},
          "execution_count": 38
        }
      ],
      "source": [
        "clean_strings(states)"
      ]
    },
    {
      "cell_type": "markdown",
      "id": "3f24d544",
      "metadata": {
        "id": "3f24d544"
      },
      "source": [
        "An alternative approach that you may find useful is to make a list of the operations you want to apply to a particular set of strings:"
      ]
    },
    {
      "cell_type": "code",
      "execution_count": 39,
      "id": "c64abd0b",
      "metadata": {
        "id": "c64abd0b"
      },
      "outputs": [],
      "source": [
        "def remove_punctuation(value):\n",
        "    return re.sub(\"[!#?]\", \"\", value)\n",
        "\n",
        "def remove_extraSpace(value):\n",
        "    return re.sub(r'\\s+', ' ', value)\n",
        "\n",
        "clean_ops = [str.strip, remove_punctuation, remove_extraSpace,  str.title] # List of operations/functions\n",
        "\n",
        "def clean_strings(strings, ops):\n",
        "    result = []\n",
        "    for value in strings:\n",
        "        for func in ops:\n",
        "            value = func(value)\n",
        "        result.append(value)\n",
        "    return result"
      ]
    },
    {
      "cell_type": "code",
      "execution_count": 40,
      "id": "53cf4b53",
      "metadata": {
        "id": "53cf4b53",
        "colab": {
          "base_uri": "https://localhost:8080/"
        },
        "outputId": "cdacbd80-457f-4781-8a32-b81394024039"
      },
      "outputs": [
        {
          "output_type": "execute_result",
          "data": {
            "text/plain": [
              "['Alabama',\n",
              " 'Georgia',\n",
              " 'Georgia',\n",
              " 'Georgia',\n",
              " 'Florida',\n",
              " 'South Carolina',\n",
              " 'West Virginia']"
            ]
          },
          "metadata": {},
          "execution_count": 40
        }
      ],
      "source": [
        "clean_strings(states, clean_ops) # The clean_strings function is also now more reusable and generic."
      ]
    },
    {
      "cell_type": "markdown",
      "id": "00075bef",
      "metadata": {
        "id": "00075bef"
      },
      "source": [
        "You can use functions as arguments to other functions like the built-in **`map()`** function, which applies a function to a sequence of some kind:"
      ]
    },
    {
      "cell_type": "code",
      "execution_count": 41,
      "id": "a99fcd17",
      "metadata": {
        "id": "a99fcd17",
        "colab": {
          "base_uri": "https://localhost:8080/"
        },
        "outputId": "3c42b132-4469-4a87-b354-2c88d2009359"
      },
      "outputs": [
        {
          "output_type": "stream",
          "name": "stdout",
          "text": [
            "   Alabama \n",
            "Georgia\n",
            "Georgia\n",
            "georgia\n",
            "FlOrIda\n",
            "south   carolina\n",
            "West       virginia\n"
          ]
        }
      ],
      "source": [
        "for x in map(remove_punctuation, states):\n",
        "    print(x)"
      ]
    },
    {
      "cell_type": "code",
      "source": [
        "help(map)"
      ],
      "metadata": {
        "id": "BUlUKX141r7D",
        "colab": {
          "base_uri": "https://localhost:8080/"
        },
        "outputId": "7b5b9e9d-1780-4155-a4be-15c6d4de1508"
      },
      "id": "BUlUKX141r7D",
      "execution_count": 42,
      "outputs": [
        {
          "output_type": "stream",
          "name": "stdout",
          "text": [
            "Help on class map in module builtins:\n",
            "\n",
            "class map(object)\n",
            " |  map(func, *iterables) --> map object\n",
            " |  \n",
            " |  Make an iterator that computes the function using arguments from\n",
            " |  each of the iterables.  Stops when the shortest iterable is exhausted.\n",
            " |  \n",
            " |  Methods defined here:\n",
            " |  \n",
            " |  __getattribute__(self, name, /)\n",
            " |      Return getattr(self, name).\n",
            " |  \n",
            " |  __iter__(self, /)\n",
            " |      Implement iter(self).\n",
            " |  \n",
            " |  __next__(self, /)\n",
            " |      Implement next(self).\n",
            " |  \n",
            " |  __reduce__(...)\n",
            " |      Return state information for pickling.\n",
            " |  \n",
            " |  ----------------------------------------------------------------------\n",
            " |  Static methods defined here:\n",
            " |  \n",
            " |  __new__(*args, **kwargs) from builtins.type\n",
            " |      Create and return a new object.  See help(type) for accurate signature.\n",
            "\n"
          ]
        }
      ]
    },
    {
      "cell_type": "code",
      "source": [
        "?map"
      ],
      "metadata": {
        "id": "4YirB1rsGqu7"
      },
      "id": "4YirB1rsGqu7",
      "execution_count": 43,
      "outputs": []
    },
    {
      "cell_type": "markdown",
      "id": "826d146d",
      "metadata": {
        "id": "826d146d"
      },
      "source": [
        "**`map()`** can be used as an alternative to list comprehensions without any filter."
      ]
    },
    {
      "cell_type": "markdown",
      "id": "147cca10",
      "metadata": {
        "id": "147cca10"
      },
      "source": [
        "## Anonymous (Lambda) Functions"
      ]
    },
    {
      "cell_type": "markdown",
      "id": "71fb1367",
      "metadata": {
        "id": "71fb1367"
      },
      "source": [
        "Python has support for so-called anonymous or lambda functions, which are a way of writing functions consisting of a single statement, the result of which is the return value. They are defined with the **`lambda`** keyword, which has no meaning other than “we are declaring an anonymous function”:"
      ]
    },
    {
      "cell_type": "code",
      "execution_count": 44,
      "id": "1be662be",
      "metadata": {
        "id": "1be662be"
      },
      "outputs": [],
      "source": [
        "def short_function(x): # Conventional function\n",
        "    return x * 2"
      ]
    },
    {
      "cell_type": "code",
      "execution_count": 45,
      "id": "ac2b0f45",
      "metadata": {
        "id": "ac2b0f45",
        "colab": {
          "base_uri": "https://localhost:8080/"
        },
        "outputId": "cea9ff28-21ac-4d36-c146-5658e4b52fc1"
      },
      "outputs": [
        {
          "output_type": "execute_result",
          "data": {
            "text/plain": [
              "4"
            ]
          },
          "metadata": {},
          "execution_count": 45
        }
      ],
      "source": [
        "num = short_function(2)\n",
        "num"
      ]
    },
    {
      "cell_type": "code",
      "execution_count": 46,
      "id": "bdfb3396",
      "metadata": {
        "id": "bdfb3396",
        "colab": {
          "base_uri": "https://localhost:8080/"
        },
        "outputId": "a22ab2b2-b4c2-4a24-f94b-68a303570252"
      },
      "outputs": [
        {
          "output_type": "execute_result",
          "data": {
            "text/plain": [
              "4"
            ]
          },
          "metadata": {},
          "execution_count": 46
        }
      ],
      "source": [
        "equiv_anon = lambda x: x * 2 # Lambda Function\n",
        "equiv_anon(2)"
      ]
    },
    {
      "cell_type": "markdown",
      "id": "94d24dd1",
      "metadata": {
        "id": "94d24dd1"
      },
      "source": [
        "It’s often less typing (and clearer) to pass a lambda function as opposed to writing a full-out function declaration or even assigning the lambda function to a local variable:"
      ]
    },
    {
      "cell_type": "code",
      "execution_count": 47,
      "id": "338dae5d",
      "metadata": {
        "id": "338dae5d",
        "colab": {
          "base_uri": "https://localhost:8080/"
        },
        "outputId": "5cf8ec58-706a-4c8b-ce3b-097c10cddea7"
      },
      "outputs": [
        {
          "output_type": "execute_result",
          "data": {
            "text/plain": [
              "[8, 0, 2, 10, 12]"
            ]
          },
          "metadata": {},
          "execution_count": 47
        }
      ],
      "source": [
        "def apply_to_list(some_list, f):\n",
        "    return [f(x) for x in some_list] # List comprenhension\n",
        "\n",
        "ints = [4, 0, 1, 5, 6]\n",
        "apply_to_list(ints, lambda x: x * 2) # argument 'f' is now Lambda function"
      ]
    },
    {
      "cell_type": "code",
      "source": [
        "squared_ints = (lambda x: x**2)"
      ],
      "metadata": {
        "id": "DekLtC7LS9mm"
      },
      "id": "DekLtC7LS9mm",
      "execution_count": 48,
      "outputs": []
    },
    {
      "cell_type": "code",
      "source": [
        "squared_ints"
      ],
      "metadata": {
        "colab": {
          "base_uri": "https://localhost:8080/"
        },
        "id": "HPv2bcp5ThTD",
        "outputId": "4392c5c0-dad1-42a2-9c7d-ce9d945af8f4"
      },
      "id": "HPv2bcp5ThTD",
      "execution_count": 49,
      "outputs": [
        {
          "output_type": "execute_result",
          "data": {
            "text/plain": [
              "<function __main__.<lambda>(x)>"
            ]
          },
          "metadata": {},
          "execution_count": 49
        }
      ]
    },
    {
      "cell_type": "code",
      "source": [
        "squared_ints = map(lambda x: x**2, ints)"
      ],
      "metadata": {
        "id": "BxMCCR99TvFx"
      },
      "id": "BxMCCR99TvFx",
      "execution_count": 50,
      "outputs": []
    },
    {
      "cell_type": "code",
      "source": [
        "type(squared_ints)"
      ],
      "metadata": {
        "colab": {
          "base_uri": "https://localhost:8080/"
        },
        "id": "8-7BZjNYUBwQ",
        "outputId": "8d0aea1c-24af-4689-c7b0-1ca3ff4597fd"
      },
      "id": "8-7BZjNYUBwQ",
      "execution_count": 51,
      "outputs": [
        {
          "output_type": "execute_result",
          "data": {
            "text/plain": [
              "map"
            ]
          },
          "metadata": {},
          "execution_count": 51
        }
      ]
    },
    {
      "cell_type": "markdown",
      "id": "20d4c859",
      "metadata": {
        "id": "20d4c859"
      },
      "source": [
        "As another example, suppose you wanted to sort a collection of strings by the number of distinct letters in each string:"
      ]
    },
    {
      "cell_type": "code",
      "execution_count": 1,
      "id": "dcc1547d",
      "metadata": {
        "id": "dcc1547d",
        "colab": {
          "base_uri": "https://localhost:8080/"
        },
        "outputId": "4ec31799-ce20-4a7b-a404-e6e941051f8a"
      },
      "outputs": [
        {
          "output_type": "execute_result",
          "data": {
            "text/plain": [
              "['aaaa', 'foo', 'abab', 'bar', 'card']"
            ]
          },
          "metadata": {},
          "execution_count": 1
        }
      ],
      "source": [
        "strings = [\"foo\", \"card\", \"bar\", \"aaaa\", \"abab\"]\n",
        "\n",
        "strings.sort(key=lambda x: len(set(x))) # Pass a lambda function to the list's sort() method.\n",
        "strings"
      ]
    },
    {
      "cell_type": "code",
      "source": [
        "strings.sort(key=lambda x: len(x))\n",
        "strings"
      ],
      "metadata": {
        "colab": {
          "base_uri": "https://localhost:8080/"
        },
        "id": "woKjrSs8RkNV",
        "outputId": "3552a119-9cb4-4849-dfd8-a70d5e80ae49"
      },
      "id": "woKjrSs8RkNV",
      "execution_count": 2,
      "outputs": [
        {
          "output_type": "execute_result",
          "data": {
            "text/plain": [
              "['foo', 'bar', 'aaaa', 'abab', 'card']"
            ]
          },
          "metadata": {},
          "execution_count": 2
        }
      ]
    },
    {
      "cell_type": "code",
      "source": [
        "set(\"foo\")"
      ],
      "metadata": {
        "colab": {
          "base_uri": "https://localhost:8080/"
        },
        "id": "gFhfeePxS3LM",
        "outputId": "85ec1a29-d1f9-4636-a613-5d7c799b615d"
      },
      "id": "gFhfeePxS3LM",
      "execution_count": 3,
      "outputs": [
        {
          "output_type": "execute_result",
          "data": {
            "text/plain": [
              "{'f', 'o'}"
            ]
          },
          "metadata": {},
          "execution_count": 3
        }
      ]
    },
    {
      "cell_type": "code",
      "source": [
        "len(set(\"foo\"))"
      ],
      "metadata": {
        "id": "sYJfUczOS_Ca",
        "outputId": "d62f5cc0-7fd6-46b8-e565-483c12964bdc",
        "colab": {
          "base_uri": "https://localhost:8080/"
        }
      },
      "id": "sYJfUczOS_Ca",
      "execution_count": 4,
      "outputs": [
        {
          "output_type": "execute_result",
          "data": {
            "text/plain": [
              "2"
            ]
          },
          "metadata": {},
          "execution_count": 4
        }
      ]
    },
    {
      "cell_type": "code",
      "source": [
        "set(\"card\")"
      ],
      "metadata": {
        "colab": {
          "base_uri": "https://localhost:8080/"
        },
        "id": "W5vSevVMS6oD",
        "outputId": "b8b0d53c-fc4d-46a1-e5e9-ac57fbee42e4"
      },
      "id": "W5vSevVMS6oD",
      "execution_count": 5,
      "outputs": [
        {
          "output_type": "execute_result",
          "data": {
            "text/plain": [
              "{'a', 'c', 'd', 'r'}"
            ]
          },
          "metadata": {},
          "execution_count": 5
        }
      ]
    },
    {
      "cell_type": "code",
      "source": [
        "strings.sort()\n",
        "strings"
      ],
      "metadata": {
        "colab": {
          "base_uri": "https://localhost:8080/"
        },
        "id": "qtwxnUX6RWOc",
        "outputId": "ae8fda62-9bb5-4ab4-ca31-b6e5ce15fc45"
      },
      "id": "qtwxnUX6RWOc",
      "execution_count": 6,
      "outputs": [
        {
          "output_type": "execute_result",
          "data": {
            "text/plain": [
              "['aaaa', 'abab', 'bar', 'card', 'foo']"
            ]
          },
          "metadata": {},
          "execution_count": 6
        }
      ]
    },
    {
      "cell_type": "code",
      "source": [
        "def applylist (strings):\n",
        "  return [len(set(x)) for x in strings]\n",
        "\n",
        "applylist(strings)"
      ],
      "metadata": {
        "colab": {
          "base_uri": "https://localhost:8080/"
        },
        "id": "aRLfIBgZ6lQp",
        "outputId": "f044b23e-ba71-4357-add4-ffbad5ec4135"
      },
      "id": "aRLfIBgZ6lQp",
      "execution_count": 7,
      "outputs": [
        {
          "output_type": "execute_result",
          "data": {
            "text/plain": [
              "[1, 2, 3, 4, 2]"
            ]
          },
          "metadata": {},
          "execution_count": 7
        }
      ]
    },
    {
      "cell_type": "markdown",
      "source": [
        "\n",
        "```\n",
        "lambda arguments: expression\n",
        "```\n",
        "The expression is exexcuted and the result is returned.\n"
      ],
      "metadata": {
        "id": "yUr0O31G3OhU"
      },
      "id": "yUr0O31G3OhU"
    },
    {
      "cell_type": "code",
      "source": [
        "# Example: multiply argument a with argument b and return the result:\n",
        "x = lambda a, b : a * b\n",
        "print(x(5, 6))"
      ],
      "metadata": {
        "id": "BV6jLmG525Cd",
        "colab": {
          "base_uri": "https://localhost:8080/"
        },
        "outputId": "cbda3217-2e00-4304-a427-00000d266c9e"
      },
      "id": "BV6jLmG525Cd",
      "execution_count": 8,
      "outputs": [
        {
          "output_type": "stream",
          "name": "stdout",
          "text": [
            "30\n"
          ]
        }
      ]
    },
    {
      "cell_type": "code",
      "source": [
        "# Example: summarize argument a, b, and c and return the result:\n",
        "x = lambda a, b, c : a + b + c\n",
        "print(x(5, 6, 2))"
      ],
      "metadata": {
        "id": "PFgEyJSs28DC",
        "colab": {
          "base_uri": "https://localhost:8080/"
        },
        "outputId": "79578665-130d-4872-cc49-5118368d10cb"
      },
      "id": "PFgEyJSs28DC",
      "execution_count": 9,
      "outputs": [
        {
          "output_type": "stream",
          "name": "stdout",
          "text": [
            "13\n"
          ]
        }
      ]
    },
    {
      "cell_type": "markdown",
      "id": "878f9f30",
      "metadata": {
        "id": "878f9f30"
      },
      "source": [
        "<font color='red'>Complete the codes in the cell below. Please replace the \"XXX\" placeholder with your own codes. </font>"
      ]
    },
    {
      "cell_type": "code",
      "execution_count": 14,
      "id": "471402ec",
      "metadata": {
        "id": "471402ec",
        "colab": {
          "base_uri": "https://localhost:8080/"
        },
        "outputId": "3ac8d9cc-ebe8-462c-8390-ba03a89d27a2"
      },
      "outputs": [
        {
          "output_type": "stream",
          "name": "stdout",
          "text": [
            "Apple Banana Cherry Date Eggplant \n",
            "elppa ananab yrrehc etad tnalpgge \n",
            "APPLE BANANA CHERRY DATE EGGPLANT \n",
            "a b c d e "
          ]
        }
      ],
      "source": [
        "# Create a list of lambda functions for strings (capitalize, reverse, uppercase, XXX: first letter)\n",
        "myfunctions = [lambda s: s.capitalize(), lambda s: s[::-1], lambda s: s.upper(), lambda s: s[0]]\n",
        "\n",
        "# Create a list of five strings\n",
        "strings = [\"apple\", \"banana\", \"cherry\", \"date\", \"eggplant\"]\n",
        "\n",
        "# Use map() and a for loop to capitalize\n",
        "for word in map(myfunctions[0], strings):\n",
        "    print(word, end=\" \")\n",
        "\n",
        "# Use map() and a for loop to reverse\n",
        "print()\n",
        "for word in map(myfunctions[1], strings):\n",
        "    print(word, end=\" \")\n",
        "\n",
        "# Use map() and a for loop to uppercase\n",
        "print()\n",
        "for word in map(myfunctions[2], strings):\n",
        "    print(word, end=\" \")\n",
        "\n",
        "# Use map() and a for loop to first letter\n",
        "print()\n",
        "for word in map(myfunctions[3], strings):\n",
        "    print(word, end=\" \")\n"
      ]
    },
    {
      "cell_type": "markdown",
      "id": "fe66e4a0",
      "metadata": {
        "id": "fe66e4a0"
      },
      "source": [
        "~~~ More to be added next class"
      ]
    }
  ],
  "metadata": {
    "kernelspec": {
      "display_name": "Python 3 (ipykernel)",
      "language": "python",
      "name": "python3"
    },
    "language_info": {
      "codemirror_mode": {
        "name": "ipython",
        "version": 3
      },
      "file_extension": ".py",
      "mimetype": "text/x-python",
      "name": "python",
      "nbconvert_exporter": "python",
      "pygments_lexer": "ipython3",
      "version": "3.11.5"
    },
    "colab": {
      "provenance": []
    }
  },
  "nbformat": 4,
  "nbformat_minor": 5
}